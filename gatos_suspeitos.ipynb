{
 "cells": [
  {
   "cell_type": "markdown",
   "metadata": {
    "colab_type": "text",
    "id": "view-in-github"
   },
   "source": [
    "<a href=\"https://colab.research.google.com/github/Sartorio12/Projeto_Modulo_5/blob/main/notebook1.ipynb\" target=\"_parent\"><img src=\"https://colab.research.google.com/assets/colab-badge.svg\" alt=\"Open In Colab\"/></a>"
   ]
  },
  {
   "cell_type": "markdown",
   "metadata": {
    "id": "w8Pkkz7384Q5"
   },
   "source": [
    "# <center>Projeto Final do Módulo VI</center>\n",
    "<center> Alguns gastos suspeitos identificados\n",
    "\n",
    "<center><img src='https://i.imgur.com/QLJaHpa.png' style=\"width:200px\">\n",
    "\n",
    "<center><a href=\"https://colab.research.google.com/github/Sartorio12/Projeto_Modulo_5/blob/main/notebook1.ipynb\" target=\"_parent\"><img src=\"https://colab.research.google.com/assets/colab-badge.svg\" alt=\"Open In Colab\"/></a>\n",
    "\n",
    "**Grupo 5:** <a href=\"https://github.com/LeGuigs\" target=\"_blank\">Guilherme Rezende</a> ; <a href=\"https://github.com/leticiafelippe\" target=\"_blank\">Letícia Felippe</a> ; <a href=\"https://github.com/sartorio12\" target=\"_blank\">Mateus Sartorio</a> ; <a href=\"https://github.com/hara0-tavares\" target=\"_blank\">Harão Tavares</a> ; <a href=\"https://github.com/jonathaslkc\" target=\"_blank\">Jonathas Carvalho</a>\n",
    "\n"
   ]
  },
  {
   "cell_type": "markdown",
   "metadata": {
    "id": "hytt2A2k84Q9"
   },
   "source": [
    "<center><img src='https://i.imgur.com/QadqCNH.jpg' style=\"width:600px\">\n",
    "<center>Fonte: Agência Câmara de Notícias — Roque de Sá/Agência Senado"
   ]
  },
  {
   "cell_type": "markdown",
   "metadata": {
    "id": "2QqPkbsd84Q-"
   },
   "source": [
    "---\n",
    "\n",
    "# **1.** Sobre o estudo e objetivos"
   ]
  },
  {
   "cell_type": "markdown",
   "metadata": {
    "id": "WpcYUhQ884Q_"
   },
   "source": [
    "O que você imagina quando ouve o conceito **\"Cota Parlamentar\"** ou **\"Cota para o Exercício da Atividade Parlamentar (CEAP)\"**?\n",
    "\n",
    "Você sabia que é através da **CEAP** que deputados e senadores custeiam suas despesas em atividades parlamentares? O mais interessante disso, é que os dados da CEAP que iremos analisar hoje são abertos e podem ser acessados por qualquer pesso, ou seja, qualquer pessoa pode ver como os deputados e senadores utilizam essse tipo de recurso. \n",
    "\n",
    "Apesar de cobrir uma quantidade grande de despesas, os gastos com a CEAP devem seguir uma série de regras definidas pelo Ato da Mesa 43/2009. Isso quer dizer que os parlamentares não podem utilizar esses recursos de qualquer maneira. Alguns exemplos de gastos vedados são a aquisição de gêneros alimentícios (ex.: o parlamentar pode gastar com as suas refeições mas não pode comprar carne para o churrasco no fim de semana), gastos de caráter eleitoral e gastos com a participação em cursos de educação básica, graduação e pós-graduação.\n",
    "\n",
    "Além disso, como citado anteriormente, a CEAP é destinada a custear gastos exclusivamente vinculados ao exercício da atividade parlamentar, o que veda o seu uso para o benefício de terceiros, como por exemplo, o pagamento de refeições para outras pessoas além do próprio parlamentar.\n",
    "Apesar de todas essas regras, a fiscalização desses gastos é bastante falha, sendo comum o surgimento de denúncias sobre irregularidades.\n",
    "\n",
    "Neste cenário surgiu um projeto chamado Operação Serenata de Amor ( https://serenata.ai/ ), que tem como objetivo utilizar ferramentas de ciência de dados para fiscalizar gastos públicos e compartilhar informações relevantes com o público. O projeto tem uma série de módulos. Alguns deles são responsáveis por baixar e limpar os dados, outros por identificar irregularidades e por fim existem alguns módulos responsáveis pela divulgação de eventuais alertas de irregularidades. Um desses módulos de divulgação é o bot @RosieDaSerenata, responsável por publicar alertas de irregularidades no Twitter.\n",
    "\n",
    "<center><img src='https://i.imgur.com/AjyWlf1.jpg'>"
   ]
  },
  {
   "cell_type": "markdown",
   "metadata": {
    "id": "qXuQYpmx84RB"
   },
   "source": [
    "**É sobre isso que vamos tratar nesta análise, que tem dois focos principais:**\n",
    "- *Demonstrar como investigaremos esses dados utilizando Python.*\n",
    "- *Elaborar conceitos a respeito da utilização da CEAP nos últimos 3 anos, com destaques no cenário de pandemia(COVID-19).*\n",
    "\n",
    "#### <center> **Nós do grupo 5 esperamos que a leitura desse notebook seja esclarecedora e útil :)**"
   ]
  },
  {
   "cell_type": "markdown",
   "metadata": {
    "id": "zzvSqRuh84RB"
   },
   "source": [
    "# **2.** Começando a nossa análise"
   ]
  },
  {
   "cell_type": "markdown",
   "metadata": {
    "id": "DYBCfql084RC"
   },
   "source": [
    "Essa parte será um pouco teórica, pois nela exibiremos um pouco sobre a limpeza dos dados coletados no site da Câmara. Caso você queira somente acompanhar quais foram as nossas deduções baseadas nessas informações, pode pular para a parte X ( Preciso preencher a parte ).\n",
    "\n",
    "*Antes de mais nada, vamos apresentar um glossário sobre o DataSet:*\n",
    "\n",
    "- `Nome Parlamentar(txNomeParlamentar)` :  *Nome adotado pelo Parlamentar ao tomar posse do seu mandato.*\n",
    "- `ideCadastro(Identificador Único do Parlamentar)` : *Número que identifica unicamente um deputado federal na CD.*\n",
    "- `nuCarteiraParlamentar(Número da Carteira Parlamentar)` : *Documento usado para identificar um deputado federal na CD.*\n",
    "- `nuLegislatura(Número da  Legislatura)` : *No contexto da cota CEAP, representa o ano base de início da legislatura.*\n",
    "- `sgUF(Sigla da Unidade Federal)` : *Representa a UF do parlamentar.*\n",
    "- `sdPartido(Sigla do Partido)` : *Representa o partido do parlamentar.*\n",
    "- `codLegislatura(Código da Legislatura)` : *No contexto da cota CEAP, o seu conteúdo representa o código identificador da Legislatura.*\n",
    "- `numSubCota(Número da Subcota) `: *Representa o código do Tipo de Despesa, comprovada por meio da emissão de um documento fiscal, a qual é debitada na cota do deputado.*\n",
    "- `txtDescricao(Descrição da Subcota)` : *Descrição do Tipo de Despesa.*\n",
    "- `numEspecificacaoSubCota(Número da Especificação da Subcota)` : *Representa o código desta especificação mais detalhada.*\n",
    "- `txtDescricaoEspecificacao(Descrição da Especificação da Subcota)` : *Detalha o tipo de despesa efetuada.*\n",
    "- `txtFornecedor(Fornecedor)` : *Representa o fornecedor do produto ou serviço presente no documento fiscal.*\n",
    "- `txtCNPJCPF(CNPJ/CPF)` : *Indica se o fornecedor é CNPJ ou CPF , presente no documento fiscal.*\n",
    "- `txtNumero(Número do Documento)` : *Indica o número do documento do emissor da NF em questão.*\n",
    "- `indTipoDocumento(Indicativo de Tipo de Documento Fiscal)` : *Tipo de documento do fiscal – 0 para Nota Fiscal; 1 para Recibo; 2 para Despesa no Exterior.*\n",
    "- `datEmissao(Data de Emissão)` : *A data de emissão do documento.*\n",
    "- `vlrDocumento(Valor do Documento)` : *O seu conteúdo é o valor de face do documento fiscal ou o valor do documento que deu causa à despesa.*\n",
    "- `vlrGlosa(Valor da Glosa)` : *Valor da glosa do documento que deu causa à despesa.*\n",
    "- `vlrLiquido(Valor Liquido)` : *Valor líquido do documento (será calculado pela diferença entre o Valor do Documento e o Valor da Glosa)*\n",
    "- `numMes(Mês) `: *Indica o mês da emissão da nota.*\n",
    "- `numAno(Ano) `: *Indica o ano da emissão da nota.*\n",
    "- `numParcela(Número da Parcela)` : *O seu conteúdo representa o número da parcela do documento fiscal. Ocorre quando o documento tem de ser reembolsado de forma parcelada.*\n",
    "- `txtPassageiro(Nome do Passageiro)` : *O nome do passageiro, em caso da emissão do documento ser uma passagem aérea.*\n",
    "- `txtTrecho(Trecho)` : *Representa qual o trecho da viagem, somente em casos de viagem aérea.*\n",
    "- `numLote(Número do Lote) `: *Representa a capa do lote em que esse documento será incluído para ser entregue na Câmara para ressarcimento.*\n",
    "- `numRessarcimento(Número do Ressarcimento) `: *Indica o ressarcimento do qual o documento faz parte.*\n",
    "- `vlrRestituição(Valor da Restituição)` : *Indica o valor que será restituído sobre aquele documento.*\n",
    "- `nuDeputadoId(Identificador do Solicitante)` : *Número que identifica um Parlamentar ou Liderança na Transparência da Cota para Exercício da Atividade Parlamentar.*"
   ]
  },
  {
   "cell_type": "markdown",
   "metadata": {
    "id": "M0vl8brR84RD"
   },
   "source": [
    "## **2.1.** Materiais e métodos"
   ]
  },
  {
   "cell_type": "markdown",
   "metadata": {
    "id": "zz6xxH9X84RE"
   },
   "source": [
    "O presente trabalho foi desenvolvido utilizando `Google Colaboratory` e `Jupyter Notebook`, com a importação das seguintes bibliotecas:\n",
    "> * `Pandas`: é uma biblioteca para uso em Python, open-source e de uso gratuito (sob uma licença BSD), que fornece ferramentas para análise e manipulação de dados. ;<br>\n",
    "> * `Numpy`: é uma biblioteca para a linguagem Python com funções para se trabalhar com computação numérica. Seu principal objeto é o vetor n-dimensional, ou ndarray .;<br>\n",
    "> * `Matplotlib`: é uma biblioteca com recursos para a geração de gráficos 2D a partir de arrays. Gráficos comuns podem ser criados com alta qualidade a partir de comandos simples, inspirados nos comandos gráficos do MATLAB;<br>\n",
    "> * `Seaborn`: é uma biblioteca que atua em cima do matplotlib e ajuda a melhorar o visual dos gráficos, dando uma aparência mais bem acabada; e<br>\n",
    "> * `Datetime`: é um módulo que fornece as classes para manipulação de datas e horas. Ainda que a aritmética de data e hora seja suportada, o foco da implementação é na extração eficiente do atributo para formatação da saída e manipulação.\n",
    "\n",
    "A base de dados pode ser encontrada no site da Câmara ( https://www.camara.leg.br/cota-parlamentar/ ), de acesso livre.\n",
    "\n",
    "Para versionamento do código utilizamos o `Git` e `GitHub` para publicação do trabalho.\n",
    "\n",
    "Para organização e acompanhamento das tarefas entre os integrantes do grupo foi utilizado o `Trello`.\n",
    "\n",
    "As reuniões foram estabelecidas através da plataforma `Discord`."
   ]
  },
  {
   "cell_type": "markdown",
   "metadata": {
    "id": "yorWRC0y84RF"
   },
   "source": [
    "# **3.** Importando nossas bibliotecas"
   ]
  },
  {
   "cell_type": "markdown",
   "metadata": {
    "id": "lNWHLhJc84RF"
   },
   "source": [
    "A parte incial, simples importação de bibliotecas que serão utilizadas."
   ]
  },
  {
   "cell_type": "code",
   "execution_count": 3,
   "metadata": {
    "id": "6X5ldIquTfk9"
   },
   "outputs": [
    {
     "ename": "ModuleNotFoundError",
     "evalue": "No module named 'pandas'",
     "output_type": "error",
     "traceback": [
      "\u001b[1;31m---------------------------------------------------------------------------\u001b[0m",
      "\u001b[1;31mModuleNotFoundError\u001b[0m                       Traceback (most recent call last)",
      "\u001b[1;32mc:\\Users\\Resilia\\Documents\\GitHub\\Projeto_Modulo_6\\gatos_suspeitos.ipynb Cell 13'\u001b[0m in \u001b[0;36m<cell line: 1>\u001b[1;34m()\u001b[0m\n\u001b[1;32m----> <a href='vscode-notebook-cell:/c%3A/Users/Resilia/Documents/GitHub/Projeto_Modulo_6/gatos_suspeitos.ipynb#ch0000012?line=0'>1</a>\u001b[0m \u001b[39mimport\u001b[39;00m \u001b[39mpandas\u001b[39;00m \u001b[39mas\u001b[39;00m \u001b[39mpd\u001b[39;00m\n\u001b[0;32m      <a href='vscode-notebook-cell:/c%3A/Users/Resilia/Documents/GitHub/Projeto_Modulo_6/gatos_suspeitos.ipynb#ch0000012?line=1'>2</a>\u001b[0m \u001b[39mimport\u001b[39;00m \u001b[39mnumpy\u001b[39;00m \u001b[39mas\u001b[39;00m \u001b[39mnp\u001b[39;00m\n\u001b[0;32m      <a href='vscode-notebook-cell:/c%3A/Users/Resilia/Documents/GitHub/Projeto_Modulo_6/gatos_suspeitos.ipynb#ch0000012?line=2'>3</a>\u001b[0m \u001b[39mimport\u001b[39;00m \u001b[39mmatplotlib\u001b[39;00m\u001b[39m.\u001b[39;00m\u001b[39mpyplot\u001b[39;00m \u001b[39mas\u001b[39;00m \u001b[39mplt\u001b[39;00m\n",
      "\u001b[1;31mModuleNotFoundError\u001b[0m: No module named 'pandas'"
     ]
    }
   ],
   "source": [
    "import pandas as pd\n",
    "import numpy as np\n",
    "import matplotlib.pyplot as plt\n",
    "from sklearn.preprocessing import MinMaxScaler"
   ]
  },
  {
   "cell_type": "markdown",
   "metadata": {
    "id": "i7R8bFEPTflC"
   },
   "source": [
    "## **3.2.** Importando nossos dados"
   ]
  },
  {
   "cell_type": "code",
   "execution_count": null,
   "metadata": {
    "id": "n1PvipkSTflO"
   },
   "outputs": [],
   "source": [
    "df1 = pd.read_csv('Ano-2019.csv', sep=';')\n",
    "df2 = pd.read_csv('Ano-2020.csv', sep=';')\n",
    "df3 = pd.read_csv('Ano-2021.csv', sep=';')"
   ]
  },
  {
   "cell_type": "markdown",
   "metadata": {
    "id": "BqliSP5Q84RI"
   },
   "source": [
    "## **3.3.** Começando com limpeza e verificação de dados"
   ]
  },
  {
   "cell_type": "code",
   "execution_count": null,
   "metadata": {
    "id": "eZKq04yqXV4G"
   },
   "outputs": [],
   "source": [
    "#Concatenando os 3 arquivos em um único\n",
    "df_unico = pd.concat([df1,df2,df3])"
   ]
  },
  {
   "cell_type": "code",
   "execution_count": null,
   "metadata": {
    "colab": {
     "base_uri": "https://localhost:8080/"
    },
    "id": "jAfX1cnE84RJ",
    "outputId": "4688de17-8de2-419b-881e-d9df35c4b7fa"
   },
   "outputs": [],
   "source": [
    "# Verificando o número de partidos que contém o DataFrame\n",
    "df_unico.sgPartido.value_counts()"
   ]
  },
  {
   "cell_type": "code",
   "execution_count": null,
   "metadata": {
    "id": "oWpgPnQ1XWtE"
   },
   "outputs": [],
   "source": [
    "# Criando uma cópia do dataframe para eventuais imprevistos que possam ocorrer\n",
    "df_copia = df_unico.copy()"
   ]
  },
  {
   "cell_type": "code",
   "execution_count": null,
   "metadata": {
    "colab": {
     "base_uri": "https://localhost:8080/"
    },
    "id": "cs7mB3tNXZ7Y",
    "outputId": "7877d51a-4591-44fa-b816-dfe491d54f26"
   },
   "outputs": [],
   "source": [
    "# Verificando o nome das colunas para facilitar na análise\n",
    "df_copia.columns"
   ]
  },
  {
   "cell_type": "code",
   "execution_count": null,
   "metadata": {
    "colab": {
     "base_uri": "https://localhost:8080/"
    },
    "id": "dnmX5tRsXhbX",
    "outputId": "5d491e01-66e9-4566-9427-7c6d956c4aec"
   },
   "outputs": [],
   "source": [
    "# Conferindo o tipo de dado em cada coluna\n",
    "df_copia.dtypes"
   ]
  },
  {
   "cell_type": "code",
   "execution_count": null,
   "metadata": {
    "colab": {
     "base_uri": "https://localhost:8080/"
    },
    "id": "L8gbslV8Xh7G",
    "outputId": "dc304ae2-28d2-4114-c92a-c47150d1256a"
   },
   "outputs": [],
   "source": [
    "# Vendo todas as informações e contando os valores não nulos em cada coluna\n",
    "df_copia.info()"
   ]
  },
  {
   "cell_type": "code",
   "execution_count": null,
   "metadata": {
    "colab": {
     "base_uri": "https://localhost:8080/"
    },
    "id": "Bk7JsqaMXnB1",
    "outputId": "66a0ebb3-adc8-4247-a969-47212e679caf"
   },
   "outputs": [],
   "source": [
    "# Procurando numero de dados nulos em percentual\n",
    "round(df_copia.isnull().mean()*100,2)"
   ]
  },
  {
   "cell_type": "code",
   "execution_count": null,
   "metadata": {
    "colab": {
     "base_uri": "https://localhost:8080/",
     "height": 364
    },
    "id": "KFgu2unNXnlN",
    "outputId": "abcd59a0-eed2-49a2-f418-f96241b304fe"
   },
   "outputs": [],
   "source": [
    "# o describe foi feito pra destacar os valores negativos presentes nas colunas:'vlrDocumento' e 'vlrLiquido' \n",
    "df_copia.describe()"
   ]
  },
  {
   "cell_type": "code",
   "execution_count": null,
   "metadata": {
    "colab": {
     "base_uri": "https://localhost:8080/"
    },
    "id": "Y0Ld6i5VX5EP",
    "outputId": "b5a8ad6a-c01e-40c1-cddc-4585b15c78a3"
   },
   "outputs": [],
   "source": [
    "# Essa consulta fizemos um novo df, filtrando na coluna 'txtDescricao' valores diferentes de 'PASSAGEM AÉREA - RPA'  e 'PASSAGEM AÉREA - SIGEPA'\n",
    "# a partir desse novo df fazer os cálculos de despesas.\n",
    "valores = df_copia[(df_copia['txtDescricao'] != 'PASSAGEM AÉREA - RPA')&(df_copia['txtDescricao'] != 'PASSAGEM AÉREA - SIGEPA')]\n",
    "valores['txtDescricao'].unique()\n",
    "valores.vlrLiquido"
   ]
  },
  {
   "cell_type": "code",
   "execution_count": null,
   "metadata": {
    "colab": {
     "base_uri": "https://localhost:8080/"
    },
    "id": "I10CR2QeZBSV",
    "outputId": "612087c7-45fd-4fc1-cd84-740ac0d45cbc"
   },
   "outputs": [],
   "source": [
    "# os dois valores negativos da coluna 'VrlLiquido'\n",
    "valores.query('vlrLiquido < 0')['vlrLiquido']"
   ]
  },
  {
   "cell_type": "code",
   "execution_count": null,
   "metadata": {
    "colab": {
     "base_uri": "https://localhost:8080/"
    },
    "id": "vLCzhibdZRFE",
    "outputId": "7129dfc0-2559-4aa0-972c-46aedd153bb3"
   },
   "outputs": [],
   "source": [
    "# Convertemos a coluna datEmissao de object para datatime e colocamos só pra mostrar o formato dia/mes/ano pq o horário é irrelevante para as consultas\n",
    "df_copia['datEmissao'] = pd.to_datetime(df_copia['datEmissao'], format = '%Y/%m/%d')\n",
    "df_copia['datEmissao']"
   ]
  },
  {
   "cell_type": "code",
   "execution_count": null,
   "metadata": {
    "colab": {
     "base_uri": "https://localhost:8080/"
    },
    "id": "dCWjhkYqZUUE",
    "outputId": "1b3b15bc-06bd-403c-f29e-f3e3e2359645"
   },
   "outputs": [],
   "source": [
    "#Conferindo se o type da data foi transformado\n",
    "df_copia.dtypes"
   ]
  },
  {
   "cell_type": "code",
   "execution_count": null,
   "metadata": {
    "colab": {
     "base_uri": "https://localhost:8080/"
    },
    "id": "RVO6Bj2w84RP",
    "outputId": "31c4690b-10d8-46f3-8a95-724660f951ee"
   },
   "outputs": [],
   "source": [
    "# Verificando o novo tamanho do DataFrame\n",
    "df_copia.shape"
   ]
  },
  {
   "cell_type": "code",
   "execution_count": null,
   "metadata": {
    "colab": {
     "base_uri": "https://localhost:8080/",
     "height": 423
    },
    "id": "ObInEfcq84RP",
    "outputId": "dd0857bb-6715-47a4-8c35-bd0082531793"
   },
   "outputs": [],
   "source": [
    "# Aqui estamos procurando por Parlamentares sem estado e sem partido.\n",
    "sem_partido_sem_uf = valores[valores['sgUF'].isnull()][['txNomeParlamentar', 'sgUF', 'sgPartido','vlrLiquido']]\n",
    "sem_partido_sem_uf"
   ]
  },
  {
   "cell_type": "code",
   "execution_count": null,
   "metadata": {
    "id": "dRcVVz-F84RP"
   },
   "outputs": [],
   "source": [
    "#Atribuindo os partidos correspondentes as despesas atribuídas apenas a lideranças\n",
    "df_copia['sgPartido'] = np.where(df_copia['txNomeParlamentar'] == \"LIDERANÇA DO PSL\", 'PSL', df_copia.sgPartido)\n",
    "df_copia['sgPartido'] = np.where(df_copia['txNomeParlamentar'] == \"LIDERANÇA DO PT\", 'PT', df_copia.sgPartido)\n",
    "df_copia['sgPartido'] = np.where(df_copia['txNomeParlamentar'] == \"LIDERANÇA DO PTB\", 'PTB', df_copia.sgPartido) \n",
    "df_copia['sgPartido'] = np.where(df_copia['txNomeParlamentar'] == \"LIDERANÇA DO PSDB\", 'PSDB', df_copia.sgPartido)\n",
    "df_copia['sgPartido'] = np.where(df_copia['txNomeParlamentar'] == \"LIDERANÇA DO PODEMOS\", 'PODEMOS', df_copia.sgPartido)\n",
    "df_copia['sgPartido'] = np.where(df_copia['txNomeParlamentar'] == \"LIDERANÇA DO SOLIDARIEDADE\", 'SOLIDARIEDADE', df_copia.sgPartido)\n",
    "df_copia['sgPartido'] = np.where(df_copia['txNomeParlamentar'] == \"LIDERANÇA DO PSD\", 'PSD',df_copia.sgPartido)\n",
    "df_copia['sgPartido'] = np.where(df_copia['txNomeParlamentar'] == \"LIDERANÇA DO NOVO\", 'NOVO',df_copia.sgPartido)\n",
    "df_copia['sgPartido'] = np.where(df_copia['txNomeParlamentar'] == \"LIDERANÇA DO DEMOCRATAS\", 'DEMOCRATAS', df_copia.sgPartido)\n",
    "df_copia['sgPartido'] = np.where(df_copia['txNomeParlamentar'] == \"LIDERANÇA DO CIDADANIA\", 'CIDADANIA', df_copia.sgPartido)\n",
    "df_copia['sgPartido'] = np.where(df_copia['txNomeParlamentar'] == \"LIDERANÇA DO AVANTE\", 'AVANTE', df_copia.sgPartido)\n",
    "df_copia['sgPartido'] = np.where(df_copia['txNomeParlamentar'] == \"LIDERANÇA DO PDT\", 'PDT', df_copia.sgPartido)\n",
    "df_copia['sgPartido'] = np.where(df_copia['txNomeParlamentar'] == \"LIDERANÇA DO PSOL\", 'PSOL', df_copia.sgPartido)\n",
    "df_copia['sgPartido'] = np.where(df_copia['txNomeParlamentar'] == \"LIDERANÇA DO PROGRESSISTAS\", 'PROGRESSISTAS',df_copia.sgPartido)\n",
    "df_copia['sgPartido'] = np.where(df_copia['txNomeParlamentar'] == \"LIDERANÇA DO PARTIDO REPUBLICANO DA ORDEM SOCIAL\", 'SOCIAL', df_copia.sgPartido)"
   ]
  },
  {
   "cell_type": "code",
   "execution_count": null,
   "metadata": {
    "colab": {
     "base_uri": "https://localhost:8080/"
    },
    "id": "LGqDGevB84RQ",
    "outputId": "2e99b7c4-1925-4945-ca7a-036e832b3d5b"
   },
   "outputs": [],
   "source": [
    "# Verificando quantos partidos não possuem registros de UF\n",
    "sem_partido_sem_uf['txNomeParlamentar'].value_counts()"
   ]
  },
  {
   "cell_type": "code",
   "execution_count": null,
   "metadata": {
    "colab": {
     "base_uri": "https://localhost:8080/"
    },
    "id": "KqCM54Y_84RQ",
    "outputId": "98c02e19-6fd8-4e09-866d-76d3bfdfce08"
   },
   "outputs": [],
   "source": [
    "# Realizando a contagem de frequência por estado dentro do DataFrame\n",
    "df_unico.sgUF.value_counts()"
   ]
  },
  {
   "cell_type": "code",
   "execution_count": null,
   "metadata": {
    "colab": {
     "base_uri": "https://localhost:8080/",
     "height": 612
    },
    "id": "C6lPPzhw84RQ",
    "outputId": "db42e1ed-77ba-42f4-e10b-5dc594edf63a"
   },
   "outputs": [],
   "source": [
    "#Verificando o funcionamento da atribuição\n",
    "df_copia[df_copia['txNomeParlamentar'].str.match('LIDERANÇA')].sample(5)"
   ]
  },
  {
   "cell_type": "code",
   "execution_count": null,
   "metadata": {},
   "outputs": [],
   "source": [
    "#Criando uma cópia para trabalharmos nas questões e realizar as análises devidas\n",
    "df_2 = df_copia.copy()"
   ]
  },
  {
   "cell_type": "markdown",
   "metadata": {
    "id": "1hCQzlq784RU"
   },
   "source": [
    "### 3. Quais foram os parlamentares que mais e que menos consumiram recursos?"
   ]
  },
  {
   "cell_type": "code",
   "execution_count": null,
   "metadata": {
    "colab": {
     "base_uri": "https://localhost:8080/"
    },
    "id": "48DarZ7-84RV",
    "outputId": "780638e5-4e2c-42bf-fcb3-98464fef3c26"
   },
   "outputs": [],
   "source": [
    "#Criaçao de um dataframe excluíndo os dados negativos de valor, e criando agrupamento ordenado por soma de gastos\n",
    "df_2_2 = df_2[df_2['vlrDocumento'] >= 0]\n",
    "menos_gast = df_2_2.groupby(['txNomeParlamentar'])['vlrDocumento'].sum().sort_values().head(5)\n",
    "menos_gast"
   ]
  },
  {
   "cell_type": "code",
   "execution_count": null,
   "metadata": {
    "colab": {
     "base_uri": "https://localhost:8080/",
     "height": 373
    },
    "id": "k4vcOJXR84RV",
    "outputId": "52a53354-24ae-4582-da2c-f82a4a7f2bd3"
   },
   "outputs": [],
   "source": [
    "plt.plot(menos_gast.index, menos_gast, 'go')\n",
    "plt.plot(menos_gast.index, menos_gast, 'b--', label = 'Gastos Parlamentares')\n",
    "\n",
    "plt.xticks(menos_gast.index, rotation=90)\n",
    "\n",
    "plt.title('Gráfico de Gastos [Menos]')\n",
    "plt.xlabel('Range Parlamentar')\n",
    "plt.ylabel('Range Valor (R$))')\n",
    "\n",
    "plt.legend()\n",
    "plt.grid(True)\n",
    "plt.show()"
   ]
  },
  {
   "cell_type": "code",
   "execution_count": null,
   "metadata": {
    "colab": {
     "base_uri": "https://localhost:8080/"
    },
    "id": "98Ja9K1J84RV",
    "outputId": "246301e6-30a8-4249-885e-4a2a08d40aa0"
   },
   "outputs": [],
   "source": [
    "#Agrupamento de gastos de parlamentar do maior para menor\n",
    "mais_gast = df_2.groupby(['txNomeParlamentar'])['vlrDocumento'].sum().sort_values(ascending = False).head(5)\n",
    "mais_gast"
   ]
  },
  {
   "cell_type": "code",
   "execution_count": null,
   "metadata": {
    "colab": {
     "base_uri": "https://localhost:8080/",
     "height": 380
    },
    "id": "iH2DdzFF84RV",
    "outputId": "f0f42f59-3776-40ac-d943-eca64f18a67f"
   },
   "outputs": [],
   "source": [
    "plt.plot(mais_gast.index, mais_gast, 'go')\n",
    "plt.plot(mais_gast.index, mais_gast, 'b--', label = 'Gastos Parlamentares')\n",
    "\n",
    "plt.xticks(mais_gast.index, rotation = 90)\n",
    "\n",
    "plt.title('Gráfico de Gastos [Mais]')\n",
    "plt.xlabel('Range Parlamentar')\n",
    "plt.ylabel('Range Valor R$ (Mi)')\n",
    "\n",
    "plt.legend()\n",
    "plt.grid(True)\n",
    "plt.show()"
   ]
  },
  {
   "cell_type": "markdown",
   "metadata": {
    "id": "lsWDXfWm84RW"
   },
   "source": [
    "Aqui podemos notar que o deputado que mais consumiu recursos foi a Jéssica Sales, atingindo a marca de mais de R$ 1,41 Mi no período de 2019 até 2021. Já o que menos consumiu recursos públicos foi a deputada Luciana Santos, utilizando apenas 50 reais da verba, com despesas telefônicas."
   ]
  },
  {
   "cell_type": "markdown",
   "metadata": {
    "id": "y2fpc13184RW"
   },
   "source": [
    "### 4. Quais são as categorias de despesas mais onerosas dentre os recursos destinados às cotas parlamentares?"
   ]
  },
  {
   "cell_type": "code",
   "execution_count": null,
   "metadata": {
    "colab": {
     "base_uri": "https://localhost:8080/"
    },
    "id": "Ws_1KoBx84RW",
    "outputId": "c95d53c0-77bc-4ac6-934b-2902cfb5df06"
   },
   "outputs": [],
   "source": [
    "#Agrupamento de gastos por categoria, somando o total e ordenando do maior para o menor\n",
    "categoria_oner = df_2.groupby(['txtDescricao'])['vlrDocumento'].sum().sort_values(ascending = True)\n",
    "categoria_oner"
   ]
  },
  {
   "cell_type": "code",
   "execution_count": null,
   "metadata": {
    "colab": {
     "base_uri": "https://localhost:8080/",
     "height": 350
    },
    "id": "pYgVOpl884Ra",
    "outputId": "79ffe74b-2031-4d05-9b12-3a10b27390fe"
   },
   "outputs": [],
   "source": [
    "#Plotando gráfico barras na horizontal para meior visualização\n",
    "plt.figure(figsize = (10, 5))\n",
    "plt.barh(categoria_oner.index, categoria_oner, color = 'g')\n",
    "\n",
    "#plt.xticks(categoria_oner.index)\n",
    "\n",
    "plt.title('Maiores Gastos de acordo com Categoria')\n",
    "plt.xlabel('Range Valor R$ (mi)')\n",
    "plt.ylabel('Range Categorias')\n",
    "\n",
    "plt.show()"
   ]
  },
  {
   "cell_type": "code",
   "execution_count": null,
   "metadata": {
    "colab": {
     "base_uri": "https://localhost:8080/"
    },
    "id": "5qkMbx_W84Ra",
    "outputId": "c9cc5f1b-f338-402d-baef-9be3abaed16f"
   },
   "outputs": [],
   "source": [
    "categoria_oner2 = df_2.groupby(['txtDescricao'])['vlrDocumento'].sum().head().sort_values(ascending = True)\n",
    "categoria_oner2"
   ]
  },
  {
   "cell_type": "code",
   "execution_count": null,
   "metadata": {
    "colab": {
     "base_uri": "https://localhost:8080/",
     "height": 357
    },
    "id": "EXQtUwym84Rb",
    "outputId": "0c6d7f74-b420-4e51-bb40-0e9d55b94728"
   },
   "outputs": [],
   "source": [
    "#Plotando em gráfico com porcentagem para melhor visualização\n",
    "labels = categoria_oner2.index\n",
    "sizes = categoria_oner2\n",
    "\n",
    "explode = (0, 0, 0, 0, 0.2)\n",
    "\n",
    "fig1, ax1 = plt.subplots(figsize=(6, 6))\n",
    "\n",
    "cc = ['#32CD32', '#00FF00', '#7CFC00', '#006400', '#008000']\n",
    "\n",
    "ax1.pie(sizes, explode = explode, labels = labels, autopct = '%1.1f%%', shadow = True, startangle = 90, colors = cc)\n",
    "\n",
    "ax1.axis('equal')\n",
    "plt.show()"
   ]
  },
  {
   "cell_type": "markdown",
   "metadata": {
    "id": "dea8yk0q84Rb"
   },
   "source": [
    "Verificamos que os gastos com divulgação de atividade parlamentar são a maioria, com aproximadamente 59,1% dos gastos entre todas as categorias."
   ]
  },
  {
   "cell_type": "markdown",
   "metadata": {
    "id": "o1h22WBN84Rb"
   },
   "source": [
    "### 5. Quais são os trechos de viagem mais recorrentes entre as despesas de viagem?"
   ]
  },
  {
   "cell_type": "code",
   "execution_count": null,
   "metadata": {
    "colab": {
     "base_uri": "https://localhost:8080/"
    },
    "id": "C2UEIy0o84Rb",
    "outputId": "30864207-4546-422f-b372-4d23acfb9833"
   },
   "outputs": [],
   "source": [
    "#Agrupamento da contagem de viagens por trecho, as 5 maiores\n",
    "trechos_recorr = df_2.groupby(['txtTrecho'])['txtTrecho'].count().sort_values(ascending = False).head(5)\n",
    "trechos_recorr"
   ]
  },
  {
   "cell_type": "code",
   "execution_count": null,
   "metadata": {
    "colab": {
     "base_uri": "https://localhost:8080/",
     "height": 357
    },
    "id": "RLO8iWG484Rc",
    "outputId": "00262db4-e2fd-42fa-b239-42b710629fb1"
   },
   "outputs": [],
   "source": [
    "#Plotando em gráfico com porcentagem para melhor visualização\n",
    "labels = trechos_recorr.index\n",
    "sizes = trechos_recorr\n",
    "\n",
    "explode = (0.2, 0, 0, 0, 0)\n",
    "\n",
    "fig1, ax1 = plt.subplots(figsize=(6, 6))\n",
    "\n",
    "cc = ['#32CD32', '#00FF00', '#7CFC00', '#006400', '#008000']\n",
    "\n",
    "ax1.pie(sizes, explode = explode, labels = labels, autopct = '%1.1f%%', shadow = False, startangle = 90, colors = cc)\n",
    "\n",
    "ax1.axis('equal')\n",
    "plt.show()"
   ]
  },
  {
   "cell_type": "markdown",
   "metadata": {
    "id": "WHa2drCF84Rd"
   },
   "source": [
    "A maior parte dos gastos com transporte é derivada de viagens dentro de Brasilia (BSB), atingindo o percentual de 35,3% dos gastos totais. \n",
    "\n",
    "Lembrando que gastos com transporte englobam tanto o valor de gasolina gasto quanto passagens de avião e locação de carros."
   ]
  },
  {
   "cell_type": "markdown",
   "metadata": {
    "id": "n8Ec45lM84Rd"
   },
   "source": [
    "### 6. Qual a média de gastos por estado?"
   ]
  },
  {
   "cell_type": "code",
   "execution_count": null,
   "metadata": {
    "colab": {
     "base_uri": "https://localhost:8080/"
    },
    "id": "maUF3EN-84Rd",
    "outputId": "53778728-1820-4729-900f-2a698c585b0b",
    "scrolled": true
   },
   "outputs": [],
   "source": [
    "#Média de gastos por estados\n",
    "media_estados = df_2.groupby(['sgUF'])['vlrDocumento'].mean().sort_values()\n",
    "media_estados"
   ]
  },
  {
   "cell_type": "code",
   "execution_count": null,
   "metadata": {
    "colab": {
     "base_uri": "https://localhost:8080/"
    },
    "id": "ghgmPs6o84Re",
    "outputId": "1f39aad3-4ab8-4f8d-a10d-a3e5bf9e1c4f"
   },
   "outputs": [],
   "source": [
    "media_estados2 = df_2.groupby(['sgUF'])['vlrDocumento'].sum().sort_values()\n",
    "media_estados2"
   ]
  },
  {
   "cell_type": "code",
   "execution_count": null,
   "metadata": {
    "colab": {
     "base_uri": "https://localhost:8080/",
     "height": 350
    },
    "id": "UhUMRBQ-84Re",
    "outputId": "9aaa9e9c-3619-4e56-9f87-452e0331e349"
   },
   "outputs": [],
   "source": [
    "#Plotando em gráfico de barras a média dos estados, na ordem do maior para menor\n",
    "plt.figure(figsize = (12, 5))\n",
    "plt.bar(media_estados.index, media_estados, color = 'g', label = 'ESTADOS')\n",
    "#plt.plot(media_estados.index, media_estados, 'r--')\n",
    "\n",
    "#plt.xticks(media_estados.index)\n",
    "plt.title('Gráfico de Gastos Parlamentar por Estados')\n",
    "plt.xlabel('Range Estados')\n",
    "plt.ylabel('Range Valor R$ (mi)')\n",
    "\n",
    "plt.legend()\n",
    "plt.show()"
   ]
  },
  {
   "cell_type": "markdown",
   "metadata": {
    "id": "a9iBIwPa84Rf"
   },
   "source": [
    "Aqui podemos notar a região norte dominando, sendo o Amapá campeão em gastos parlamentares, com somados aproximadamente 2 bilhões em reais gastos nesses 3 anos."
   ]
  },
  {
   "cell_type": "markdown",
   "metadata": {
    "id": "KDlWL3TP9IPV"
   },
   "source": [
    "### 7. Qual é o valor total de gastos por estado?"
   ]
  },
  {
   "cell_type": "code",
   "execution_count": null,
   "metadata": {
    "colab": {
     "base_uri": "https://localhost:8080/",
     "height": 896
    },
    "id": "iRUdUlFD9Ji6",
    "outputId": "06a869dd-878a-4960-f96d-ca7acc0003f9"
   },
   "outputs": [],
   "source": [
    "gastos_uftotal = df_copia[['sgUF' , 'vlrLiquido']].groupby('sgUF').sum().sort_values('vlrLiquido', ascending = False).round(2)\n",
    "\n",
    "gastos_uftotal.rename(columns = {'vlrLiquido':'Valor_Total'}, inplace = True)\n",
    "\n",
    "gastos_uftotal = gastos_uftotal.reset_index()\n",
    "\n",
    "gastos_uftotal2 = gastos_uftotal.style.format({'Valor_Total': 'R$ {:.2F}'}).background_gradient(cmap = 'coolwarm')\n",
    "\n",
    "gastos_uftotal2"
   ]
  },
  {
   "cell_type": "code",
   "execution_count": null,
   "metadata": {
    "colab": {
     "base_uri": "https://localhost:8080/",
     "height": 421
    },
    "id": "BetzrfiE9OqD",
    "outputId": "fc80cbbc-2576-43a9-9370-e731b08b5203"
   },
   "outputs": [],
   "source": [
    "plt.figure(figsize=(15,6))\n",
    "x = gastos_uftotal.sgUF\n",
    "y = gastos_uftotal['Valor_Total']/1000000\n",
    "plt.grid()\n",
    "plt.title('Despesa Total por Estados')\n",
    "plt.xlabel('Estados')\n",
    "plt.ylabel('Valores em Milhões de Reais ')\n",
    "plt.bar(x,y)\n",
    "print()"
   ]
  },
  {
   "cell_type": "markdown",
   "metadata": {
    "id": "QWjfaVHs9VH9"
   },
   "source": [
    "### 8. Quais estados têm maior número de representantes?"
   ]
  },
  {
   "cell_type": "code",
   "execution_count": null,
   "metadata": {
    "colab": {
     "base_uri": "https://localhost:8080/",
     "height": 81
    },
    "id": "1BI03Ia99YJc",
    "outputId": "89f8c855-0ce5-4880-b52c-a7d4e92f0b78"
   },
   "outputs": [],
   "source": [
    "parlamentares_uf = df_copia[['txNomeParlamentar', 'sgUF']].drop_duplicates()\n",
    "\n",
    "parlamentares_uf = parlamentares_uf.groupby('sgUF').count().sort_values('txNomeParlamentar', ascending = False)\n",
    "\n",
    "parlamentares_uf.rename(columns = {'txNomeParlamentar':'Quantidade De Representantes'}, inplace = True)\n",
    "\n",
    "parlamentares_uf = parlamentares_uf.reset_index()\n",
    "\n",
    "maximo = parlamentares_uf['Quantidade De Representantes'].max()\n",
    "\n",
    "parlamentares_uf.head(1)\n",
    "\n"
   ]
  },
  {
   "cell_type": "code",
   "execution_count": null,
   "metadata": {
    "colab": {
     "base_uri": "https://localhost:8080/",
     "height": 421
    },
    "id": "-TlHWDg29bN1",
    "outputId": "2492465f-37d3-4254-d714-ac50cd908e28"
   },
   "outputs": [],
   "source": [
    "plt.figure(figsize=(15,6))\n",
    "x = parlamentares_uf.sgUF\n",
    "y = parlamentares_uf['Quantidade De Representantes']\n",
    "plt.grid()\n",
    "plt.title('Quantidade De Parlamentares por Estado')\n",
    "plt.xlabel('Estados')\n",
    "plt.ylabel('Número de Representantes')\n",
    "plt.bar(x,y)\n",
    "print()"
   ]
  },
  {
   "cell_type": "markdown",
   "metadata": {
    "id": "oirAEnbo9khS"
   },
   "source": [
    "### 9. Há alguma correlação entre a quantidade de parlamentares por estado e o valor total dos gastos?"
   ]
  },
  {
   "cell_type": "code",
   "execution_count": null,
   "metadata": {
    "id": "BiUYDCZQ9nu-"
   },
   "outputs": [],
   "source": [
    "gastos_uftotal = df_copia[['sgUF' , 'vlrLiquido']].groupby('sgUF').sum().sort_values('vlrLiquido', ascending = False).round(2)\n",
    "\n",
    "gastos_uftotal.rename(columns = {'vlrLiquido':'Valor_Total'}, inplace = True)\n",
    "\n",
    "gastos_uftotal = gastos_uftotal.reset_index()\n",
    "\n",
    "parlamentares_uf = df_copia[['txNomeParlamentar', 'sgUF']].drop_duplicates()\n",
    "\n",
    "parlamentares_uf = parlamentares_uf.groupby('sgUF').count().sort_values('txNomeParlamentar', ascending = False)\n",
    "\n",
    "parlamentares_uf.rename(columns = {'txNomeParlamentar':'Quantidade De Representantes'}, inplace = True)\n",
    "\n",
    "parlamentares_uf = parlamentares_uf.reset_index()\n",
    "\n",
    "maximo = parlamentares_uf['Quantidade De Representantes'].max()\n",
    "\n"
   ]
  },
  {
   "cell_type": "code",
   "execution_count": null,
   "metadata": {
    "colab": {
     "base_uri": "https://localhost:8080/",
     "height": 479
    },
    "id": "HUN1IR3q9q9h",
    "outputId": "bdda3ca0-7691-4aa7-d99d-fe7f9a9f7263"
   },
   "outputs": [],
   "source": [
    "y = np.array(gastos_uftotal['Valor_Total']/1000000)\n",
    "x = np.array(gastos_uftotal.sgUF)\n",
    "plt.figure(figsize=(20,7))\n",
    "plt.subplot(1,2,1)\n",
    "plt.grid(axis= 'y')\n",
    "plt.bar(x,y)\n",
    "plt.title('Despesas em Milhões de Reais por Estado')\n",
    "\n",
    "x = np.array(parlamentares_uf.sgUF)\n",
    "y = np.array(parlamentares_uf['Quantidade De Representantes'])\n",
    "plt.subplot(1,2,2)\n",
    "plt.bar(x,y)\n",
    "plt.grid(axis= 'x')\n",
    "plt.title('Número de Deputado por Estados')\n",
    "plt.suptitle('Gráficos')\n",
    "plt.show()"
   ]
  },
  {
   "cell_type": "code",
   "execution_count": null,
   "metadata": {
    "colab": {
     "base_uri": "https://localhost:8080/",
     "height": 896
    },
    "id": "-Mo4jiNX9xB9",
    "outputId": "52b22a3b-d756-48c9-cabf-37a4d7209fed"
   },
   "outputs": [],
   "source": [
    "auxiliar = pd.merge(gastos_uftotal,parlamentares_uf, on = ['sgUF'])\n",
    "\n",
    "auxiliar = auxiliar.reset_index()\n",
    "\n",
    "auxiliar.rename(columns = {'Valor_Total\t': 'Valor_Total'}, inplace = True)\n",
    "\n",
    "auxiliar"
   ]
  },
  {
   "cell_type": "markdown",
   "metadata": {
    "id": "pjX-qaBx93s2"
   },
   "source": [
    "Aplicando Normalização Biblioteca MinMaxScaler"
   ]
  },
  {
   "cell_type": "code",
   "execution_count": null,
   "metadata": {
    "id": "uNfnWLNz95QM"
   },
   "outputs": [],
   "source": [
    "from sklearn.preprocessing import MinMaxScaler\n",
    "\n",
    "scaler = MinMaxScaler()\n",
    "\n",
    "dados_normalizados = scaler.fit_transform(auxiliar[['Valor_Total', 'Quantidade De Representantes']])"
   ]
  },
  {
   "cell_type": "code",
   "execution_count": null,
   "metadata": {
    "colab": {
     "base_uri": "https://localhost:8080/",
     "height": 896
    },
    "id": "EUbEmXw398Pz",
    "outputId": "281b2daf-bce9-400b-a855-77a18086af91"
   },
   "outputs": [],
   "source": [
    "dados_normalizados = pd.DataFrame(dados_normalizados)\n",
    "\n",
    "dados_normalizados.rename(columns= {0:'Valor_Total', 1: 'Quantidade De Representantes'}, inplace = True)\n",
    "\n",
    "dados_normalizados"
   ]
  },
  {
   "cell_type": "code",
   "execution_count": null,
   "metadata": {
    "colab": {
     "base_uri": "https://localhost:8080/",
     "height": 387
    },
    "id": "e4gNFm119_r2",
    "outputId": "f50d597e-72f8-4bfd-b84c-9fe17f01678b"
   },
   "outputs": [],
   "source": [
    "fig, ax1 = plt.subplots()\n",
    "\n",
    "color = 'tab:blue'\n",
    "ax1.set_xlabel('Estados')\n",
    "ax1.set_ylabel('Gastos em Milhões de Reais', color = color)\n",
    "ax1.plot(auxiliar.sgUF, dados_normalizados.Valor_Total, color = color)\n",
    "ax1.tick_params(axis = 'y',labelcolor = color)\n",
    "\n",
    "ax2 = ax1.twinx()\n",
    " \n",
    "color = 'tab:orange'\n",
    "ax2.set_ylabel('Quantidade de Parlemantares por Estado', color = color, rotation = '270')\n",
    "ax2.plot(dados_normalizados['Quantidade De Representantes'], color = color)\n",
    "ax2.tick_params(axis = 'y',labelcolor = color)\n",
    "\n",
    "plt.gcf().set_size_inches(12,5)\n",
    "fig.tight_layout()\n",
    "plt.grid()\n",
    "plt.legend()\n",
    "plt.show()"
   ]
  },
  {
   "cell_type": "markdown",
   "metadata": {
    "id": "kvA3wXJk-JBb"
   },
   "source": [
    "### 10. Qual a média de gastos por partido?"
   ]
  },
  {
   "cell_type": "code",
   "execution_count": null,
   "metadata": {
    "colab": {
     "base_uri": "https://localhost:8080/",
     "height": 1000
    },
    "id": "ZFldQcsk-MPJ",
    "outputId": "b18d3de7-f0c2-4b06-dae2-3c93ca10b423"
   },
   "outputs": [],
   "source": [
    "gastos_partidos = df_copia[['sgPartido','vlrLiquido']].groupby(['sgPartido']).mean().sort_values('vlrLiquido', ascending = False)\n",
    "\n",
    "gastos_partidos = gastos_partidos.reset_index()\n",
    "\n",
    "gastos_partidos.style.format({'vlrLiquido':'R$ {:.2f}'}).background_gradient(cmap = 'Reds')"
   ]
  },
  {
   "cell_type": "code",
   "execution_count": null,
   "metadata": {
    "colab": {
     "base_uri": "https://localhost:8080/",
     "height": 493
    },
    "id": "EePOrdLNOU0w",
    "outputId": "8c82dbdb-ddee-4fe6-ec34-7af9114cb7c7"
   },
   "outputs": [],
   "source": [
    "plt.figure(figsize=(15,6))\n",
    "x = gastos_partidos.sgPartido\n",
    "y = gastos_partidos['vlrLiquido']/1000000\n",
    "plt.xticks(gastos_partidos.index, rotation=90)\n",
    "plt.grid()\n",
    "plt.title('Despesa Total por Partido')\n",
    "plt.xlabel('Partidos')\n",
    "plt.ylabel('Valores em Milhões de Reais ')\n",
    "plt.bar(x,y)\n",
    "print()"
   ]
  },
  {
   "cell_type": "markdown",
   "metadata": {},
   "source": [
    "# MÓDULO 6 - TOCANTINS"
   ]
  },
  {
   "cell_type": "code",
   "execution_count": null,
   "metadata": {},
   "outputs": [],
   "source": [
    "#Mostrar as colunas para explorarmos o df\n",
    "df_copia.columns"
   ]
  },
  {
   "cell_type": "code",
   "execution_count": null,
   "metadata": {},
   "outputs": [],
   "source": [
    "#Novo dataframe com o filtro só para deputados do estado de Tocantins\n",
    "df_TO = df_copia[df_copia['sgUF'] == 'TO']"
   ]
  },
  {
   "cell_type": "code",
   "execution_count": null,
   "metadata": {},
   "outputs": [],
   "source": [
    "#Simples visualização dos primeiros registros\n",
    "df_TO.head(2)"
   ]
  },
  {
   "cell_type": "code",
   "execution_count": null,
   "metadata": {},
   "outputs": [],
   "source": [
    "#Instalação do package requests para capturarmos dados por meio da url\n",
    "!pip3 install requests"
   ]
  },
  {
   "cell_type": "code",
   "execution_count": null,
   "metadata": {},
   "outputs": [],
   "source": [
    "#Importação das libs que trabalharemos e configurar display para visualizar todas as colunas (jupyter)\n",
    "import requests\n",
    "import json\n",
    "pd.set_option('display.max_columns', None)"
   ]
  },
  {
   "cell_type": "code",
   "execution_count": null,
   "metadata": {},
   "outputs": [],
   "source": [
    "#Rascunhos\n",
    "\"\"\"\n",
    "request = requests.get(\"https://minhareceita.org/CNPJ\")\n",
    "request = js.loads(request.content)\n",
    "df_exemplo = pd.DataFrame([request])\n",
    "df_exemplo\"\"\""
   ]
  },
  {
   "cell_type": "code",
   "execution_count": null,
   "metadata": {},
   "outputs": [],
   "source": [
    "#Seleção dos cnpj/cpf com total de soma e ordenado para somente os 10 primeiros. Transformandos a series em df e aplicamos...\n",
    "#nome da coluna de retorno do groupby de Valor e resetamos o index\n",
    "df_gasto = pd.DataFrame({'Valor': df_copia.groupby(['txtCNPJCPF'])['vlrDocumento'].sum().sort_values(ascending = False).head(10)}).reset_index()\n",
    "df_gasto"
   ]
  },
  {
   "cell_type": "code",
   "execution_count": null,
   "metadata": {},
   "outputs": [],
   "source": [
    "#Atribuímos o retorno do get no formado json à nova coluna dados_CNPJ em nosso dataframe do groupby\n",
    "df_gasto['dados_CNPJ'] = df_gasto['txtCNPJCPF'].map(lambda x: requests.get(f\"https://minhareceita.org/{x}\"))"
   ]
  },
  {
   "cell_type": "code",
   "execution_count": null,
   "metadata": {},
   "outputs": [],
   "source": [
    "#Atribuímos a formatação do json para modelo de dicionário\n",
    "df_gasto['dados_CNPJ'] = df_gasto['dados_CNPJ'].map(lambda x: js.loads(x.content))"
   ]
  },
  {
   "cell_type": "code",
   "execution_count": null,
   "metadata": {},
   "outputs": [],
   "source": [
    "#Simples visualização formatando o dict em list e convertendo-o em dataframe\n",
    "pd.DataFrame(list(df_gasto['dados_CNPJ']))"
   ]
  }
 ],
 "metadata": {
  "colab": {
   "collapsed_sections": [],
   "include_colab_link": true,
   "name": "notebook1.ipynb",
   "provenance": []
  },
  "interpreter": {
   "hash": "1899763f7b86cc3880a639718ab7c3bc6becf25acf3b993d363e255dc1991165"
  },
  "kernelspec": {
   "display_name": "Python 3 (ipykernel)",
   "language": "python",
   "name": "python3"
  },
  "language_info": {
   "codemirror_mode": {
    "name": "ipython",
    "version": 3
   },
   "file_extension": ".py",
   "mimetype": "text/x-python",
   "name": "python",
   "nbconvert_exporter": "python",
   "pygments_lexer": "ipython3",
   "version": "3.9.7"
  }
 },
 "nbformat": 4,
 "nbformat_minor": 1
}
