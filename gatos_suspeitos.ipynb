{
 "cells": [
  {
   "cell_type": "markdown",
   "metadata": {
    "id": "w8Pkkz7384Q5"
   },
   "source": [
    "# <center>Projeto Final do Módulo VI</center>\n",
    "<center> Alguns gastos suspeitos identificados\n",
    "\n",
    "<center><img src='https://i.imgur.com/QLJaHpa.png' style=\"width:200px\">\n",
    "\n",
    "<center><a href=\"https://colab.research.google.com/github/Sartorio12/Projeto_Modulo_5/blob/main/notebook1.ipynb\" target=\"_parent\"><img src=\"https://colab.research.google.com/assets/colab-badge.svg\" alt=\"Open In Colab\"/></a>\n",
    "\n",
    "**Grupo 5:** <a href=\"https://github.com/LeGuigs\" target=\"_blank\">Guilherme Rezende</a> ; <a href=\"https://github.com/LaioGomes\" target=\"_blank\">Laio Gomes</a> ; <a href=\"https://github.com/sartorio12\" target=\"_blank\">Mateus Sartorio</a>; <a href=\"https://github.com/jonathaslkc\" target=\"_blank\">Jonathas Carvalho</a>\n",
    "\n"
   ]
  },
  {
   "cell_type": "markdown",
   "metadata": {
    "id": "hytt2A2k84Q9"
   },
   "source": [
    "<center><img src='https://i.imgur.com/QadqCNH.jpg' style=\"width:600px\">\n",
    "<center>Fonte: Agência Câmara de Notícias — Roque de Sá/Agência Senado"
   ]
  },
  {
   "cell_type": "markdown",
   "metadata": {
    "id": "2QqPkbsd84Q-"
   },
   "source": [
    "---\n",
    "\n",
    "# **1.** Sobre o estudo e objetivos"
   ]
  },
  {
   "cell_type": "markdown",
   "metadata": {
    "id": "WpcYUhQ884Q_"
   },
   "source": [
    "O que você imagina quando ouve o conceito **\"Cota Parlamentar\"** ou **\"Cota para o Exercício da Atividade Parlamentar (CEAP)\"**?\n",
    "\n",
    "Você sabia que é através da **CEAP** que deputados e senadores custeiam suas despesas em atividades parlamentares? O mais interessante disso, é que os dados da CEAP que iremos analisar hoje são abertos e podem ser acessados por qualquer pesso, ou seja, qualquer pessoa pode ver como os deputados e senadores utilizam essse tipo de recurso. \n",
    "\n",
    "Apesar de cobrir uma quantidade grande de despesas, os gastos com a CEAP devem seguir uma série de regras definidas pelo Ato da Mesa 43/2009. Isso quer dizer que os parlamentares não podem utilizar esses recursos de qualquer maneira. Alguns exemplos de gastos vedados são a aquisição de gêneros alimentícios (ex.: o parlamentar pode gastar com as suas refeições mas não pode comprar carne para o churrasco no fim de semana), gastos de caráter eleitoral e gastos com a participação em cursos de educação básica, graduação e pós-graduação.\n",
    "\n",
    "Além disso, como citado anteriormente, a CEAP é destinada a custear gastos exclusivamente vinculados ao exercício da atividade parlamentar, o que veda o seu uso para o benefício de terceiros, como por exemplo, o pagamento de refeições para outras pessoas além do próprio parlamentar.\n",
    "Apesar de todas essas regras, a fiscalização desses gastos é bastante falha, sendo comum o surgimento de denúncias sobre irregularidades.\n",
    "\n",
    "Neste cenário surgiu um projeto chamado Operação Serenata de Amor ( https://serenata.ai/ ), que tem como objetivo utilizar ferramentas de ciência de dados para fiscalizar gastos públicos e compartilhar informações relevantes com o público. O projeto tem uma série de módulos. Alguns deles são responsáveis por baixar e limpar os dados, outros por identificar irregularidades e por fim existem alguns módulos responsáveis pela divulgação de eventuais alertas de irregularidades. Um desses módulos de divulgação é o bot @RosieDaSerenata, responsável por publicar alertas de irregularidades no Twitter.\n",
    "\n",
    "<center><img src='https://i.imgur.com/AjyWlf1.jpg'>"
   ]
  },
  {
   "cell_type": "markdown",
   "metadata": {
    "id": "qXuQYpmx84RB"
   },
   "source": [
    "**É sobre isso que vamos tratar nesta análise, que tem dois focos principais:**\n",
    "- *Demonstrar como investigaremos esses dados utilizando Python.*\n",
    "- *Elaborar conceitos a respeito da utilização da CEAP nos últimos 3 anos, com destaques no cenário de pandemia(COVID-19).*\n",
    "\n",
    "#### <center> **Nós do grupo 5 esperamos que a leitura desse notebook seja esclarecedora e útil :)**"
   ]
  },
  {
   "cell_type": "markdown",
   "metadata": {
    "id": "zzvSqRuh84RB"
   },
   "source": [
    "# **2.** Começando a nossa análise"
   ]
  },
  {
   "cell_type": "markdown",
   "metadata": {
    "id": "DYBCfql084RC"
   },
   "source": [
    "Essa parte será um pouco teórica, pois nela exibiremos um pouco sobre a limpeza dos dados coletados no site da Câmara. Caso você queira somente acompanhar quais foram as nossas deduções baseadas nessas informações, pode pular para a parte X ( Preciso preencher a parte ).\n",
    "\n",
    "*Antes de mais nada, vamos apresentar um glossário sobre o DataSet:*\n",
    "\n",
    "- `Nome Parlamentar(txNomeParlamentar)` :  *Nome adotado pelo Parlamentar ao tomar posse do seu mandato.*\n",
    "- `ideCadastro(Identificador Único do Parlamentar)` : *Número que identifica unicamente um deputado federal na CD.*\n",
    "- `nuCarteiraParlamentar(Número da Carteira Parlamentar)` : *Documento usado para identificar um deputado federal na CD.*\n",
    "- `nuLegislatura(Número da  Legislatura)` : *No contexto da cota CEAP, representa o ano base de início da legislatura.*\n",
    "- `sgUF(Sigla da Unidade Federal)` : *Representa a UF do parlamentar.*\n",
    "- `sdPartido(Sigla do Partido)` : *Representa o partido do parlamentar.*\n",
    "- `codLegislatura(Código da Legislatura)` : *No contexto da cota CEAP, o seu conteúdo representa o código identificador da Legislatura.*\n",
    "- `numSubCota(Número da Subcota) `: *Representa o código do Tipo de Despesa, comprovada por meio da emissão de um documento fiscal, a qual é debitada na cota do deputado.*\n",
    "- `txtDescricao(Descrição da Subcota)` : *Descrição do Tipo de Despesa.*\n",
    "- `numEspecificacaoSubCota(Número da Especificação da Subcota)` : *Representa o código desta especificação mais detalhada.*\n",
    "- `txtDescricaoEspecificacao(Descrição da Especificação da Subcota)` : *Detalha o tipo de despesa efetuada.*\n",
    "- `txtFornecedor(Fornecedor)` : *Representa o fornecedor do produto ou serviço presente no documento fiscal.*\n",
    "- `txtCNPJCPF(CNPJ/CPF)` : *Indica se o fornecedor é CNPJ ou CPF , presente no documento fiscal.*\n",
    "- `txtNumero(Número do Documento)` : *Indica o número do documento do emissor da NF em questão.*\n",
    "- `indTipoDocumento(Indicativo de Tipo de Documento Fiscal)` : *Tipo de documento do fiscal – 0 para Nota Fiscal; 1 para Recibo; 2 para Despesa no Exterior.*\n",
    "- `datEmissao(Data de Emissão)` : *A data de emissão do documento.*\n",
    "- `vlrDocumento(Valor do Documento)` : *O seu conteúdo é o valor de face do documento fiscal ou o valor do documento que deu causa à despesa.*\n",
    "- `vlrGlosa(Valor da Glosa)` : *Valor da glosa do documento que deu causa à despesa.*\n",
    "- `vlrLiquido(Valor Liquido)` : *Valor líquido do documento (será calculado pela diferença entre o Valor do Documento e o Valor da Glosa)*\n",
    "- `numMes(Mês) `: *Indica o mês da emissão da nota.*\n",
    "- `numAno(Ano) `: *Indica o ano da emissão da nota.*\n",
    "- `numParcela(Número da Parcela)` : *O seu conteúdo representa o número da parcela do documento fiscal. Ocorre quando o documento tem de ser reembolsado de forma parcelada.*\n",
    "- `txtPassageiro(Nome do Passageiro)` : *O nome do passageiro, em caso da emissão do documento ser uma passagem aérea.*\n",
    "- `txtTrecho(Trecho)` : *Representa qual o trecho da viagem, somente em casos de viagem aérea.*\n",
    "- `numLote(Número do Lote) `: *Representa a capa do lote em que esse documento será incluído para ser entregue na Câmara para ressarcimento.*\n",
    "- `numRessarcimento(Número do Ressarcimento) `: *Indica o ressarcimento do qual o documento faz parte.*\n",
    "- `vlrRestituição(Valor da Restituição)` : *Indica o valor que será restituído sobre aquele documento.*\n",
    "- `nuDeputadoId(Identificador do Solicitante)` : *Número que identifica um Parlamentar ou Liderança na Transparência da Cota para Exercício da Atividade Parlamentar.*"
   ]
  },
  {
   "cell_type": "markdown",
   "metadata": {
    "id": "M0vl8brR84RD"
   },
   "source": [
    "## **2.1.** Materiais e métodos"
   ]
  },
  {
   "cell_type": "markdown",
   "metadata": {
    "id": "zz6xxH9X84RE"
   },
   "source": [
    "O presente trabalho foi desenvolvido utilizando `Google Colaboratory` e `Jupyter Notebook`, com a importação das seguintes bibliotecas:\n",
    "> * `Pandas`: é uma biblioteca para uso em Python, open-source e de uso gratuito (sob uma licença BSD), que fornece ferramentas para análise e manipulação de dados. ;<br>\n",
    "> * `Numpy`: é uma biblioteca para a linguagem Python com funções para se trabalhar com computação numérica. Seu principal objeto é o vetor n-dimensional, ou ndarray .;<br>\n",
    "> * `Matplotlib`: é uma biblioteca com recursos para a geração de gráficos 2D a partir de arrays. Gráficos comuns podem ser criados com alta qualidade a partir de comandos simples, inspirados nos comandos gráficos do MATLAB;<br>\n",
    "> * `Seaborn`: é uma biblioteca que atua em cima do matplotlib e ajuda a melhorar o visual dos gráficos, dando uma aparência mais bem acabada; e<br>\n",
    "> * `Datetime`: é um módulo que fornece as classes para manipulação de datas e horas. Ainda que a aritmética de data e hora seja suportada, o foco da implementação é na extração eficiente do atributo para formatação da saída e manipulação.\n",
    "\n",
    "A base de dados pode ser encontrada no site da Câmara ( https://www.camara.leg.br/cota-parlamentar/ ), de acesso livre.\n",
    "\n",
    "Para versionamento do código utilizamos o `Git` e `GitHub` para publicação do trabalho.\n",
    "\n",
    "Para organização e acompanhamento das tarefas entre os integrantes do grupo foi utilizado o `Trello`.\n",
    "\n",
    "As reuniões foram estabelecidas através da plataforma `Discord`."
   ]
  },
  {
   "cell_type": "markdown",
   "metadata": {
    "id": "yorWRC0y84RF"
   },
   "source": [
    "# **3.** Importando nossas bibliotecas"
   ]
  },
  {
   "cell_type": "markdown",
   "metadata": {
    "id": "lNWHLhJc84RF"
   },
   "source": [
    "A parte incial, simples importação de bibliotecas que serão utilizadas."
   ]
  },
  {
   "cell_type": "code",
   "execution_count": 56,
   "metadata": {
    "id": "6X5ldIquTfk9"
   },
   "outputs": [],
   "source": [
    "import pandas as pd\n",
    "import numpy as np\n",
    "import matplotlib.pyplot as plt"
   ]
  },
  {
   "cell_type": "markdown",
   "metadata": {
    "id": "i7R8bFEPTflC"
   },
   "source": [
    "## **3.2.** Importando nossos dados"
   ]
  },
  {
   "cell_type": "code",
   "execution_count": 6,
   "metadata": {
    "id": "n1PvipkSTflO"
   },
   "outputs": [],
   "source": [
    "df1 = pd.read_csv('Ano-2019.csv', sep=';')\n",
    "df2 = pd.read_csv('Ano-2020.csv', sep=';')\n",
    "df3 = pd.read_csv('Ano-2021.csv', sep=';')"
   ]
  },
  {
   "cell_type": "markdown",
   "metadata": {
    "id": "BqliSP5Q84RI"
   },
   "source": [
    "## **3.3.** Começando com limpeza e verificação de dados"
   ]
  },
  {
   "cell_type": "code",
   "execution_count": 7,
   "metadata": {
    "id": "eZKq04yqXV4G"
   },
   "outputs": [],
   "source": [
    "#Concatenando os 3 arquivos em um único\n",
    "df_unico = pd.concat([df1,df2,df3])"
   ]
  },
  {
   "cell_type": "code",
   "execution_count": null,
   "metadata": {
    "colab": {
     "base_uri": "https://localhost:8080/"
    },
    "id": "jAfX1cnE84RJ",
    "outputId": "4688de17-8de2-419b-881e-d9df35c4b7fa"
   },
   "outputs": [],
   "source": [
    "# Verificando o número de partidos que contém o DataFrame\n",
    "df_unico.sgPartido.value_counts()"
   ]
  },
  {
   "cell_type": "code",
   "execution_count": 9,
   "metadata": {
    "id": "oWpgPnQ1XWtE"
   },
   "outputs": [],
   "source": [
    "# Criando uma cópia do dataframe para eventuais imprevistos que possam ocorrer\n",
    "df_copia = df_unico.copy()"
   ]
  },
  {
   "cell_type": "code",
   "execution_count": null,
   "metadata": {
    "colab": {
     "base_uri": "https://localhost:8080/"
    },
    "id": "cs7mB3tNXZ7Y",
    "outputId": "7877d51a-4591-44fa-b816-dfe491d54f26"
   },
   "outputs": [],
   "source": [
    "# Verificando o nome das colunas para facilitar na análise\n",
    "df_copia.columns"
   ]
  },
  {
   "cell_type": "code",
   "execution_count": null,
   "metadata": {
    "colab": {
     "base_uri": "https://localhost:8080/"
    },
    "id": "dnmX5tRsXhbX",
    "outputId": "5d491e01-66e9-4566-9427-7c6d956c4aec"
   },
   "outputs": [],
   "source": [
    "# Conferindo o tipo de dado em cada coluna\n",
    "df_copia.dtypes"
   ]
  },
  {
   "cell_type": "code",
   "execution_count": null,
   "metadata": {
    "colab": {
     "base_uri": "https://localhost:8080/"
    },
    "id": "L8gbslV8Xh7G",
    "outputId": "dc304ae2-28d2-4114-c92a-c47150d1256a"
   },
   "outputs": [],
   "source": [
    "# Vendo todas as informações e contando os valores não nulos em cada coluna\n",
    "df_copia.info()"
   ]
  },
  {
   "cell_type": "code",
   "execution_count": null,
   "metadata": {
    "colab": {
     "base_uri": "https://localhost:8080/"
    },
    "id": "Bk7JsqaMXnB1",
    "outputId": "66a0ebb3-adc8-4247-a969-47212e679caf"
   },
   "outputs": [],
   "source": [
    "# Procurando numero de dados nulos em percentual\n",
    "round(df_copia.isnull().mean()*100,2)"
   ]
  },
  {
   "cell_type": "code",
   "execution_count": null,
   "metadata": {
    "colab": {
     "base_uri": "https://localhost:8080/",
     "height": 364
    },
    "id": "KFgu2unNXnlN",
    "outputId": "abcd59a0-eed2-49a2-f418-f96241b304fe"
   },
   "outputs": [],
   "source": [
    "# o describe foi feito pra destacar os valores negativos presentes nas colunas:'vlrDocumento' e 'vlrLiquido' \n",
    "df_copia.describe()"
   ]
  },
  {
   "cell_type": "code",
   "execution_count": null,
   "metadata": {
    "colab": {
     "base_uri": "https://localhost:8080/"
    },
    "id": "Y0Ld6i5VX5EP",
    "outputId": "b5a8ad6a-c01e-40c1-cddc-4585b15c78a3"
   },
   "outputs": [],
   "source": [
    "# Essa consulta fizemos um novo df, filtrando na coluna 'txtDescricao' valores diferentes de 'PASSAGEM AÉREA - RPA'  e 'PASSAGEM AÉREA - SIGEPA'\n",
    "# a partir desse novo df fazer os cálculos de despesas.\n",
    "valores = df_copia[(df_copia['txtDescricao'] != 'PASSAGEM AÉREA - RPA')&(df_copia['txtDescricao'] != 'PASSAGEM AÉREA - SIGEPA')]\n",
    "valores['txtDescricao'].unique()\n",
    "valores.vlrLiquido"
   ]
  },
  {
   "cell_type": "code",
   "execution_count": null,
   "metadata": {
    "colab": {
     "base_uri": "https://localhost:8080/"
    },
    "id": "I10CR2QeZBSV",
    "outputId": "612087c7-45fd-4fc1-cd84-740ac0d45cbc"
   },
   "outputs": [],
   "source": [
    "# os dois valores negativos da coluna 'VrlLiquido'\n",
    "valores.query('vlrLiquido < 0')['vlrLiquido']"
   ]
  },
  {
   "cell_type": "code",
   "execution_count": null,
   "metadata": {
    "colab": {
     "base_uri": "https://localhost:8080/"
    },
    "id": "vLCzhibdZRFE",
    "outputId": "7129dfc0-2559-4aa0-972c-46aedd153bb3"
   },
   "outputs": [],
   "source": [
    "# Convertemos a coluna datEmissao de object para datatime e colocamos só pra mostrar o formato dia/mes/ano pq o horário é irrelevante para as consultas\n",
    "df_copia['datEmissao'] = pd.to_datetime(df_copia['datEmissao'], format = '%Y/%m/%d')\n",
    "df_copia['datEmissao']"
   ]
  },
  {
   "cell_type": "code",
   "execution_count": null,
   "metadata": {
    "colab": {
     "base_uri": "https://localhost:8080/"
    },
    "id": "dCWjhkYqZUUE",
    "outputId": "1b3b15bc-06bd-403c-f29e-f3e3e2359645"
   },
   "outputs": [],
   "source": [
    "#Conferindo se o type da data foi transformado\n",
    "df_copia.dtypes"
   ]
  },
  {
   "cell_type": "code",
   "execution_count": null,
   "metadata": {
    "colab": {
     "base_uri": "https://localhost:8080/"
    },
    "id": "RVO6Bj2w84RP",
    "outputId": "31c4690b-10d8-46f3-8a95-724660f951ee"
   },
   "outputs": [],
   "source": [
    "# Verificando o novo tamanho do DataFrame\n",
    "df_copia.shape"
   ]
  },
  {
   "cell_type": "code",
   "execution_count": null,
   "metadata": {
    "colab": {
     "base_uri": "https://localhost:8080/",
     "height": 423
    },
    "id": "ObInEfcq84RP",
    "outputId": "dd0857bb-6715-47a4-8c35-bd0082531793"
   },
   "outputs": [],
   "source": [
    "# Aqui estamos procurando por Parlamentares sem estado e sem partido.\n",
    "sem_partido_sem_uf = valores[valores['sgUF'].isnull()][['txNomeParlamentar', 'sgUF', 'sgPartido','vlrLiquido']]\n",
    "sem_partido_sem_uf"
   ]
  },
  {
   "cell_type": "code",
   "execution_count": 21,
   "metadata": {
    "id": "dRcVVz-F84RP"
   },
   "outputs": [],
   "source": [
    "#Atribuindo os partidos correspondentes as despesas atribuídas apenas a lideranças\n",
    "df_copia['sgPartido'] = np.where(df_copia['txNomeParlamentar'] == \"LIDERANÇA DO PSL\", 'PSL', df_copia.sgPartido)\n",
    "df_copia['sgPartido'] = np.where(df_copia['txNomeParlamentar'] == \"LIDERANÇA DO PT\", 'PT', df_copia.sgPartido)\n",
    "df_copia['sgPartido'] = np.where(df_copia['txNomeParlamentar'] == \"LIDERANÇA DO PTB\", 'PTB', df_copia.sgPartido) \n",
    "df_copia['sgPartido'] = np.where(df_copia['txNomeParlamentar'] == \"LIDERANÇA DO PSDB\", 'PSDB', df_copia.sgPartido)\n",
    "df_copia['sgPartido'] = np.where(df_copia['txNomeParlamentar'] == \"LIDERANÇA DO PODEMOS\", 'PODEMOS', df_copia.sgPartido)\n",
    "df_copia['sgPartido'] = np.where(df_copia['txNomeParlamentar'] == \"LIDERANÇA DO SOLIDARIEDADE\", 'SOLIDARIEDADE', df_copia.sgPartido)\n",
    "df_copia['sgPartido'] = np.where(df_copia['txNomeParlamentar'] == \"LIDERANÇA DO PSD\", 'PSD',df_copia.sgPartido)\n",
    "df_copia['sgPartido'] = np.where(df_copia['txNomeParlamentar'] == \"LIDERANÇA DO NOVO\", 'NOVO',df_copia.sgPartido)\n",
    "df_copia['sgPartido'] = np.where(df_copia['txNomeParlamentar'] == \"LIDERANÇA DO DEMOCRATAS\", 'DEMOCRATAS', df_copia.sgPartido)\n",
    "df_copia['sgPartido'] = np.where(df_copia['txNomeParlamentar'] == \"LIDERANÇA DO CIDADANIA\", 'CIDADANIA', df_copia.sgPartido)\n",
    "df_copia['sgPartido'] = np.where(df_copia['txNomeParlamentar'] == \"LIDERANÇA DO AVANTE\", 'AVANTE', df_copia.sgPartido)\n",
    "df_copia['sgPartido'] = np.where(df_copia['txNomeParlamentar'] == \"LIDERANÇA DO PDT\", 'PDT', df_copia.sgPartido)\n",
    "df_copia['sgPartido'] = np.where(df_copia['txNomeParlamentar'] == \"LIDERANÇA DO PSOL\", 'PSOL', df_copia.sgPartido)\n",
    "df_copia['sgPartido'] = np.where(df_copia['txNomeParlamentar'] == \"LIDERANÇA DO PROGRESSISTAS\", 'PROGRESSISTAS',df_copia.sgPartido)\n",
    "df_copia['sgPartido'] = np.where(df_copia['txNomeParlamentar'] == \"LIDERANÇA DO PARTIDO REPUBLICANO DA ORDEM SOCIAL\", 'SOCIAL', df_copia.sgPartido)"
   ]
  },
  {
   "cell_type": "code",
   "execution_count": null,
   "metadata": {
    "colab": {
     "base_uri": "https://localhost:8080/"
    },
    "id": "LGqDGevB84RQ",
    "outputId": "2e99b7c4-1925-4945-ca7a-036e832b3d5b"
   },
   "outputs": [],
   "source": [
    "# Verificando quantos partidos não possuem registros de UF\n",
    "sem_partido_sem_uf['txNomeParlamentar'].value_counts()"
   ]
  },
  {
   "cell_type": "code",
   "execution_count": null,
   "metadata": {
    "colab": {
     "base_uri": "https://localhost:8080/"
    },
    "id": "KqCM54Y_84RQ",
    "outputId": "98c02e19-6fd8-4e09-866d-76d3bfdfce08"
   },
   "outputs": [],
   "source": [
    "# Realizando a contagem de frequência por estado dentro do DataFrame\n",
    "df_unico.sgUF.value_counts()"
   ]
  },
  {
   "cell_type": "code",
   "execution_count": null,
   "metadata": {
    "colab": {
     "base_uri": "https://localhost:8080/",
     "height": 612
    },
    "id": "C6lPPzhw84RQ",
    "outputId": "db42e1ed-77ba-42f4-e10b-5dc594edf63a"
   },
   "outputs": [],
   "source": [
    "#Verificando o funcionamento da atribuição\n",
    "df_copia[df_copia['txNomeParlamentar'].str.match('LIDERANÇA')].sample(5)"
   ]
  },
  {
   "cell_type": "code",
   "execution_count": 25,
   "metadata": {},
   "outputs": [],
   "source": [
    "#Criando uma cópia para trabalharmos nas questões e realizar as análises devidas\n",
    "df_2 = df_copia.copy()"
   ]
  },
  {
   "cell_type": "markdown",
   "metadata": {},
   "source": [
    "# MÓDULO 6 - TOCANTINS"
   ]
  },
  {
   "cell_type": "code",
   "execution_count": null,
   "metadata": {},
   "outputs": [],
   "source": [
    "#Mostrar as colunas para explorarmos o df\n",
    "df_copia.columns"
   ]
  },
  {
   "cell_type": "code",
   "execution_count": 58,
   "metadata": {},
   "outputs": [],
   "source": [
    "#Novo dataframe com o filtro só para deputados do estado de Tocantins\n",
    "df_TO = df_copia[df_copia['sgUF'] == 'TO']"
   ]
  },
  {
   "cell_type": "code",
   "execution_count": null,
   "metadata": {},
   "outputs": [],
   "source": [
    "#Simples visualização dos primeiros registros\n",
    "df_TO.head(2)"
   ]
  },
  {
   "cell_type": "code",
   "execution_count": null,
   "metadata": {},
   "outputs": [],
   "source": [
    "df_TO.isna().sum()"
   ]
  },
  {
   "cell_type": "code",
   "execution_count": null,
   "metadata": {},
   "outputs": [],
   "source": [
    "\n",
    "df_tocantins = df_TO.sort_values(by=['vlrLiquido'], ascending=False)\n",
    "df_tocantins.head()"
   ]
  },
  {
   "cell_type": "code",
   "execution_count": null,
   "metadata": {},
   "outputs": [],
   "source": [
    "# Professora Dorinha gasta pra caramba\n",
    "\n",
    "dfteste = df_TO[df_TO['txNomeParlamentar'].str.contains('Osires Damaso')]\n",
    "dfteste2 = dfteste.sort_values(by=['vlrLiquido'], ascending=False)\n",
    "dfteste2.head()"
   ]
  },
  {
   "cell_type": "markdown",
   "metadata": {},
   "source": [
    "# Cnpj's"
   ]
  },
  {
   "cell_type": "code",
   "execution_count": null,
   "metadata": {},
   "outputs": [],
   "source": [
    "#Instalação do package requests para capturarmos dados por meio da url\n",
    "!pip3 install requests"
   ]
  },
  {
   "cell_type": "code",
   "execution_count": 69,
   "metadata": {},
   "outputs": [],
   "source": [
    "#Importação das libs que trabalharemos e configurar display para visualizar todas as colunas (jupyter)\n",
    "import requests\n",
    "import json as js\n",
    "pd.set_option('display.max_columns', None)"
   ]
  },
  {
   "cell_type": "code",
   "execution_count": null,
   "metadata": {},
   "outputs": [],
   "source": [
    "#Seleção dos cnpj/cpf com total de soma e ordenado para somente os 10 primeiros. Transformandos a series em df e aplicamos...\n",
    "#nome da coluna de retorno do groupby de Valor e resetamos o index\n",
    "df_gasto = pd.DataFrame({'Valor': df_copia.groupby(['txtCNPJCPF'])['vlrDocumento'].sum().sort_values(ascending = False).head(10)}).reset_index()\n",
    "df_gasto"
   ]
  },
  {
   "cell_type": "code",
   "execution_count": 67,
   "metadata": {},
   "outputs": [],
   "source": [
    "#Atribuímos o retorno do get no formado json à nova coluna dados_CNPJ em nosso dataframe do groupby\n",
    "df_gasto['dados_CNPJ'] = df_gasto['txtCNPJCPF'].map(lambda x: requests.get(f\"https://minhareceita.org/{x}\"))"
   ]
  },
  {
   "cell_type": "code",
   "execution_count": 70,
   "metadata": {},
   "outputs": [],
   "source": [
    "#Atribuímos a formatação do json para modelo de dicionário\n",
    "df_gasto['dados_CNPJ'] = df_gasto['dados_CNPJ'].map(lambda x: js.loads(x.content))"
   ]
  },
  {
   "cell_type": "code",
   "execution_count": null,
   "metadata": {},
   "outputs": [],
   "source": [
    "#Simples visualização formatando o dict em list e convertendo-o em dataframe\n",
    "pd.DataFrame(list(df_gasto['dados_CNPJ']))"
   ]
  },
  {
   "cell_type": "code",
   "execution_count": null,
   "metadata": {},
   "outputs": [],
   "source": [
    "df_TO"
   ]
  }
 ],
 "metadata": {
  "colab": {
   "collapsed_sections": [],
   "include_colab_link": true,
   "name": "notebook1.ipynb",
   "provenance": []
  },
  "interpreter": {
   "hash": "1899763f7b86cc3880a639718ab7c3bc6becf25acf3b993d363e255dc1991165"
  },
  "kernelspec": {
   "display_name": "Python 3 (ipykernel)",
   "language": "python",
   "name": "python3"
  },
  "language_info": {
   "codemirror_mode": {
    "name": "ipython",
    "version": 3
   },
   "file_extension": ".py",
   "mimetype": "text/x-python",
   "name": "python",
   "nbconvert_exporter": "python",
   "pygments_lexer": "ipython3",
   "version": "3.10.4"
  }
 },
 "nbformat": 4,
 "nbformat_minor": 1
}
