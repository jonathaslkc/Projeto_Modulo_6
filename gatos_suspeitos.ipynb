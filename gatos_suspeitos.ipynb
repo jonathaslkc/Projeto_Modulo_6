{
 "cells": [
  {
   "cell_type": "markdown",
   "metadata": {
    "colab_type": "text",
    "id": "view-in-github"
   },
   "source": [
    "<a href=\"https://colab.research.google.com/github/Sartorio12/Projeto_Modulo_5/blob/main/notebook1.ipynb\" target=\"_parent\"><img src=\"https://colab.research.google.com/assets/colab-badge.svg\" alt=\"Open In Colab\"/></a>"
   ]
  },
  {
   "cell_type": "markdown",
   "metadata": {
    "id": "w8Pkkz7384Q5"
   },
   "source": [
    "# <center>Projeto Final do Módulo VI</center>\n",
    "<center> Alguns gastos suspeitos identificados\n",
    "\n",
    "<center><img src='https://i.imgur.com/QLJaHpa.png' style=\"width:200px\">\n",
    "\n",
    "<center><a href=\"https://colab.research.google.com/github/Sartorio12/Projeto_Modulo_5/blob/main/notebook1.ipynb\" target=\"_parent\"><img src=\"https://colab.research.google.com/assets/colab-badge.svg\" alt=\"Open In Colab\"/></a>\n",
    "\n",
    "**Grupo 5:** <a href=\"https://github.com/LeGuigs\" target=\"_blank\">Guilherme Rezende</a> ; <a href=\"https://github.com/leticiafelippe\" target=\"_blank\">Letícia Felippe</a> ; <a href=\"https://github.com/sartorio12\" target=\"_blank\">Mateus Sartorio</a> ; <a href=\"https://github.com/hara0-tavares\" target=\"_blank\">Harão Tavares</a> ; <a href=\"https://github.com/jonathaslkc\" target=\"_blank\">Jonathas Carvalho</a>\n",
    "\n"
   ]
  },
  {
   "cell_type": "markdown",
   "metadata": {
    "id": "hytt2A2k84Q9"
   },
   "source": [
    "<center><img src='https://i.imgur.com/QadqCNH.jpg' style=\"width:600px\">\n",
    "<center>Fonte: Agência Câmara de Notícias — Roque de Sá/Agência Senado"
   ]
  },
  {
   "cell_type": "markdown",
   "metadata": {
    "id": "2QqPkbsd84Q-"
   },
   "source": [
    "---\n",
    "\n",
    "# **1.** Sobre o estudo e objetivos"
   ]
  },
  {
   "cell_type": "markdown",
   "metadata": {
    "id": "WpcYUhQ884Q_"
   },
   "source": [
    "O que você imagina quando ouve o conceito **\"Cota Parlamentar\"** ou **\"Cota para o Exercício da Atividade Parlamentar (CEAP)\"**?\n",
    "\n",
    "Você sabia que é através da **CEAP** que deputados e senadores custeiam suas despesas em atividades parlamentares? O mais interessante disso, é que os dados da CEAP que iremos analisar hoje são abertos e podem ser acessados por qualquer pesso, ou seja, qualquer pessoa pode ver como os deputados e senadores utilizam essse tipo de recurso. \n",
    "\n",
    "Apesar de cobrir uma quantidade grande de despesas, os gastos com a CEAP devem seguir uma série de regras definidas pelo Ato da Mesa 43/2009. Isso quer dizer que os parlamentares não podem utilizar esses recursos de qualquer maneira. Alguns exemplos de gastos vedados são a aquisição de gêneros alimentícios (ex.: o parlamentar pode gastar com as suas refeições mas não pode comprar carne para o churrasco no fim de semana), gastos de caráter eleitoral e gastos com a participação em cursos de educação básica, graduação e pós-graduação.\n",
    "\n",
    "Além disso, como citado anteriormente, a CEAP é destinada a custear gastos exclusivamente vinculados ao exercício da atividade parlamentar, o que veda o seu uso para o benefício de terceiros, como por exemplo, o pagamento de refeições para outras pessoas além do próprio parlamentar.\n",
    "Apesar de todas essas regras, a fiscalização desses gastos é bastante falha, sendo comum o surgimento de denúncias sobre irregularidades.\n",
    "\n",
    "Neste cenário surgiu um projeto chamado Operação Serenata de Amor ( https://serenata.ai/ ), que tem como objetivo utilizar ferramentas de ciência de dados para fiscalizar gastos públicos e compartilhar informações relevantes com o público. O projeto tem uma série de módulos. Alguns deles são responsáveis por baixar e limpar os dados, outros por identificar irregularidades e por fim existem alguns módulos responsáveis pela divulgação de eventuais alertas de irregularidades. Um desses módulos de divulgação é o bot @RosieDaSerenata, responsável por publicar alertas de irregularidades no Twitter.\n",
    "\n",
    "<center><img src='https://i.imgur.com/AjyWlf1.jpg'>"
   ]
  },
  {
   "cell_type": "markdown",
   "metadata": {
    "id": "qXuQYpmx84RB"
   },
   "source": [
    "**É sobre isso que vamos tratar nesta análise, que tem dois focos principais:**\n",
    "- *Demonstrar como investigaremos esses dados utilizando Python.*\n",
    "- *Elaborar conceitos a respeito da utilização da CEAP nos últimos 3 anos, com destaques no cenário de pandemia(COVID-19).*\n",
    "\n",
    "#### <center> **Nós do grupo 5 esperamos que a leitura desse notebook seja esclarecedora e útil :)**"
   ]
  },
  {
   "cell_type": "markdown",
   "metadata": {
    "id": "zzvSqRuh84RB"
   },
   "source": [
    "# **2.** Começando a nossa análise"
   ]
  },
  {
   "cell_type": "markdown",
   "metadata": {
    "id": "DYBCfql084RC"
   },
   "source": [
    "Essa parte será um pouco teórica, pois nela exibiremos um pouco sobre a limpeza dos dados coletados no site da Câmara. Caso você queira somente acompanhar quais foram as nossas deduções baseadas nessas informações, pode pular para a parte X ( Preciso preencher a parte ).\n",
    "\n",
    "*Antes de mais nada, vamos apresentar um glossário sobre o DataSet:*\n",
    "\n",
    "- `Nome Parlamentar(txNomeParlamentar)` :  *Nome adotado pelo Parlamentar ao tomar posse do seu mandato.*\n",
    "- `ideCadastro(Identificador Único do Parlamentar)` : *Número que identifica unicamente um deputado federal na CD.*\n",
    "- `nuCarteiraParlamentar(Número da Carteira Parlamentar)` : *Documento usado para identificar um deputado federal na CD.*\n",
    "- `nuLegislatura(Número da  Legislatura)` : *No contexto da cota CEAP, representa o ano base de início da legislatura.*\n",
    "- `sgUF(Sigla da Unidade Federal)` : *Representa a UF do parlamentar.*\n",
    "- `sdPartido(Sigla do Partido)` : *Representa o partido do parlamentar.*\n",
    "- `codLegislatura(Código da Legislatura)` : *No contexto da cota CEAP, o seu conteúdo representa o código identificador da Legislatura.*\n",
    "- `numSubCota(Número da Subcota) `: *Representa o código do Tipo de Despesa, comprovada por meio da emissão de um documento fiscal, a qual é debitada na cota do deputado.*\n",
    "- `txtDescricao(Descrição da Subcota)` : *Descrição do Tipo de Despesa.*\n",
    "- `numEspecificacaoSubCota(Número da Especificação da Subcota)` : *Representa o código desta especificação mais detalhada.*\n",
    "- `txtDescricaoEspecificacao(Descrição da Especificação da Subcota)` : *Detalha o tipo de despesa efetuada.*\n",
    "- `txtFornecedor(Fornecedor)` : *Representa o fornecedor do produto ou serviço presente no documento fiscal.*\n",
    "- `txtCNPJCPF(CNPJ/CPF)` : *Indica se o fornecedor é CNPJ ou CPF , presente no documento fiscal.*\n",
    "- `txtNumero(Número do Documento)` : *Indica o número do documento do emissor da NF em questão.*\n",
    "- `indTipoDocumento(Indicativo de Tipo de Documento Fiscal)` : *Tipo de documento do fiscal – 0 para Nota Fiscal; 1 para Recibo; 2 para Despesa no Exterior.*\n",
    "- `datEmissao(Data de Emissão)` : *A data de emissão do documento.*\n",
    "- `vlrDocumento(Valor do Documento)` : *O seu conteúdo é o valor de face do documento fiscal ou o valor do documento que deu causa à despesa.*\n",
    "- `vlrGlosa(Valor da Glosa)` : *Valor da glosa do documento que deu causa à despesa.*\n",
    "- `vlrLiquido(Valor Liquido)` : *Valor líquido do documento (será calculado pela diferença entre o Valor do Documento e o Valor da Glosa)*\n",
    "- `numMes(Mês) `: *Indica o mês da emissão da nota.*\n",
    "- `numAno(Ano) `: *Indica o ano da emissão da nota.*\n",
    "- `numParcela(Número da Parcela)` : *O seu conteúdo representa o número da parcela do documento fiscal. Ocorre quando o documento tem de ser reembolsado de forma parcelada.*\n",
    "- `txtPassageiro(Nome do Passageiro)` : *O nome do passageiro, em caso da emissão do documento ser uma passagem aérea.*\n",
    "- `txtTrecho(Trecho)` : *Representa qual o trecho da viagem, somente em casos de viagem aérea.*\n",
    "- `numLote(Número do Lote) `: *Representa a capa do lote em que esse documento será incluído para ser entregue na Câmara para ressarcimento.*\n",
    "- `numRessarcimento(Número do Ressarcimento) `: *Indica o ressarcimento do qual o documento faz parte.*\n",
    "- `vlrRestituição(Valor da Restituição)` : *Indica o valor que será restituído sobre aquele documento.*\n",
    "- `nuDeputadoId(Identificador do Solicitante)` : *Número que identifica um Parlamentar ou Liderança na Transparência da Cota para Exercício da Atividade Parlamentar.*"
   ]
  },
  {
   "cell_type": "markdown",
   "metadata": {
    "id": "M0vl8brR84RD"
   },
   "source": [
    "## **2.1.** Materiais e métodos"
   ]
  },
  {
   "cell_type": "markdown",
   "metadata": {
    "id": "zz6xxH9X84RE"
   },
   "source": [
    "O presente trabalho foi desenvolvido utilizando `Google Colaboratory` e `Jupyter Notebook`, com a importação das seguintes bibliotecas:\n",
    "> * `Pandas`: é uma biblioteca para uso em Python, open-source e de uso gratuito (sob uma licença BSD), que fornece ferramentas para análise e manipulação de dados. ;<br>\n",
    "> * `Numpy`: é uma biblioteca para a linguagem Python com funções para se trabalhar com computação numérica. Seu principal objeto é o vetor n-dimensional, ou ndarray .;<br>\n",
    "> * `Matplotlib`: é uma biblioteca com recursos para a geração de gráficos 2D a partir de arrays. Gráficos comuns podem ser criados com alta qualidade a partir de comandos simples, inspirados nos comandos gráficos do MATLAB;<br>\n",
    "> * `Seaborn`: é uma biblioteca que atua em cima do matplotlib e ajuda a melhorar o visual dos gráficos, dando uma aparência mais bem acabada; e<br>\n",
    "> * `Datetime`: é um módulo que fornece as classes para manipulação de datas e horas. Ainda que a aritmética de data e hora seja suportada, o foco da implementação é na extração eficiente do atributo para formatação da saída e manipulação.\n",
    "\n",
    "A base de dados pode ser encontrada no site da Câmara ( https://www.camara.leg.br/cota-parlamentar/ ), de acesso livre.\n",
    "\n",
    "Para versionamento do código utilizamos o `Git` e `GitHub` para publicação do trabalho.\n",
    "\n",
    "Para organização e acompanhamento das tarefas entre os integrantes do grupo foi utilizado o `Trello`.\n",
    "\n",
    "As reuniões foram estabelecidas através da plataforma `Discord`."
   ]
  },
  {
   "cell_type": "markdown",
   "metadata": {
    "id": "yorWRC0y84RF"
   },
   "source": [
    "# **3.** Importando nossas bibliotecas"
   ]
  },
  {
   "cell_type": "markdown",
   "metadata": {
    "id": "lNWHLhJc84RF"
   },
   "source": [
    "A parte incial, simples importação de bibliotecas que serão utilizadas."
   ]
  },
  {
   "cell_type": "code",
   "execution_count": 1,
   "metadata": {
    "id": "6X5ldIquTfk9"
   },
   "outputs": [],
   "source": [
    "import pandas as pd\n",
    "import numpy as np\n",
    "import matplotlib.pyplot as plt\n",
    "from sklearn.preprocessing import MinMaxScaler"
   ]
  },
  {
   "cell_type": "markdown",
   "metadata": {
    "id": "i7R8bFEPTflC"
   },
   "source": [
    "## **3.2.** Importando nossos dados"
   ]
  },
  {
   "cell_type": "code",
   "execution_count": 2,
   "metadata": {
    "id": "n1PvipkSTflO"
   },
   "outputs": [],
   "source": [
    "df1 = pd.read_csv('Ano-2019.csv', sep=';')\n",
    "df2 = pd.read_csv('Ano-2020.csv', sep=';')\n",
    "df3 = pd.read_csv('Ano-2021.csv', sep=';')"
   ]
  },
  {
   "cell_type": "markdown",
   "metadata": {
    "id": "BqliSP5Q84RI"
   },
   "source": [
    "## **3.3.** Começando com limpeza e verificação de dados"
   ]
  },
  {
   "cell_type": "code",
   "execution_count": 3,
   "metadata": {
    "id": "eZKq04yqXV4G"
   },
   "outputs": [],
   "source": [
    "#Concatenando os 3 arquivos em um único\n",
    "df_unico = pd.concat([df1,df2,df3])"
   ]
  },
  {
   "cell_type": "code",
   "execution_count": 4,
   "metadata": {
    "colab": {
     "base_uri": "https://localhost:8080/"
    },
    "id": "jAfX1cnE84RJ",
    "outputId": "4688de17-8de2-419b-881e-d9df35c4b7fa"
   },
   "outputs": [
    {
     "data": {
      "text/plain": [
       "PT               71008\n",
       "PSL              67028\n",
       "PP               44060\n",
       "PL               38495\n",
       "MDB              38487\n",
       "PSD              36623\n",
       "PSB              34907\n",
       "PSDB             34371\n",
       "REPUBLICANOS     29028\n",
       "PDT              28706\n",
       "DEM              27015\n",
       "PTB              12719\n",
       "SOLIDARIEDADE    12350\n",
       "PODE             10574\n",
       "CIDADANIA         9341\n",
       "AVANTE            9257\n",
       "PROS              8599\n",
       "PSOL              8099\n",
       "PCdoB             7288\n",
       "PSC               6991\n",
       "PATRIOTA          5951\n",
       "NOVO              5829\n",
       "PV                3761\n",
       "PR                1118\n",
       "REDE               708\n",
       "PRB                531\n",
       "S.PART.            377\n",
       "PPS                225\n",
       "PATRI              154\n",
       "PHS                139\n",
       "PPL                 20\n",
       "Name: sgPartido, dtype: int64"
      ]
     },
     "execution_count": 4,
     "metadata": {},
     "output_type": "execute_result"
    }
   ],
   "source": [
    "# Verificando o número de partidos que contém o DataFrame\n",
    "df_unico.sgPartido.value_counts()"
   ]
  },
  {
   "cell_type": "code",
   "execution_count": 5,
   "metadata": {
    "id": "oWpgPnQ1XWtE"
   },
   "outputs": [],
   "source": [
    "# Criando uma cópia do dataframe para eventuais imprevistos que possam ocorrer\n",
    "df_copia = df_unico.copy()"
   ]
  },
  {
   "cell_type": "code",
   "execution_count": 6,
   "metadata": {
    "colab": {
     "base_uri": "https://localhost:8080/"
    },
    "id": "cs7mB3tNXZ7Y",
    "outputId": "7877d51a-4591-44fa-b816-dfe491d54f26"
   },
   "outputs": [
    {
     "data": {
      "text/plain": [
       "Index(['txNomeParlamentar', 'cpf', 'ideCadastro', 'nuCarteiraParlamentar',\n",
       "       'nuLegislatura', 'sgUF', 'sgPartido', 'codLegislatura', 'numSubCota',\n",
       "       'txtDescricao', 'numEspecificacaoSubCota', 'txtDescricaoEspecificacao',\n",
       "       'txtFornecedor', 'txtCNPJCPF', 'txtNumero', 'indTipoDocumento',\n",
       "       'datEmissao', 'vlrDocumento', 'vlrGlosa', 'vlrLiquido', 'numMes',\n",
       "       'numAno', 'numParcela', 'txtPassageiro', 'txtTrecho', 'numLote',\n",
       "       'numRessarcimento', 'vlrRestituicao', 'nuDeputadoId', 'ideDocumento',\n",
       "       'urlDocumento'],\n",
       "      dtype='object')"
      ]
     },
     "execution_count": 6,
     "metadata": {},
     "output_type": "execute_result"
    }
   ],
   "source": [
    "# Verificando o nome das colunas para facilitar na análise\n",
    "df_copia.columns"
   ]
  },
  {
   "cell_type": "code",
   "execution_count": 7,
   "metadata": {
    "colab": {
     "base_uri": "https://localhost:8080/"
    },
    "id": "dnmX5tRsXhbX",
    "outputId": "5d491e01-66e9-4566-9427-7c6d956c4aec"
   },
   "outputs": [
    {
     "data": {
      "text/plain": [
       "txNomeParlamentar             object\n",
       "cpf                          float64\n",
       "ideCadastro                  float64\n",
       "nuCarteiraParlamentar        float64\n",
       "nuLegislatura                  int64\n",
       "sgUF                          object\n",
       "sgPartido                     object\n",
       "codLegislatura                 int64\n",
       "numSubCota                     int64\n",
       "txtDescricao                  object\n",
       "numEspecificacaoSubCota        int64\n",
       "txtDescricaoEspecificacao     object\n",
       "txtFornecedor                 object\n",
       "txtCNPJCPF                    object\n",
       "txtNumero                     object\n",
       "indTipoDocumento               int64\n",
       "datEmissao                    object\n",
       "vlrDocumento                 float64\n",
       "vlrGlosa                     float64\n",
       "vlrLiquido                   float64\n",
       "numMes                         int64\n",
       "numAno                         int64\n",
       "numParcela                     int64\n",
       "txtPassageiro                 object\n",
       "txtTrecho                     object\n",
       "numLote                        int64\n",
       "numRessarcimento             float64\n",
       "vlrRestituicao               float64\n",
       "nuDeputadoId                   int64\n",
       "ideDocumento                   int64\n",
       "urlDocumento                  object\n",
       "dtype: object"
      ]
     },
     "execution_count": 7,
     "metadata": {},
     "output_type": "execute_result"
    }
   ],
   "source": [
    "# Conferindo o tipo de dado em cada coluna\n",
    "df_copia.dtypes"
   ]
  },
  {
   "cell_type": "code",
   "execution_count": 8,
   "metadata": {
    "colab": {
     "base_uri": "https://localhost:8080/"
    },
    "id": "L8gbslV8Xh7G",
    "outputId": "dc304ae2-28d2-4114-c92a-c47150d1256a"
   },
   "outputs": [
    {
     "name": "stdout",
     "output_type": "stream",
     "text": [
      "<class 'pandas.core.frame.DataFrame'>\n",
      "Int64Index: 555500 entries, 0 to 105604\n",
      "Data columns (total 31 columns):\n",
      " #   Column                     Non-Null Count   Dtype  \n",
      "---  ------                     --------------   -----  \n",
      " 0   txNomeParlamentar          555500 non-null  object \n",
      " 1   cpf                        553661 non-null  float64\n",
      " 2   ideCadastro                553759 non-null  float64\n",
      " 3   nuCarteiraParlamentar      553759 non-null  float64\n",
      " 4   nuLegislatura              555500 non-null  int64  \n",
      " 5   sgUF                       553759 non-null  object \n",
      " 6   sgPartido                  553759 non-null  object \n",
      " 7   codLegislatura             555500 non-null  int64  \n",
      " 8   numSubCota                 555500 non-null  int64  \n",
      " 9   txtDescricao               555500 non-null  object \n",
      " 10  numEspecificacaoSubCota    555500 non-null  int64  \n",
      " 11  txtDescricaoEspecificacao  136177 non-null  object \n",
      " 12  txtFornecedor              555467 non-null  object \n",
      " 13  txtCNPJCPF                 531710 non-null  object \n",
      " 14  txtNumero                  555500 non-null  object \n",
      " 15  indTipoDocumento           555500 non-null  int64  \n",
      " 16  datEmissao                 539850 non-null  object \n",
      " 17  vlrDocumento               555500 non-null  float64\n",
      " 18  vlrGlosa                   555500 non-null  float64\n",
      " 19  vlrLiquido                 555500 non-null  float64\n",
      " 20  numMes                     555500 non-null  int64  \n",
      " 21  numAno                     555500 non-null  int64  \n",
      " 22  numParcela                 555500 non-null  int64  \n",
      " 23  txtPassageiro              129493 non-null  object \n",
      " 24  txtTrecho                  128426 non-null  object \n",
      " 25  numLote                    555500 non-null  int64  \n",
      " 26  numRessarcimento           180842 non-null  float64\n",
      " 27  vlrRestituicao             364 non-null     float64\n",
      " 28  nuDeputadoId               555500 non-null  int64  \n",
      " 29  ideDocumento               555500 non-null  int64  \n",
      " 30  urlDocumento               349639 non-null  object \n",
      "dtypes: float64(8), int64(11), object(12)\n",
      "memory usage: 135.6+ MB\n"
     ]
    }
   ],
   "source": [
    "# Vendo todas as informações e contando os valores não nulos em cada coluna\n",
    "df_copia.info()"
   ]
  },
  {
   "cell_type": "code",
   "execution_count": 9,
   "metadata": {
    "colab": {
     "base_uri": "https://localhost:8080/"
    },
    "id": "Bk7JsqaMXnB1",
    "outputId": "66a0ebb3-adc8-4247-a969-47212e679caf"
   },
   "outputs": [
    {
     "data": {
      "text/plain": [
       "txNomeParlamentar             0.00\n",
       "cpf                           0.33\n",
       "ideCadastro                   0.31\n",
       "nuCarteiraParlamentar         0.31\n",
       "nuLegislatura                 0.00\n",
       "sgUF                          0.31\n",
       "sgPartido                     0.31\n",
       "codLegislatura                0.00\n",
       "numSubCota                    0.00\n",
       "txtDescricao                  0.00\n",
       "numEspecificacaoSubCota       0.00\n",
       "txtDescricaoEspecificacao    75.49\n",
       "txtFornecedor                 0.01\n",
       "txtCNPJCPF                    4.28\n",
       "txtNumero                     0.00\n",
       "indTipoDocumento              0.00\n",
       "datEmissao                    2.82\n",
       "vlrDocumento                  0.00\n",
       "vlrGlosa                      0.00\n",
       "vlrLiquido                    0.00\n",
       "numMes                        0.00\n",
       "numAno                        0.00\n",
       "numParcela                    0.00\n",
       "txtPassageiro                76.69\n",
       "txtTrecho                    76.88\n",
       "numLote                       0.00\n",
       "numRessarcimento             67.45\n",
       "vlrRestituicao               99.93\n",
       "nuDeputadoId                  0.00\n",
       "ideDocumento                  0.00\n",
       "urlDocumento                 37.06\n",
       "dtype: float64"
      ]
     },
     "execution_count": 9,
     "metadata": {},
     "output_type": "execute_result"
    }
   ],
   "source": [
    "# Procurando numero de dados nulos em percentual\n",
    "round(df_copia.isnull().mean()*100,2)"
   ]
  },
  {
   "cell_type": "code",
   "execution_count": 10,
   "metadata": {
    "colab": {
     "base_uri": "https://localhost:8080/",
     "height": 364
    },
    "id": "KFgu2unNXnlN",
    "outputId": "abcd59a0-eed2-49a2-f418-f96241b304fe"
   },
   "outputs": [
    {
     "data": {
      "text/html": [
       "<div>\n",
       "<style scoped>\n",
       "    .dataframe tbody tr th:only-of-type {\n",
       "        vertical-align: middle;\n",
       "    }\n",
       "\n",
       "    .dataframe tbody tr th {\n",
       "        vertical-align: top;\n",
       "    }\n",
       "\n",
       "    .dataframe thead th {\n",
       "        text-align: right;\n",
       "    }\n",
       "</style>\n",
       "<table border=\"1\" class=\"dataframe\">\n",
       "  <thead>\n",
       "    <tr style=\"text-align: right;\">\n",
       "      <th></th>\n",
       "      <th>cpf</th>\n",
       "      <th>ideCadastro</th>\n",
       "      <th>nuCarteiraParlamentar</th>\n",
       "      <th>nuLegislatura</th>\n",
       "      <th>codLegislatura</th>\n",
       "      <th>numSubCota</th>\n",
       "      <th>numEspecificacaoSubCota</th>\n",
       "      <th>indTipoDocumento</th>\n",
       "      <th>vlrDocumento</th>\n",
       "      <th>vlrGlosa</th>\n",
       "      <th>vlrLiquido</th>\n",
       "      <th>numMes</th>\n",
       "      <th>numAno</th>\n",
       "      <th>numParcela</th>\n",
       "      <th>numLote</th>\n",
       "      <th>numRessarcimento</th>\n",
       "      <th>vlrRestituicao</th>\n",
       "      <th>nuDeputadoId</th>\n",
       "      <th>ideDocumento</th>\n",
       "    </tr>\n",
       "  </thead>\n",
       "  <tbody>\n",
       "    <tr>\n",
       "      <th>count</th>\n",
       "      <td>5.536610e+05</td>\n",
       "      <td>553759.000000</td>\n",
       "      <td>553759.000000</td>\n",
       "      <td>555500.000000</td>\n",
       "      <td>555500.000000</td>\n",
       "      <td>555500.000000</td>\n",
       "      <td>555500.000000</td>\n",
       "      <td>555500.000000</td>\n",
       "      <td>555500.000000</td>\n",
       "      <td>555500.000000</td>\n",
       "      <td>555500.000000</td>\n",
       "      <td>555500.000000</td>\n",
       "      <td>555500.000000</td>\n",
       "      <td>555500.000000</td>\n",
       "      <td>5.555000e+05</td>\n",
       "      <td>180842.0</td>\n",
       "      <td>364.000000</td>\n",
       "      <td>555500.000000</td>\n",
       "      <td>5.555000e+05</td>\n",
       "    </tr>\n",
       "    <tr>\n",
       "      <th>mean</th>\n",
       "      <td>3.208493e+10</td>\n",
       "      <td>166015.342644</td>\n",
       "      <td>289.007700</td>\n",
       "      <td>2018.894387</td>\n",
       "      <td>55.973597</td>\n",
       "      <td>250.656994</td>\n",
       "      <td>0.251131</td>\n",
       "      <td>1.029525</td>\n",
       "      <td>884.412172</td>\n",
       "      <td>3.900387</td>\n",
       "      <td>808.744693</td>\n",
       "      <td>6.083879</td>\n",
       "      <td>2019.669870</td>\n",
       "      <td>0.000238</td>\n",
       "      <td>1.130421e+06</td>\n",
       "      <td>0.0</td>\n",
       "      <td>873.633571</td>\n",
       "      <td>2734.361870</td>\n",
       "      <td>5.045073e+06</td>\n",
       "    </tr>\n",
       "    <tr>\n",
       "      <th>std</th>\n",
       "      <td>2.921625e+10</td>\n",
       "      <td>45864.510704</td>\n",
       "      <td>153.129661</td>\n",
       "      <td>0.641326</td>\n",
       "      <td>0.160331</td>\n",
       "      <td>412.069770</td>\n",
       "      <td>0.457949</td>\n",
       "      <td>1.567946</td>\n",
       "      <td>2464.526292</td>\n",
       "      <td>139.446699</td>\n",
       "      <td>2464.253989</td>\n",
       "      <td>3.337029</td>\n",
       "      <td>0.775475</td>\n",
       "      <td>0.015413</td>\n",
       "      <td>7.872364e+05</td>\n",
       "      <td>0.0</td>\n",
       "      <td>2367.571616</td>\n",
       "      <td>773.342999</td>\n",
       "      <td>2.865350e+06</td>\n",
       "    </tr>\n",
       "    <tr>\n",
       "      <th>min</th>\n",
       "      <td>1.608657e+06</td>\n",
       "      <td>4930.000000</td>\n",
       "      <td>1.000000</td>\n",
       "      <td>2015.000000</td>\n",
       "      <td>55.000000</td>\n",
       "      <td>1.000000</td>\n",
       "      <td>0.000000</td>\n",
       "      <td>0.000000</td>\n",
       "      <td>-6605.570000</td>\n",
       "      <td>0.000000</td>\n",
       "      <td>-7821.200000</td>\n",
       "      <td>1.000000</td>\n",
       "      <td>2019.000000</td>\n",
       "      <td>0.000000</td>\n",
       "      <td>0.000000e+00</td>\n",
       "      <td>0.0</td>\n",
       "      <td>1.000000</td>\n",
       "      <td>19.000000</td>\n",
       "      <td>0.000000e+00</td>\n",
       "    </tr>\n",
       "    <tr>\n",
       "      <th>25%</th>\n",
       "      <td>6.197278e+09</td>\n",
       "      <td>141531.000000</td>\n",
       "      <td>160.000000</td>\n",
       "      <td>2019.000000</td>\n",
       "      <td>56.000000</td>\n",
       "      <td>3.000000</td>\n",
       "      <td>0.000000</td>\n",
       "      <td>0.000000</td>\n",
       "      <td>63.000000</td>\n",
       "      <td>0.000000</td>\n",
       "      <td>49.510000</td>\n",
       "      <td>3.000000</td>\n",
       "      <td>2019.000000</td>\n",
       "      <td>0.000000</td>\n",
       "      <td>0.000000e+00</td>\n",
       "      <td>0.0</td>\n",
       "      <td>6.975000</td>\n",
       "      <td>2265.000000</td>\n",
       "      <td>1.705442e+06</td>\n",
       "    </tr>\n",
       "    <tr>\n",
       "      <th>50%</th>\n",
       "      <td>2.227515e+10</td>\n",
       "      <td>178938.000000</td>\n",
       "      <td>292.000000</td>\n",
       "      <td>2019.000000</td>\n",
       "      <td>56.000000</td>\n",
       "      <td>10.000000</td>\n",
       "      <td>0.000000</td>\n",
       "      <td>0.000000</td>\n",
       "      <td>201.380000</td>\n",
       "      <td>0.000000</td>\n",
       "      <td>184.500000</td>\n",
       "      <td>6.000000</td>\n",
       "      <td>2019.000000</td>\n",
       "      <td>0.000000</td>\n",
       "      <td>1.620008e+06</td>\n",
       "      <td>0.0</td>\n",
       "      <td>26.105000</td>\n",
       "      <td>3062.000000</td>\n",
       "      <td>6.888214e+06</td>\n",
       "    </tr>\n",
       "    <tr>\n",
       "      <th>75%</th>\n",
       "      <td>5.098035e+10</td>\n",
       "      <td>204449.000000</td>\n",
       "      <td>424.000000</td>\n",
       "      <td>2019.000000</td>\n",
       "      <td>56.000000</td>\n",
       "      <td>122.000000</td>\n",
       "      <td>0.000000</td>\n",
       "      <td>1.000000</td>\n",
       "      <td>747.600000</td>\n",
       "      <td>0.000000</td>\n",
       "      <td>642.000000</td>\n",
       "      <td>9.000000</td>\n",
       "      <td>2020.000000</td>\n",
       "      <td>0.000000</td>\n",
       "      <td>1.707915e+06</td>\n",
       "      <td>0.0</td>\n",
       "      <td>277.395000</td>\n",
       "      <td>3312.000000</td>\n",
       "      <td>7.075930e+06</td>\n",
       "    </tr>\n",
       "    <tr>\n",
       "      <th>max</th>\n",
       "      <td>9.989866e+10</td>\n",
       "      <td>217330.000000</td>\n",
       "      <td>627.000000</td>\n",
       "      <td>2019.000000</td>\n",
       "      <td>56.000000</td>\n",
       "      <td>999.000000</td>\n",
       "      <td>4.000000</td>\n",
       "      <td>4.000000</td>\n",
       "      <td>172000.000000</td>\n",
       "      <td>86000.000000</td>\n",
       "      <td>151260.000000</td>\n",
       "      <td>12.000000</td>\n",
       "      <td>2021.000000</td>\n",
       "      <td>1.000000</td>\n",
       "      <td>1.789366e+06</td>\n",
       "      <td>0.0</td>\n",
       "      <td>20000.000000</td>\n",
       "      <td>3487.000000</td>\n",
       "      <td>7.245337e+06</td>\n",
       "    </tr>\n",
       "  </tbody>\n",
       "</table>\n",
       "</div>"
      ],
      "text/plain": [
       "                cpf    ideCadastro  nuCarteiraParlamentar  nuLegislatura  \\\n",
       "count  5.536610e+05  553759.000000          553759.000000  555500.000000   \n",
       "mean   3.208493e+10  166015.342644             289.007700    2018.894387   \n",
       "std    2.921625e+10   45864.510704             153.129661       0.641326   \n",
       "min    1.608657e+06    4930.000000               1.000000    2015.000000   \n",
       "25%    6.197278e+09  141531.000000             160.000000    2019.000000   \n",
       "50%    2.227515e+10  178938.000000             292.000000    2019.000000   \n",
       "75%    5.098035e+10  204449.000000             424.000000    2019.000000   \n",
       "max    9.989866e+10  217330.000000             627.000000    2019.000000   \n",
       "\n",
       "       codLegislatura     numSubCota  numEspecificacaoSubCota  \\\n",
       "count   555500.000000  555500.000000            555500.000000   \n",
       "mean        55.973597     250.656994                 0.251131   \n",
       "std          0.160331     412.069770                 0.457949   \n",
       "min         55.000000       1.000000                 0.000000   \n",
       "25%         56.000000       3.000000                 0.000000   \n",
       "50%         56.000000      10.000000                 0.000000   \n",
       "75%         56.000000     122.000000                 0.000000   \n",
       "max         56.000000     999.000000                 4.000000   \n",
       "\n",
       "       indTipoDocumento   vlrDocumento       vlrGlosa     vlrLiquido  \\\n",
       "count     555500.000000  555500.000000  555500.000000  555500.000000   \n",
       "mean           1.029525     884.412172       3.900387     808.744693   \n",
       "std            1.567946    2464.526292     139.446699    2464.253989   \n",
       "min            0.000000   -6605.570000       0.000000   -7821.200000   \n",
       "25%            0.000000      63.000000       0.000000      49.510000   \n",
       "50%            0.000000     201.380000       0.000000     184.500000   \n",
       "75%            1.000000     747.600000       0.000000     642.000000   \n",
       "max            4.000000  172000.000000   86000.000000  151260.000000   \n",
       "\n",
       "              numMes         numAno     numParcela       numLote  \\\n",
       "count  555500.000000  555500.000000  555500.000000  5.555000e+05   \n",
       "mean        6.083879    2019.669870       0.000238  1.130421e+06   \n",
       "std         3.337029       0.775475       0.015413  7.872364e+05   \n",
       "min         1.000000    2019.000000       0.000000  0.000000e+00   \n",
       "25%         3.000000    2019.000000       0.000000  0.000000e+00   \n",
       "50%         6.000000    2019.000000       0.000000  1.620008e+06   \n",
       "75%         9.000000    2020.000000       0.000000  1.707915e+06   \n",
       "max        12.000000    2021.000000       1.000000  1.789366e+06   \n",
       "\n",
       "       numRessarcimento  vlrRestituicao   nuDeputadoId  ideDocumento  \n",
       "count          180842.0      364.000000  555500.000000  5.555000e+05  \n",
       "mean                0.0      873.633571    2734.361870  5.045073e+06  \n",
       "std                 0.0     2367.571616     773.342999  2.865350e+06  \n",
       "min                 0.0        1.000000      19.000000  0.000000e+00  \n",
       "25%                 0.0        6.975000    2265.000000  1.705442e+06  \n",
       "50%                 0.0       26.105000    3062.000000  6.888214e+06  \n",
       "75%                 0.0      277.395000    3312.000000  7.075930e+06  \n",
       "max                 0.0    20000.000000    3487.000000  7.245337e+06  "
      ]
     },
     "execution_count": 10,
     "metadata": {},
     "output_type": "execute_result"
    }
   ],
   "source": [
    "# o describe foi feito pra destacar os valores negativos presentes nas colunas:'vlrDocumento' e 'vlrLiquido' \n",
    "df_copia.describe()"
   ]
  },
  {
   "cell_type": "code",
   "execution_count": 11,
   "metadata": {
    "colab": {
     "base_uri": "https://localhost:8080/"
    },
    "id": "Y0Ld6i5VX5EP",
    "outputId": "b5a8ad6a-c01e-40c1-cddc-4585b15c78a3"
   },
   "outputs": [
    {
     "data": {
      "text/plain": [
       "0          111.30\n",
       "1          117.19\n",
       "2          120.15\n",
       "3          151.18\n",
       "4          119.90\n",
       "           ...   \n",
       "105600    5000.00\n",
       "105601    7000.00\n",
       "105602    4000.00\n",
       "105603       1.10\n",
       "105604       1.08\n",
       "Name: vlrLiquido, Length: 427074, dtype: float64"
      ]
     },
     "execution_count": 11,
     "metadata": {},
     "output_type": "execute_result"
    }
   ],
   "source": [
    "# Essa consulta fizemos um novo df, filtrando na coluna 'txtDescricao' valores diferentes de 'PASSAGEM AÉREA - RPA'  e 'PASSAGEM AÉREA - SIGEPA'\n",
    "# a partir desse novo df fazer os cálculos de despesas.\n",
    "valores = df_copia[(df_copia['txtDescricao'] != 'PASSAGEM AÉREA - RPA')&(df_copia['txtDescricao'] != 'PASSAGEM AÉREA - SIGEPA')]\n",
    "valores['txtDescricao'].unique()\n",
    "valores.vlrLiquido"
   ]
  },
  {
   "cell_type": "code",
   "execution_count": 12,
   "metadata": {
    "colab": {
     "base_uri": "https://localhost:8080/"
    },
    "id": "I10CR2QeZBSV",
    "outputId": "612087c7-45fd-4fc1-cd84-740ac0d45cbc"
   },
   "outputs": [
    {
     "data": {
      "text/plain": [
       "23210    -868.00\n",
       "28211   -1762.66\n",
       "Name: vlrLiquido, dtype: float64"
      ]
     },
     "execution_count": 12,
     "metadata": {},
     "output_type": "execute_result"
    }
   ],
   "source": [
    "# os dois valores negativos da coluna 'VrlLiquido'\n",
    "valores.query('vlrLiquido < 0')['vlrLiquido']"
   ]
  },
  {
   "cell_type": "code",
   "execution_count": 13,
   "metadata": {
    "colab": {
     "base_uri": "https://localhost:8080/"
    },
    "id": "vLCzhibdZRFE",
    "outputId": "7129dfc0-2559-4aa0-972c-46aedd153bb3"
   },
   "outputs": [
    {
     "data": {
      "text/plain": [
       "0        2019-01-16\n",
       "1        2019-02-04\n",
       "2        2019-02-25\n",
       "3        2019-03-28\n",
       "4        2019-05-07\n",
       "            ...    \n",
       "105600   2021-07-28\n",
       "105601   2021-08-11\n",
       "105602   2021-07-29\n",
       "105603          NaT\n",
       "105604          NaT\n",
       "Name: datEmissao, Length: 555500, dtype: datetime64[ns]"
      ]
     },
     "execution_count": 13,
     "metadata": {},
     "output_type": "execute_result"
    }
   ],
   "source": [
    "# Convertemos a coluna datEmissao de object para datatime e colocamos só pra mostrar o formato dia/mes/ano pq o horário é irrelevante para as consultas\n",
    "df_copia['datEmissao'] = pd.to_datetime(df_copia['datEmissao'], format = '%Y/%m/%d')\n",
    "df_copia['datEmissao']"
   ]
  },
  {
   "cell_type": "code",
   "execution_count": 14,
   "metadata": {
    "colab": {
     "base_uri": "https://localhost:8080/"
    },
    "id": "dCWjhkYqZUUE",
    "outputId": "1b3b15bc-06bd-403c-f29e-f3e3e2359645"
   },
   "outputs": [
    {
     "data": {
      "text/plain": [
       "txNomeParlamentar                    object\n",
       "cpf                                 float64\n",
       "ideCadastro                         float64\n",
       "nuCarteiraParlamentar               float64\n",
       "nuLegislatura                         int64\n",
       "sgUF                                 object\n",
       "sgPartido                            object\n",
       "codLegislatura                        int64\n",
       "numSubCota                            int64\n",
       "txtDescricao                         object\n",
       "numEspecificacaoSubCota               int64\n",
       "txtDescricaoEspecificacao            object\n",
       "txtFornecedor                        object\n",
       "txtCNPJCPF                           object\n",
       "txtNumero                            object\n",
       "indTipoDocumento                      int64\n",
       "datEmissao                   datetime64[ns]\n",
       "vlrDocumento                        float64\n",
       "vlrGlosa                            float64\n",
       "vlrLiquido                          float64\n",
       "numMes                                int64\n",
       "numAno                                int64\n",
       "numParcela                            int64\n",
       "txtPassageiro                        object\n",
       "txtTrecho                            object\n",
       "numLote                               int64\n",
       "numRessarcimento                    float64\n",
       "vlrRestituicao                      float64\n",
       "nuDeputadoId                          int64\n",
       "ideDocumento                          int64\n",
       "urlDocumento                         object\n",
       "dtype: object"
      ]
     },
     "execution_count": 14,
     "metadata": {},
     "output_type": "execute_result"
    }
   ],
   "source": [
    "#Conferindo se o type da data foi transformado\n",
    "df_copia.dtypes"
   ]
  },
  {
   "cell_type": "code",
   "execution_count": 15,
   "metadata": {
    "colab": {
     "base_uri": "https://localhost:8080/"
    },
    "id": "RVO6Bj2w84RP",
    "outputId": "31c4690b-10d8-46f3-8a95-724660f951ee"
   },
   "outputs": [
    {
     "data": {
      "text/plain": [
       "(555500, 31)"
      ]
     },
     "execution_count": 15,
     "metadata": {},
     "output_type": "execute_result"
    }
   ],
   "source": [
    "# Verificando o novo tamanho do DataFrame\n",
    "df_copia.shape"
   ]
  },
  {
   "cell_type": "code",
   "execution_count": 16,
   "metadata": {
    "colab": {
     "base_uri": "https://localhost:8080/",
     "height": 423
    },
    "id": "ObInEfcq84RP",
    "outputId": "dd0857bb-6715-47a4-8c35-bd0082531793"
   },
   "outputs": [
    {
     "data": {
      "text/html": [
       "<div>\n",
       "<style scoped>\n",
       "    .dataframe tbody tr th:only-of-type {\n",
       "        vertical-align: middle;\n",
       "    }\n",
       "\n",
       "    .dataframe tbody tr th {\n",
       "        vertical-align: top;\n",
       "    }\n",
       "\n",
       "    .dataframe thead th {\n",
       "        text-align: right;\n",
       "    }\n",
       "</style>\n",
       "<table border=\"1\" class=\"dataframe\">\n",
       "  <thead>\n",
       "    <tr style=\"text-align: right;\">\n",
       "      <th></th>\n",
       "      <th>txNomeParlamentar</th>\n",
       "      <th>sgUF</th>\n",
       "      <th>sgPartido</th>\n",
       "      <th>vlrLiquido</th>\n",
       "    </tr>\n",
       "  </thead>\n",
       "  <tbody>\n",
       "    <tr>\n",
       "      <th>0</th>\n",
       "      <td>LID.GOV-CD</td>\n",
       "      <td>NaN</td>\n",
       "      <td>NaN</td>\n",
       "      <td>111.30</td>\n",
       "    </tr>\n",
       "    <tr>\n",
       "      <th>1</th>\n",
       "      <td>LID.GOV-CD</td>\n",
       "      <td>NaN</td>\n",
       "      <td>NaN</td>\n",
       "      <td>117.19</td>\n",
       "    </tr>\n",
       "    <tr>\n",
       "      <th>2</th>\n",
       "      <td>LID.GOV-CD</td>\n",
       "      <td>NaN</td>\n",
       "      <td>NaN</td>\n",
       "      <td>120.15</td>\n",
       "    </tr>\n",
       "    <tr>\n",
       "      <th>3</th>\n",
       "      <td>LID.GOV-CD</td>\n",
       "      <td>NaN</td>\n",
       "      <td>NaN</td>\n",
       "      <td>151.18</td>\n",
       "    </tr>\n",
       "    <tr>\n",
       "      <th>4</th>\n",
       "      <td>LID.GOV-CD</td>\n",
       "      <td>NaN</td>\n",
       "      <td>NaN</td>\n",
       "      <td>119.90</td>\n",
       "    </tr>\n",
       "    <tr>\n",
       "      <th>...</th>\n",
       "      <td>...</td>\n",
       "      <td>...</td>\n",
       "      <td>...</td>\n",
       "      <td>...</td>\n",
       "    </tr>\n",
       "    <tr>\n",
       "      <th>439</th>\n",
       "      <td>LIDMIN</td>\n",
       "      <td>NaN</td>\n",
       "      <td>NaN</td>\n",
       "      <td>4000.00</td>\n",
       "    </tr>\n",
       "    <tr>\n",
       "      <th>440</th>\n",
       "      <td>LIDMIN</td>\n",
       "      <td>NaN</td>\n",
       "      <td>NaN</td>\n",
       "      <td>137.97</td>\n",
       "    </tr>\n",
       "    <tr>\n",
       "      <th>441</th>\n",
       "      <td>LIDMIN</td>\n",
       "      <td>NaN</td>\n",
       "      <td>NaN</td>\n",
       "      <td>175.18</td>\n",
       "    </tr>\n",
       "    <tr>\n",
       "      <th>442</th>\n",
       "      <td>LIDMIN</td>\n",
       "      <td>NaN</td>\n",
       "      <td>NaN</td>\n",
       "      <td>3800.00</td>\n",
       "    </tr>\n",
       "    <tr>\n",
       "      <th>443</th>\n",
       "      <td>LIDMIN</td>\n",
       "      <td>NaN</td>\n",
       "      <td>NaN</td>\n",
       "      <td>3800.00</td>\n",
       "    </tr>\n",
       "  </tbody>\n",
       "</table>\n",
       "<p>1741 rows × 4 columns</p>\n",
       "</div>"
      ],
      "text/plain": [
       "    txNomeParlamentar sgUF sgPartido  vlrLiquido\n",
       "0          LID.GOV-CD  NaN       NaN      111.30\n",
       "1          LID.GOV-CD  NaN       NaN      117.19\n",
       "2          LID.GOV-CD  NaN       NaN      120.15\n",
       "3          LID.GOV-CD  NaN       NaN      151.18\n",
       "4          LID.GOV-CD  NaN       NaN      119.90\n",
       "..                ...  ...       ...         ...\n",
       "439            LIDMIN  NaN       NaN     4000.00\n",
       "440            LIDMIN  NaN       NaN      137.97\n",
       "441            LIDMIN  NaN       NaN      175.18\n",
       "442            LIDMIN  NaN       NaN     3800.00\n",
       "443            LIDMIN  NaN       NaN     3800.00\n",
       "\n",
       "[1741 rows x 4 columns]"
      ]
     },
     "execution_count": 16,
     "metadata": {},
     "output_type": "execute_result"
    }
   ],
   "source": [
    "# Aqui estamos procurando por Parlamentares sem estado e sem partido.\n",
    "sem_partido_sem_uf = valores[valores['sgUF'].isnull()][['txNomeParlamentar', 'sgUF', 'sgPartido','vlrLiquido']]\n",
    "sem_partido_sem_uf"
   ]
  },
  {
   "cell_type": "code",
   "execution_count": 17,
   "metadata": {
    "id": "dRcVVz-F84RP"
   },
   "outputs": [],
   "source": [
    "#Atribuindo os partidos correspondentes as despesas atribuídas apenas a lideranças\n",
    "df_copia['sgPartido'] = np.where(df_copia['txNomeParlamentar'] == \"LIDERANÇA DO PSL\", 'PSL', df_copia.sgPartido)\n",
    "df_copia['sgPartido'] = np.where(df_copia['txNomeParlamentar'] == \"LIDERANÇA DO PT\", 'PT', df_copia.sgPartido)\n",
    "df_copia['sgPartido'] = np.where(df_copia['txNomeParlamentar'] == \"LIDERANÇA DO PTB\", 'PTB', df_copia.sgPartido) \n",
    "df_copia['sgPartido'] = np.where(df_copia['txNomeParlamentar'] == \"LIDERANÇA DO PSDB\", 'PSDB', df_copia.sgPartido)\n",
    "df_copia['sgPartido'] = np.where(df_copia['txNomeParlamentar'] == \"LIDERANÇA DO PODEMOS\", 'PODEMOS', df_copia.sgPartido)\n",
    "df_copia['sgPartido'] = np.where(df_copia['txNomeParlamentar'] == \"LIDERANÇA DO SOLIDARIEDADE\", 'SOLIDARIEDADE', df_copia.sgPartido)\n",
    "df_copia['sgPartido'] = np.where(df_copia['txNomeParlamentar'] == \"LIDERANÇA DO PSD\", 'PSD',df_copia.sgPartido)\n",
    "df_copia['sgPartido'] = np.where(df_copia['txNomeParlamentar'] == \"LIDERANÇA DO NOVO\", 'NOVO',df_copia.sgPartido)\n",
    "df_copia['sgPartido'] = np.where(df_copia['txNomeParlamentar'] == \"LIDERANÇA DO DEMOCRATAS\", 'DEMOCRATAS', df_copia.sgPartido)\n",
    "df_copia['sgPartido'] = np.where(df_copia['txNomeParlamentar'] == \"LIDERANÇA DO CIDADANIA\", 'CIDADANIA', df_copia.sgPartido)\n",
    "df_copia['sgPartido'] = np.where(df_copia['txNomeParlamentar'] == \"LIDERANÇA DO AVANTE\", 'AVANTE', df_copia.sgPartido)\n",
    "df_copia['sgPartido'] = np.where(df_copia['txNomeParlamentar'] == \"LIDERANÇA DO PDT\", 'PDT', df_copia.sgPartido)\n",
    "df_copia['sgPartido'] = np.where(df_copia['txNomeParlamentar'] == \"LIDERANÇA DO PSOL\", 'PSOL', df_copia.sgPartido)\n",
    "df_copia['sgPartido'] = np.where(df_copia['txNomeParlamentar'] == \"LIDERANÇA DO PROGRESSISTAS\", 'PROGRESSISTAS',df_copia.sgPartido)\n",
    "df_copia['sgPartido'] = np.where(df_copia['txNomeParlamentar'] == \"LIDERANÇA DO PARTIDO REPUBLICANO DA ORDEM SOCIAL\", 'SOCIAL', df_copia.sgPartido)"
   ]
  },
  {
   "cell_type": "code",
   "execution_count": 18,
   "metadata": {
    "colab": {
     "base_uri": "https://localhost:8080/"
    },
    "id": "LGqDGevB84RQ",
    "outputId": "2e99b7c4-1925-4945-ca7a-036e832b3d5b"
   },
   "outputs": [
    {
     "data": {
      "text/plain": [
       "LIDERANÇA DO PT                                     515\n",
       "LIDERANÇA DO PTB                                    169\n",
       "LIDERANÇA DO PSDB                                   168\n",
       "LIDERANÇA DO PODEMOS                                140\n",
       "LIDERANÇA DO SOLIDARIEDADE                          137\n",
       "LIDERANÇA DO PSD                                    104\n",
       "LIDERANÇA DO NOVO                                    94\n",
       "LIDERANÇA DO DEMOCRATAS                              75\n",
       "LIDERANÇA DO CIDADANIA                               68\n",
       "LIDMIN                                               67\n",
       "LIDERANÇA DO PARTIDO REPUBLICANO DA ORDEM SOCIAL     51\n",
       "LIDERANÇA DO AVANTE                                  49\n",
       "LIDERANÇA DO PDT                                     36\n",
       "LIDERANÇA DO PSL                                     29\n",
       "LID.GOV-CD                                           15\n",
       "LIDERANÇA DO PSOL                                    14\n",
       "LIDERANÇA DO PROGRESSISTAS                           10\n",
       "Name: txNomeParlamentar, dtype: int64"
      ]
     },
     "execution_count": 18,
     "metadata": {},
     "output_type": "execute_result"
    }
   ],
   "source": [
    "# Verificando quantos partidos não possuem registros de UF\n",
    "sem_partido_sem_uf['txNomeParlamentar'].value_counts()"
   ]
  },
  {
   "cell_type": "code",
   "execution_count": 19,
   "metadata": {
    "colab": {
     "base_uri": "https://localhost:8080/"
    },
    "id": "KqCM54Y_84RQ",
    "outputId": "98c02e19-6fd8-4e09-866d-76d3bfdfce08"
   },
   "outputs": [
    {
     "data": {
      "text/plain": [
       "SP    83873\n",
       "MG    65193\n",
       "RJ    50674\n",
       "RS    48467\n",
       "BA    43331\n",
       "PR    41816\n",
       "PE    28292\n",
       "SC    19900\n",
       "CE    19632\n",
       "MA    14412\n",
       "PA    14402\n",
       "PB    12727\n",
       "GO    11315\n",
       "RN    10183\n",
       "ES     9516\n",
       "TO     9378\n",
       "MT     9260\n",
       "MS     7970\n",
       "RO     7512\n",
       "PI     7284\n",
       "AC     6702\n",
       "AL     6629\n",
       "SE     6124\n",
       "AM     5723\n",
       "RR     5405\n",
       "AP     5216\n",
       "DF     2823\n",
       "Name: sgUF, dtype: int64"
      ]
     },
     "execution_count": 19,
     "metadata": {},
     "output_type": "execute_result"
    }
   ],
   "source": [
    "# Realizando a contagem de frequência por estado dentro do DataFrame\n",
    "df_unico.sgUF.value_counts()"
   ]
  },
  {
   "cell_type": "code",
   "execution_count": 20,
   "metadata": {
    "colab": {
     "base_uri": "https://localhost:8080/",
     "height": 612
    },
    "id": "C6lPPzhw84RQ",
    "outputId": "db42e1ed-77ba-42f4-e10b-5dc594edf63a"
   },
   "outputs": [
    {
     "data": {
      "text/html": [
       "<div>\n",
       "<style scoped>\n",
       "    .dataframe tbody tr th:only-of-type {\n",
       "        vertical-align: middle;\n",
       "    }\n",
       "\n",
       "    .dataframe tbody tr th {\n",
       "        vertical-align: top;\n",
       "    }\n",
       "\n",
       "    .dataframe thead th {\n",
       "        text-align: right;\n",
       "    }\n",
       "</style>\n",
       "<table border=\"1\" class=\"dataframe\">\n",
       "  <thead>\n",
       "    <tr style=\"text-align: right;\">\n",
       "      <th></th>\n",
       "      <th>txNomeParlamentar</th>\n",
       "      <th>cpf</th>\n",
       "      <th>ideCadastro</th>\n",
       "      <th>nuCarteiraParlamentar</th>\n",
       "      <th>nuLegislatura</th>\n",
       "      <th>sgUF</th>\n",
       "      <th>sgPartido</th>\n",
       "      <th>codLegislatura</th>\n",
       "      <th>numSubCota</th>\n",
       "      <th>txtDescricao</th>\n",
       "      <th>...</th>\n",
       "      <th>numAno</th>\n",
       "      <th>numParcela</th>\n",
       "      <th>txtPassageiro</th>\n",
       "      <th>txtTrecho</th>\n",
       "      <th>numLote</th>\n",
       "      <th>numRessarcimento</th>\n",
       "      <th>vlrRestituicao</th>\n",
       "      <th>nuDeputadoId</th>\n",
       "      <th>ideDocumento</th>\n",
       "      <th>urlDocumento</th>\n",
       "    </tr>\n",
       "  </thead>\n",
       "  <tbody>\n",
       "    <tr>\n",
       "      <th>171</th>\n",
       "      <td>LIDERANÇA DO PSD</td>\n",
       "      <td>NaN</td>\n",
       "      <td>NaN</td>\n",
       "      <td>NaN</td>\n",
       "      <td>2019</td>\n",
       "      <td>NaN</td>\n",
       "      <td>PSD</td>\n",
       "      <td>56</td>\n",
       "      <td>13</td>\n",
       "      <td>FORNECIMENTO DE ALIMENTAÇÃO DO PARLAMENTAR</td>\n",
       "      <td>...</td>\n",
       "      <td>2021</td>\n",
       "      <td>0</td>\n",
       "      <td>NaN</td>\n",
       "      <td>NaN</td>\n",
       "      <td>1765710</td>\n",
       "      <td>NaN</td>\n",
       "      <td>NaN</td>\n",
       "      <td>2725</td>\n",
       "      <td>7194127</td>\n",
       "      <td>http://camara.leg.br/cota-parlamentar/nota-fis...</td>\n",
       "    </tr>\n",
       "    <tr>\n",
       "      <th>52</th>\n",
       "      <td>LIDERANÇA DO NOVO</td>\n",
       "      <td>NaN</td>\n",
       "      <td>NaN</td>\n",
       "      <td>NaN</td>\n",
       "      <td>2019</td>\n",
       "      <td>NaN</td>\n",
       "      <td>NOVO</td>\n",
       "      <td>56</td>\n",
       "      <td>1</td>\n",
       "      <td>MANUTENÇÃO DE ESCRITÓRIO DE APOIO À ATIVIDADE ...</td>\n",
       "      <td>...</td>\n",
       "      <td>2020</td>\n",
       "      <td>0</td>\n",
       "      <td>NaN</td>\n",
       "      <td>NaN</td>\n",
       "      <td>1709636</td>\n",
       "      <td>NaN</td>\n",
       "      <td>NaN</td>\n",
       "      <td>3441</td>\n",
       "      <td>7079451</td>\n",
       "      <td>https://www.camara.leg.br/cota-parlamentar/doc...</td>\n",
       "    </tr>\n",
       "    <tr>\n",
       "      <th>294</th>\n",
       "      <td>LIDERANÇA DO PT</td>\n",
       "      <td>NaN</td>\n",
       "      <td>NaN</td>\n",
       "      <td>NaN</td>\n",
       "      <td>2019</td>\n",
       "      <td>NaN</td>\n",
       "      <td>PT</td>\n",
       "      <td>56</td>\n",
       "      <td>120</td>\n",
       "      <td>LOCAÇÃO OU FRETAMENTO DE VEÍCULOS AUTOMOTORES</td>\n",
       "      <td>...</td>\n",
       "      <td>2020</td>\n",
       "      <td>0</td>\n",
       "      <td>NaN</td>\n",
       "      <td>NaN</td>\n",
       "      <td>1704584</td>\n",
       "      <td>NaN</td>\n",
       "      <td>NaN</td>\n",
       "      <td>2439</td>\n",
       "      <td>7069527</td>\n",
       "      <td>http://camara.leg.br/cota-parlamentar/nota-fis...</td>\n",
       "    </tr>\n",
       "    <tr>\n",
       "      <th>365</th>\n",
       "      <td>LIDERANÇA DO PSDB</td>\n",
       "      <td>NaN</td>\n",
       "      <td>NaN</td>\n",
       "      <td>NaN</td>\n",
       "      <td>2019</td>\n",
       "      <td>NaN</td>\n",
       "      <td>PSDB</td>\n",
       "      <td>56</td>\n",
       "      <td>13</td>\n",
       "      <td>FORNECIMENTO DE ALIMENTAÇÃO DO PARLAMENTAR</td>\n",
       "      <td>...</td>\n",
       "      <td>2019</td>\n",
       "      <td>0</td>\n",
       "      <td>NaN</td>\n",
       "      <td>NaN</td>\n",
       "      <td>1638964</td>\n",
       "      <td>NaN</td>\n",
       "      <td>NaN</td>\n",
       "      <td>2442</td>\n",
       "      <td>6931119</td>\n",
       "      <td>https://www.camara.leg.br/cota-parlamentar/doc...</td>\n",
       "    </tr>\n",
       "    <tr>\n",
       "      <th>565</th>\n",
       "      <td>LIDERANÇA DO PT</td>\n",
       "      <td>NaN</td>\n",
       "      <td>NaN</td>\n",
       "      <td>NaN</td>\n",
       "      <td>2019</td>\n",
       "      <td>NaN</td>\n",
       "      <td>PT</td>\n",
       "      <td>56</td>\n",
       "      <td>9</td>\n",
       "      <td>PASSAGEM AÉREA - REEMBOLSO</td>\n",
       "      <td>...</td>\n",
       "      <td>2019</td>\n",
       "      <td>0</td>\n",
       "      <td>MATEUS LUCAS FERREIRA SILVEIRA;</td>\n",
       "      <td>NaN</td>\n",
       "      <td>1614074</td>\n",
       "      <td>NaN</td>\n",
       "      <td>NaN</td>\n",
       "      <td>2439</td>\n",
       "      <td>6873625</td>\n",
       "      <td>https://www.camara.leg.br/cota-parlamentar/doc...</td>\n",
       "    </tr>\n",
       "  </tbody>\n",
       "</table>\n",
       "<p>5 rows × 31 columns</p>\n",
       "</div>"
      ],
      "text/plain": [
       "     txNomeParlamentar  cpf  ideCadastro  nuCarteiraParlamentar  \\\n",
       "171   LIDERANÇA DO PSD  NaN          NaN                    NaN   \n",
       "52   LIDERANÇA DO NOVO  NaN          NaN                    NaN   \n",
       "294    LIDERANÇA DO PT  NaN          NaN                    NaN   \n",
       "365  LIDERANÇA DO PSDB  NaN          NaN                    NaN   \n",
       "565    LIDERANÇA DO PT  NaN          NaN                    NaN   \n",
       "\n",
       "     nuLegislatura sgUF sgPartido  codLegislatura  numSubCota  \\\n",
       "171           2019  NaN       PSD              56          13   \n",
       "52            2019  NaN      NOVO              56           1   \n",
       "294           2019  NaN        PT              56         120   \n",
       "365           2019  NaN      PSDB              56          13   \n",
       "565           2019  NaN        PT              56           9   \n",
       "\n",
       "                                          txtDescricao  ...  numAno  \\\n",
       "171         FORNECIMENTO DE ALIMENTAÇÃO DO PARLAMENTAR  ...    2021   \n",
       "52   MANUTENÇÃO DE ESCRITÓRIO DE APOIO À ATIVIDADE ...  ...    2020   \n",
       "294      LOCAÇÃO OU FRETAMENTO DE VEÍCULOS AUTOMOTORES  ...    2020   \n",
       "365         FORNECIMENTO DE ALIMENTAÇÃO DO PARLAMENTAR  ...    2019   \n",
       "565                         PASSAGEM AÉREA - REEMBOLSO  ...    2019   \n",
       "\n",
       "    numParcela                    txtPassageiro txtTrecho  numLote  \\\n",
       "171          0                              NaN       NaN  1765710   \n",
       "52           0                              NaN       NaN  1709636   \n",
       "294          0                              NaN       NaN  1704584   \n",
       "365          0                              NaN       NaN  1638964   \n",
       "565          0  MATEUS LUCAS FERREIRA SILVEIRA;       NaN  1614074   \n",
       "\n",
       "     numRessarcimento vlrRestituicao  nuDeputadoId  ideDocumento  \\\n",
       "171               NaN            NaN          2725       7194127   \n",
       "52                NaN            NaN          3441       7079451   \n",
       "294               NaN            NaN          2439       7069527   \n",
       "365               NaN            NaN          2442       6931119   \n",
       "565               NaN            NaN          2439       6873625   \n",
       "\n",
       "                                          urlDocumento  \n",
       "171  http://camara.leg.br/cota-parlamentar/nota-fis...  \n",
       "52   https://www.camara.leg.br/cota-parlamentar/doc...  \n",
       "294  http://camara.leg.br/cota-parlamentar/nota-fis...  \n",
       "365  https://www.camara.leg.br/cota-parlamentar/doc...  \n",
       "565  https://www.camara.leg.br/cota-parlamentar/doc...  \n",
       "\n",
       "[5 rows x 31 columns]"
      ]
     },
     "execution_count": 20,
     "metadata": {},
     "output_type": "execute_result"
    }
   ],
   "source": [
    "#Verificando o funcionamento da atribuição\n",
    "df_copia[df_copia['txNomeParlamentar'].str.match('LIDERANÇA')].sample(5)"
   ]
  },
  {
   "cell_type": "code",
   "execution_count": 21,
   "metadata": {},
   "outputs": [],
   "source": [
    "#Criando uma cópia para trabalharmos nas questões e realizar as análises devidas\n",
    "df_2 = df_copia.copy()"
   ]
  },
  {
   "cell_type": "markdown",
   "metadata": {
    "id": "Y1lAHDifTflS"
   },
   "source": [
    "## **4.** Realizando a análise com perguntas"
   ]
  },
  {
   "cell_type": "code",
   "execution_count": null,
   "metadata": {
    "id": "OCweEFKc84RR"
   },
   "outputs": [],
   "source": []
  },
  {
   "cell_type": "markdown",
   "metadata": {
    "id": "hCg3EIF584RR"
   },
   "source": [
    "### 1. Como se comportam os gastos com cotas parlamentares ao longo do tempo? Existe alguma tendência de aumento ou redução desse custo?"
   ]
  },
  {
   "cell_type": "code",
   "execution_count": 22,
   "metadata": {
    "id": "wdYvKDdJ84RS"
   },
   "outputs": [],
   "source": [
    "#Criando dataframes separados por ano\n",
    "df2019 = df_2[df_2['numAno'] == 2019]\n",
    "df2020 = df_2[df_2['numAno'] == 2020]\n",
    "df2021 = df_2[df_2['numAno'] == 2021]"
   ]
  },
  {
   "cell_type": "code",
   "execution_count": 23,
   "metadata": {
    "colab": {
     "base_uri": "https://localhost:8080/"
    },
    "id": "apFpTecl84RS",
    "outputId": "593b08fc-b187-4047-e5f8-0b68efd449cd"
   },
   "outputs": [
    {
     "name": "stdout",
     "output_type": "stream",
     "text": [
      "Total no período R$ 491,290,961.69\n"
     ]
    }
   ],
   "source": [
    "#Imprimindo total de gastos nos três anos\n",
    "print(f\"Total no período R$ {df_2['vlrDocumento'].sum():,.2f}\")"
   ]
  },
  {
   "cell_type": "code",
   "execution_count": 24,
   "metadata": {
    "colab": {
     "base_uri": "https://localhost:8080/"
    },
    "id": "XhnlUgQk84RS",
    "outputId": "68a49e8b-ebd0-44c6-d634-a07e9c44b2b9"
   },
   "outputs": [
    {
     "data": {
      "text/plain": [
       "numMes\n",
       "1     1.503191e+07\n",
       "2     1.517999e+07\n",
       "3     1.588766e+07\n",
       "4     1.835899e+07\n",
       "5     1.899814e+07\n",
       "6     1.741849e+07\n",
       "7     1.776859e+07\n",
       "8     1.938871e+07\n",
       "9     1.884543e+07\n",
       "10    2.017094e+07\n",
       "11    1.895823e+07\n",
       "12    1.758763e+07\n",
       "Name: vlrDocumento, dtype: float64"
      ]
     },
     "execution_count": 24,
     "metadata": {},
     "output_type": "execute_result"
    }
   ],
   "source": [
    "#Soma de gastos agrupados por mês de cada ano\n",
    "df2019.groupby(['numMes'])['vlrDocumento'].sum()"
   ]
  },
  {
   "cell_type": "code",
   "execution_count": 25,
   "metadata": {
    "colab": {
     "base_uri": "https://localhost:8080/"
    },
    "id": "-4SfAZGa84RS",
    "outputId": "bf41e050-6cb6-4c4e-a4ef-b34ed68bc1f5",
    "scrolled": true
   },
   "outputs": [
    {
     "data": {
      "text/plain": [
       "numMes\n",
       "1     13608236.49\n",
       "2     16981054.74\n",
       "3     14829053.22\n",
       "4     10676489.54\n",
       "5     11074026.38\n",
       "6     11051403.59\n",
       "7     12214190.91\n",
       "8     13127546.17\n",
       "9     13802390.19\n",
       "10    13844965.14\n",
       "11    16059843.29\n",
       "12    25760481.34\n",
       "Name: vlrDocumento, dtype: float64"
      ]
     },
     "execution_count": 25,
     "metadata": {},
     "output_type": "execute_result"
    }
   ],
   "source": [
    "df2020.groupby(['numMes'])['vlrDocumento'].sum()"
   ]
  },
  {
   "cell_type": "code",
   "execution_count": 26,
   "metadata": {
    "colab": {
     "base_uri": "https://localhost:8080/"
    },
    "id": "C1IQQptS84RT",
    "outputId": "8e7ef2f9-c03b-4f9f-8ec1-15d14cb0cd41"
   },
   "outputs": [
    {
     "data": {
      "text/plain": [
       "numMes\n",
       "1    12883504.64\n",
       "2    15504068.70\n",
       "3    14859519.73\n",
       "4    14947054.49\n",
       "5    15865528.96\n",
       "6    14690740.05\n",
       "7    12383295.66\n",
       "8     3532848.83\n",
       "Name: vlrDocumento, dtype: float64"
      ]
     },
     "execution_count": 26,
     "metadata": {},
     "output_type": "execute_result"
    }
   ],
   "source": [
    "#2021 até julho mais alguns dias de agosto\n",
    "df2021.groupby(['numMes'])['vlrDocumento'].sum()"
   ]
  },
  {
   "cell_type": "code",
   "execution_count": 27,
   "metadata": {
    "id": "HLQWbENU84RT"
   },
   "outputs": [],
   "source": [
    "#Criando uma cópia do dataframe de 2021 para acrescentar os demais meses restantes para criação correta do gráfico seguinte\n",
    "df2021_copia = df2021.copy()\n",
    "df2021_copia = df2021_copia.append({'numMes':9}, ignore_index = True)\n",
    "df2021_copia = df2021_copia.append({'numMes':10}, ignore_index = True)\n",
    "df2021_copia = df2021_copia.append({'numMes':11}, ignore_index = True)\n",
    "df2021_copia = df2021_copia.append({'numMes':12}, ignore_index = True)\n",
    "df2021_copia['numMes'] = df2021_copia['numMes'].astype('int64')"
   ]
  },
  {
   "cell_type": "code",
   "execution_count": 28,
   "metadata": {
    "colab": {
     "base_uri": "https://localhost:8080/",
     "height": 350
    },
    "id": "hiWgixTa84RT",
    "outputId": "5b132084-8fb4-4c5a-9348-468178ea6bff",
    "scrolled": true
   },
   "outputs": [
    {
     "data": {
      "image/png": "[encoded data removed]",
      "text/plain": [
       "<Figure size 1008x360 with 1 Axes>"
      ]
     },
     "metadata": {
      "needs_background": "light"
     },
     "output_type": "display_data"
    }
   ],
   "source": [
    "#Gráfico agrupado por mês, com gráfico de barra dos três anos, com linha de tendência (média)\n",
    "plt.figure(figsize = (14, 5))\n",
    "wid = 0.28\n",
    "r1 = np.arange(len(df2019['numMes'].unique()))\n",
    "r2 = [x + wid for x in r1]\n",
    "r3 = [x + wid for x in r2]\n",
    "\n",
    "z = np.polyfit(df_2['numMes'].sort_values().unique(), (df_2.groupby(['numMes'])['vlrDocumento'].sum().sort_values())/3, 1)\n",
    "p = np.poly1d(z)\n",
    "plt.plot(df_2['numMes'].sort_values().unique(), p(df_2['numMes'].sort_values().unique()), 'r--', label = 'Linha de Tendência')\n",
    "\n",
    "plt.bar(r1, df2019.groupby(['numMes'])['vlrDocumento'].sum(), width = wid, label = 'Ano de 2019', color = '#7CFC00')\n",
    "plt.bar(r2, df2020.groupby(['numMes'])['vlrDocumento'].sum(), width = wid, label = 'Ano de 2020', color = '#008000')\n",
    "plt.bar(r3, df2021_copia.groupby(['numMes'])['vlrDocumento'].sum(), width = wid, label = 'Ano de 2021', color = '#32CD32')\n",
    "\n",
    "#plt.xticks([r + wid for r in range(df19['numMes'].unique())], ['2019', '2020'])\n",
    "plt.xticks([r + wid for r in range(len(df2019['numMes'].unique()))], df2019['numMes'].sort_values().unique())\n",
    "\n",
    "plt.title('Gráfico de Gastos com Linha de Tendência')\n",
    "plt.xlabel('Range Meses')\n",
    "plt.ylabel('Range Valores R$ (Mi)')\n",
    "\n",
    "plt.legend()\n",
    "plt.grid(axis = 'y')\n",
    "plt.show()"
   ]
  },
  {
   "cell_type": "markdown",
   "metadata": {
    "id": "IXNubzBJ84RT"
   },
   "source": [
    "Conforme é possível analisar em 2019, antes da pandemia, os gastos totais dos parlamentares iniciam com R$ 15.031.911,98, seguindo com os meses seguintes em tendência de alta, alcançando a casa dos 20mi no mês de outubro de 2019. Acompanhando a virada de ano, e, conforme cenário no período, deficit nos gastos aproximando da casa dos 10mi.\n",
    "\n",
    "O destaque é para o mês de dezembro de 2020, onde estourou a faixa dos 25mi."
   ]
  },
  {
   "cell_type": "markdown",
   "metadata": {
    "id": "uyELwaXh84RU"
   },
   "source": [
    "### 2. Qual a média de gastos por parlamentar?"
   ]
  },
  {
   "cell_type": "code",
   "execution_count": 29,
   "metadata": {
    "id": "mzCHXfgj84RU"
   },
   "outputs": [],
   "source": [
    "#Média de gastos agrupada por parlamentar\n",
    "mean = df_2.groupby(['txNomeParlamentar'])['vlrDocumento'].mean()\n",
    "mean = mean.sort_values()\n",
    "mean = mean.tail()"
   ]
  },
  {
   "cell_type": "code",
   "execution_count": 30,
   "metadata": {
    "colab": {
     "base_uri": "https://localhost:8080/",
     "height": 433
    },
    "id": "tv4L5a0XOU0n",
    "outputId": "515fbe8a-b74b-4c8d-b35a-c43ecf5a3b52"
   },
   "outputs": [
    {
     "name": "stderr",
     "output_type": "stream",
     "text": [
      "No handles with labels found to put in legend.\n"
     ]
    },
    {
     "data": {
      "image/png": "[encoded data removed]",
      "text/plain": [
       "<Figure size 432x288 with 1 Axes>"
      ]
     },
     "metadata": {
      "needs_background": "light"
     },
     "output_type": "display_data"
    }
   ],
   "source": [
    "plt.plot(mean, 'go')\n",
    "plt.plot(mean, 'b--')\n",
    "plt.xticks(mean.index, rotation=90)\n",
    "plt.title('Média geral de gastos por parlamentar')\n",
    "plt.xlabel('Nome do Parlamentar')\n",
    "plt.ylabel('Média de gastos')\n",
    "plt.legend()\n",
    "plt.grid(True)\n",
    "plt.show()"
   ]
  },
  {
   "cell_type": "markdown",
   "metadata": {
    "id": "3szmKAUi84RU"
   },
   "source": [
    "O Deputado com a maior média de gastos no período foi José Reinaldo (PSDB - MA), com aproximadamente R$ 13 mil reais gastos por mês em cotas parlamentares, seguido por Alberto Fraga (DEM - DF), com uma média de R$ 10 mil gastos por mês no período analisado."
   ]
  },
  {
   "cell_type": "markdown",
   "metadata": {
    "id": "1hCQzlq784RU"
   },
   "source": [
    "### 3. Quais foram os parlamentares que mais e que menos consumiram recursos?"
   ]
  },
  {
   "cell_type": "code",
   "execution_count": 31,
   "metadata": {
    "colab": {
     "base_uri": "https://localhost:8080/"
    },
    "id": "48DarZ7-84RV",
    "outputId": "780638e5-4e2c-42bf-fcb3-98464fef3c26"
   },
   "outputs": [
    {
     "data": {
      "text/plain": [
       "txNomeParlamentar\n",
       "LUCIANA SANTOS    0.49\n",
       "MANDETTA          0.60\n",
       "DaLua do Rota     1.08\n",
       "SARNEY FILHO      1.25\n",
       "ROCHA             2.53\n",
       "Name: vlrDocumento, dtype: float64"
      ]
     },
     "execution_count": 31,
     "metadata": {},
     "output_type": "execute_result"
    }
   ],
   "source": [
    "#Criaçao de um dataframe excluíndo os dados negativos de valor, e criando agrupamento ordenado por soma de gastos\n",
    "df_2_2 = df_2[df_2['vlrDocumento'] >= 0]\n",
    "menos_gast = df_2_2.groupby(['txNomeParlamentar'])['vlrDocumento'].sum().sort_values().head(5)\n",
    "menos_gast"
   ]
  },
  {
   "cell_type": "code",
   "execution_count": 32,
   "metadata": {
    "colab": {
     "base_uri": "https://localhost:8080/",
     "height": 373
    },
    "id": "k4vcOJXR84RV",
    "outputId": "52a53354-24ae-4582-da2c-f82a4a7f2bd3"
   },
   "outputs": [
    {
     "data": {
      "image/png": "[encoded data removed]",
      "text/plain": [
       "<Figure size 432x288 with 1 Axes>"
      ]
     },
     "metadata": {
      "needs_background": "light"
     },
     "output_type": "display_data"
    }
   ],
   "source": [
    "plt.plot(menos_gast.index, menos_gast, 'go')\n",
    "plt.plot(menos_gast.index, menos_gast, 'b--', label = 'Gastos Parlamentares')\n",
    "\n",
    "plt.xticks(menos_gast.index, rotation=90)\n",
    "\n",
    "plt.title('Gráfico de Gastos [Menos]')\n",
    "plt.xlabel('Range Parlamentar')\n",
    "plt.ylabel('Range Valor (R$))')\n",
    "\n",
    "plt.legend()\n",
    "plt.grid(True)\n",
    "plt.show()"
   ]
  },
  {
   "cell_type": "code",
   "execution_count": 33,
   "metadata": {
    "colab": {
     "base_uri": "https://localhost:8080/"
    },
    "id": "98Ja9K1J84RV",
    "outputId": "246301e6-30a8-4249-885e-4a2a08d40aa0"
   },
   "outputs": [
    {
     "data": {
      "text/plain": [
       "txNomeParlamentar\n",
       "Jéssica Sales         1416133.42\n",
       "Wellington Roberto    1385090.81\n",
       "Perpétua Almeida      1376839.42\n",
       "Silas Câmara          1373755.01\n",
       "Jesus Sérgio          1360451.70\n",
       "Name: vlrDocumento, dtype: float64"
      ]
     },
     "execution_count": 33,
     "metadata": {},
     "output_type": "execute_result"
    }
   ],
   "source": [
    "#Agrupamento de gastos de parlamentar do maior para menor\n",
    "mais_gast = df_2.groupby(['txNomeParlamentar'])['vlrDocumento'].sum().sort_values(ascending = False).head(5)\n",
    "mais_gast"
   ]
  },
  {
   "cell_type": "code",
   "execution_count": 34,
   "metadata": {
    "colab": {
     "base_uri": "https://localhost:8080/",
     "height": 380
    },
    "id": "iH2DdzFF84RV",
    "outputId": "f0f42f59-3776-40ac-d943-eca64f18a67f"
   },
   "outputs": [
    {
     "data": {
      "image/png": "[encoded data removed]",
      "text/plain": [
       "<Figure size 432x288 with 1 Axes>"
      ]
     },
     "metadata": {
      "needs_background": "light"
     },
     "output_type": "display_data"
    }
   ],
   "source": [
    "plt.plot(mais_gast.index, mais_gast, 'go')\n",
    "plt.plot(mais_gast.index, mais_gast, 'b--', label = 'Gastos Parlamentares')\n",
    "\n",
    "plt.xticks(mais_gast.index, rotation = 90)\n",
    "\n",
    "plt.title('Gráfico de Gastos [Mais]')\n",
    "plt.xlabel('Range Parlamentar')\n",
    "plt.ylabel('Range Valor R$ (Mi)')\n",
    "\n",
    "plt.legend()\n",
    "plt.grid(True)\n",
    "plt.show()"
   ]
  },
  {
   "cell_type": "markdown",
   "metadata": {
    "id": "lsWDXfWm84RW"
   },
   "source": [
    "Aqui podemos notar que o deputado que mais consumiu recursos foi a Jéssica Sales, atingindo a marca de mais de R$ 1,41 Mi no período de 2019 até 2021. Já o que menos consumiu recursos públicos foi a deputada Luciana Santos, utilizando apenas 50 reais da verba, com despesas telefônicas."
   ]
  },
  {
   "cell_type": "markdown",
   "metadata": {
    "id": "y2fpc13184RW"
   },
   "source": [
    "### 4. Quais são as categorias de despesas mais onerosas dentre os recursos destinados às cotas parlamentares?"
   ]
  },
  {
   "cell_type": "code",
   "execution_count": 35,
   "metadata": {
    "colab": {
     "base_uri": "https://localhost:8080/"
    },
    "id": "Ws_1KoBx84RW",
    "outputId": "c95d53c0-77bc-4ac6-934b-2902cfb5df06"
   },
   "outputs": [
    {
     "data": {
      "text/plain": [
       "txtDescricao\n",
       "PARTICIPAÇÃO EM CURSO, PALESTRA OU EVENTO SIMILAR            1.539535e+05\n",
       "PASSAGENS TERRESTRES, MARÍTIMAS OU FLUVIAIS                  1.940142e+05\n",
       "LOCAÇÃO OU FRETAMENTO DE EMBARCAÇÕES                         4.450000e+05\n",
       "ASSINATURA DE PUBLICAÇÕES                                    5.832491e+05\n",
       "SERVIÇO DE TÁXI, PEDÁGIO E ESTACIONAMENTO                    1.836470e+06\n",
       "FORNECIMENTO DE ALIMENTAÇÃO DO PARLAMENTAR                   2.023309e+06\n",
       "SERVIÇO DE SEGURANÇA PRESTADO POR EMPRESA ESPECIALIZADA.     2.617691e+06\n",
       "LOCAÇÃO OU FRETAMENTO DE AERONAVES                           3.542367e+06\n",
       "HOSPEDAGEM ,EXCETO DO PARLAMENTAR NO DISTRITO FEDERAL.       3.610273e+06\n",
       "SERVIÇOS POSTAIS                                             3.998291e+06\n",
       "PASSAGEM AÉREA - REEMBOLSO                                   5.917361e+06\n",
       "TELEFONIA                                                    1.237999e+07\n",
       "PASSAGEM AÉREA - SIGEPA                                      2.060582e+07\n",
       "COMBUSTÍVEIS E LUBRIFICANTES.                                3.643998e+07\n",
       "CONSULTORIAS, PESQUISAS E TRABALHOS TÉCNICOS.                5.627142e+07\n",
       "MANUTENÇÃO DE ESCRITÓRIO DE APOIO À ATIVIDADE PARLAMENTAR    6.254503e+07\n",
       "LOCAÇÃO OU FRETAMENTO DE VEÍCULOS AUTOMOTORES                6.781413e+07\n",
       "PASSAGEM AÉREA - RPA                                         7.241028e+07\n",
       "DIVULGAÇÃO DA ATIVIDADE PARLAMENTAR.                         1.379023e+08\n",
       "Name: vlrDocumento, dtype: float64"
      ]
     },
     "execution_count": 35,
     "metadata": {},
     "output_type": "execute_result"
    }
   ],
   "source": [
    "#Agrupamento de gastos por categoria, somando o total e ordenando do maior para o menor\n",
    "categoria_oner = df_2.groupby(['txtDescricao'])['vlrDocumento'].sum().sort_values(ascending = True)\n",
    "categoria_oner"
   ]
  },
  {
   "cell_type": "code",
   "execution_count": 36,
   "metadata": {
    "colab": {
     "base_uri": "https://localhost:8080/",
     "height": 350
    },
    "id": "pYgVOpl884Ra",
    "outputId": "79ffe74b-2031-4d05-9b12-3a10b27390fe"
   },
   "outputs": [
    {
     "data": {
      "image/png": "[encoded data removed]",
      "text/plain": [
       "<Figure size 720x360 with 1 Axes>"
      ]
     },
     "metadata": {
      "needs_background": "light"
     },
     "output_type": "display_data"
    }
   ],
   "source": [
    "#Plotando gráfico barras na horizontal para meior visualização\n",
    "plt.figure(figsize = (10, 5))\n",
    "plt.barh(categoria_oner.index, categoria_oner, color = 'g')\n",
    "\n",
    "#plt.xticks(categoria_oner.index)\n",
    "\n",
    "plt.title('Maiores Gastos de acordo com Categoria')\n",
    "plt.xlabel('Range Valor R$ (mi)')\n",
    "plt.ylabel('Range Categorias')\n",
    "\n",
    "plt.show()"
   ]
  },
  {
   "cell_type": "code",
   "execution_count": 37,
   "metadata": {
    "colab": {
     "base_uri": "https://localhost:8080/"
    },
    "id": "5qkMbx_W84Ra",
    "outputId": "c9cc5f1b-f338-402d-baef-9be3abaed16f"
   },
   "outputs": [
    {
     "data": {
      "text/plain": [
       "txtDescricao\n",
       "ASSINATURA DE PUBLICAÇÕES                        5.832491e+05\n",
       "FORNECIMENTO DE ALIMENTAÇÃO DO PARLAMENTAR       2.023309e+06\n",
       "COMBUSTÍVEIS E LUBRIFICANTES.                    3.643998e+07\n",
       "CONSULTORIAS, PESQUISAS E TRABALHOS TÉCNICOS.    5.627142e+07\n",
       "DIVULGAÇÃO DA ATIVIDADE PARLAMENTAR.             1.379023e+08\n",
       "Name: vlrDocumento, dtype: float64"
      ]
     },
     "execution_count": 37,
     "metadata": {},
     "output_type": "execute_result"
    }
   ],
   "source": [
    "categoria_oner2 = df_2.groupby(['txtDescricao'])['vlrDocumento'].sum().head().sort_values(ascending = True)\n",
    "categoria_oner2"
   ]
  },
  {
   "cell_type": "code",
   "execution_count": 38,
   "metadata": {
    "colab": {
     "base_uri": "https://localhost:8080/",
     "height": 357
    },
    "id": "EXQtUwym84Rb",
    "outputId": "0c6d7f74-b420-4e51-bb40-0e9d55b94728"
   },
   "outputs": [
    {
     "data": {
      "image/png": "[encoded data removed]",
      "text/plain": [
       "<Figure size 432x432 with 1 Axes>"
      ]
     },
     "metadata": {},
     "output_type": "display_data"
    }
   ],
   "source": [
    "#Plotando em gráfico com porcentagem para melhor visualização\n",
    "labels = categoria_oner2.index\n",
    "sizes = categoria_oner2\n",
    "\n",
    "explode = (0, 0, 0, 0, 0.2)\n",
    "\n",
    "fig1, ax1 = plt.subplots(figsize=(6, 6))\n",
    "\n",
    "cc = ['#32CD32', '#00FF00', '#7CFC00', '#006400', '#008000']\n",
    "\n",
    "ax1.pie(sizes, explode = explode, labels = labels, autopct = '%1.1f%%', shadow = True, startangle = 90, colors = cc)\n",
    "\n",
    "ax1.axis('equal')\n",
    "plt.show()"
   ]
  },
  {
   "cell_type": "markdown",
   "metadata": {
    "id": "dea8yk0q84Rb"
   },
   "source": [
    "Verificamos que os gastos com divulgação de atividade parlamentar são a maioria, com aproximadamente 59,1% dos gastos entre todas as categorias."
   ]
  },
  {
   "cell_type": "markdown",
   "metadata": {
    "id": "o1h22WBN84Rb"
   },
   "source": [
    "### 5. Quais são os trechos de viagem mais recorrentes entre as despesas de viagem?"
   ]
  },
  {
   "cell_type": "code",
   "execution_count": 39,
   "metadata": {
    "colab": {
     "base_uri": "https://localhost:8080/"
    },
    "id": "C2UEIy0o84Rb",
    "outputId": "30864207-4546-422f-b372-4d23acfb9833"
   },
   "outputs": [
    {
     "data": {
      "text/plain": [
       "txtTrecho\n",
       "BSB/BSB    9890\n",
       "BSB/CGH    5083\n",
       "CGH/BSB    4912\n",
       "BSB/SDU    4134\n",
       "SDU/BSB    3987\n",
       "Name: txtTrecho, dtype: int64"
      ]
     },
     "execution_count": 39,
     "metadata": {},
     "output_type": "execute_result"
    }
   ],
   "source": [
    "#Agrupamento da contagem de viagens por trecho, as 5 maiores\n",
    "trechos_recorr = df_2.groupby(['txtTrecho'])['txtTrecho'].count().sort_values(ascending = False).head(5)\n",
    "trechos_recorr"
   ]
  },
  {
   "cell_type": "code",
   "execution_count": 40,
   "metadata": {
    "colab": {
     "base_uri": "https://localhost:8080/",
     "height": 357
    },
    "id": "RLO8iWG484Rc",
    "outputId": "00262db4-e2fd-42fa-b239-42b710629fb1"
   },
   "outputs": [
    {
     "data": {
      "image/png": "[encoded data removed]",
      "text/plain": [
       "<Figure size 432x432 with 1 Axes>"
      ]
     },
     "metadata": {},
     "output_type": "display_data"
    }
   ],
   "source": [
    "#Plotando em gráfico com porcentagem para melhor visualização\n",
    "labels = trechos_recorr.index\n",
    "sizes = trechos_recorr\n",
    "\n",
    "explode = (0.2, 0, 0, 0, 0)\n",
    "\n",
    "fig1, ax1 = plt.subplots(figsize=(6, 6))\n",
    "\n",
    "cc = ['#32CD32', '#00FF00', '#7CFC00', '#006400', '#008000']\n",
    "\n",
    "ax1.pie(sizes, explode = explode, labels = labels, autopct = '%1.1f%%', shadow = False, startangle = 90, colors = cc)\n",
    "\n",
    "ax1.axis('equal')\n",
    "plt.show()"
   ]
  },
  {
   "cell_type": "markdown",
   "metadata": {
    "id": "WHa2drCF84Rd"
   },
   "source": [
    "A maior parte dos gastos com transporte é derivada de viagens dentro de Brasilia (BSB), atingindo o percentual de 35,3% dos gastos totais. \n",
    "\n",
    "Lembrando que gastos com transporte englobam tanto o valor de gasolina gasto quanto passagens de avião e locação de carros."
   ]
  },
  {
   "cell_type": "markdown",
   "metadata": {
    "id": "n8Ec45lM84Rd"
   },
   "source": [
    "### 6. Qual a média de gastos por estado?"
   ]
  },
  {
   "cell_type": "code",
   "execution_count": 41,
   "metadata": {
    "colab": {
     "base_uri": "https://localhost:8080/"
    },
    "id": "maUF3EN-84Rd",
    "outputId": "53778728-1820-4729-900f-2a698c585b0b",
    "scrolled": true
   },
   "outputs": [
    {
     "data": {
      "text/plain": [
       "sgUF\n",
       "SC     564.018704\n",
       "RS     568.061800\n",
       "MG     690.850698\n",
       "PR     691.593533\n",
       "SP     692.750580\n",
       "RJ     803.591608\n",
       "MT     805.568393\n",
       "RN     847.517948\n",
       "PE     868.561441\n",
       "RO     869.159740\n",
       "MS     912.584921\n",
       "TO     920.312509\n",
       "ES     936.424195\n",
       "BA     979.921451\n",
       "PB    1075.305504\n",
       "CE    1245.679204\n",
       "PA    1257.199314\n",
       "GO    1285.133295\n",
       "MA    1376.814856\n",
       "SE    1431.695723\n",
       "AL    1473.456565\n",
       "PI    1495.355586\n",
       "DF    1553.381828\n",
       "AC    1601.271119\n",
       "AM    1606.099154\n",
       "RR    1664.401116\n",
       "AP    1944.971260\n",
       "Name: vlrDocumento, dtype: float64"
      ]
     },
     "execution_count": 41,
     "metadata": {},
     "output_type": "execute_result"
    }
   ],
   "source": [
    "#Média de gastos por estados\n",
    "media_estados = df_2.groupby(['sgUF'])['vlrDocumento'].mean().sort_values()\n",
    "media_estados"
   ]
  },
  {
   "cell_type": "code",
   "execution_count": 42,
   "metadata": {
    "colab": {
     "base_uri": "https://localhost:8080/"
    },
    "id": "ghgmPs6o84Re",
    "outputId": "1f39aad3-4ab8-4f8d-a10d-a3e5bf9e1c4f"
   },
   "outputs": [
    {
     "data": {
      "text/plain": [
       "sgUF\n",
       "DF    4.385197e+06\n",
       "RO    6.529128e+06\n",
       "MS    7.273302e+06\n",
       "MT    7.459563e+06\n",
       "RN    8.630275e+06\n",
       "TO    8.630691e+06\n",
       "SE    8.767705e+06\n",
       "ES    8.911013e+06\n",
       "RR    8.996088e+06\n",
       "AM    9.191705e+06\n",
       "AL    9.767544e+06\n",
       "AP    1.014497e+07\n",
       "AC    1.073172e+07\n",
       "PI    1.089217e+07\n",
       "SC    1.122397e+07\n",
       "PB    1.368541e+07\n",
       "GO    1.454128e+07\n",
       "PA    1.810618e+07\n",
       "MA    1.984266e+07\n",
       "CE    2.445517e+07\n",
       "PE    2.457334e+07\n",
       "RS    2.753225e+07\n",
       "PR    2.891968e+07\n",
       "RJ    4.072120e+07\n",
       "BA    4.246098e+07\n",
       "MG    4.503863e+07\n",
       "SP    5.810307e+07\n",
       "Name: vlrDocumento, dtype: float64"
      ]
     },
     "execution_count": 42,
     "metadata": {},
     "output_type": "execute_result"
    }
   ],
   "source": [
    "media_estados2 = df_2.groupby(['sgUF'])['vlrDocumento'].sum().sort_values()\n",
    "media_estados2"
   ]
  },
  {
   "cell_type": "code",
   "execution_count": 43,
   "metadata": {
    "colab": {
     "base_uri": "https://localhost:8080/",
     "height": 350
    },
    "id": "UhUMRBQ-84Re",
    "outputId": "9aaa9e9c-3619-4e56-9f87-452e0331e349"
   },
   "outputs": [
    {
     "data": {
      "image/png": "[encoded data removed]",
      "text/plain": [
       "<Figure size 864x360 with 1 Axes>"
      ]
     },
     "metadata": {
      "needs_background": "light"
     },
     "output_type": "display_data"
    }
   ],
   "source": [
    "#Plotando em gráfico de barras a média dos estados, na ordem do maior para menor\n",
    "plt.figure(figsize = (12, 5))\n",
    "plt.bar(media_estados.index, media_estados, color = 'g', label = 'ESTADOS')\n",
    "#plt.plot(media_estados.index, media_estados, 'r--')\n",
    "\n",
    "#plt.xticks(media_estados.index)\n",
    "plt.title('Gráfico de Gastos Parlamentar por Estados')\n",
    "plt.xlabel('Range Estados')\n",
    "plt.ylabel('Range Valor R$ (mi)')\n",
    "\n",
    "plt.legend()\n",
    "plt.show()"
   ]
  },
  {
   "cell_type": "markdown",
   "metadata": {
    "id": "a9iBIwPa84Rf"
   },
   "source": [
    "Aqui podemos notar a região norte dominando, sendo o Amapá campeão em gastos parlamentares, com somados aproximadamente 2 bilhões em reais gastos nesses 3 anos."
   ]
  },
  {
   "cell_type": "markdown",
   "metadata": {
    "id": "KDlWL3TP9IPV"
   },
   "source": [
    "### 7. Qual é o valor total de gastos por estado?"
   ]
  },
  {
   "cell_type": "code",
   "execution_count": 44,
   "metadata": {
    "colab": {
     "base_uri": "https://localhost:8080/",
     "height": 896
    },
    "id": "iRUdUlFD9Ji6",
    "outputId": "06a869dd-878a-4960-f96d-ca7acc0003f9"
   },
   "outputs": [
    {
     "data": {
      "text/html": [
       "<style  type=\"text/css\" >\n",
       "#T_88d91_row0_col1{\n",
       "            background-color:  #b40426;\n",
       "            color:  #f1f1f1;\n",
       "        }#T_88d91_row1_col1{\n",
       "            background-color:  #ed8366;\n",
       "            color:  #000000;\n",
       "        }#T_88d91_row2_col1{\n",
       "            background-color:  #f6a283;\n",
       "            color:  #000000;\n",
       "        }#T_88d91_row3_col1{\n",
       "            background-color:  #f7b79b;\n",
       "            color:  #000000;\n",
       "        }#T_88d91_row4_col1{\n",
       "            background-color:  #d4dbe6;\n",
       "            color:  #000000;\n",
       "        }#T_88d91_row5_col1{\n",
       "            background-color:  #cad8ef;\n",
       "            color:  #000000;\n",
       "        }#T_88d91_row6_col1{\n",
       "            background-color:  #b5cdfa;\n",
       "            color:  #000000;\n",
       "        }#T_88d91_row7_col1{\n",
       "            background-color:  #b2ccfb;\n",
       "            color:  #000000;\n",
       "        }#T_88d91_row8_col1{\n",
       "            background-color:  #9abbff;\n",
       "            color:  #000000;\n",
       "        }#T_88d91_row9_col1{\n",
       "            background-color:  #8db0fe;\n",
       "            color:  #000000;\n",
       "        }#T_88d91_row10_col1{\n",
       "            background-color:  #7ea1fa;\n",
       "            color:  #000000;\n",
       "        }#T_88d91_row11_col1{\n",
       "            background-color:  #6e90f2;\n",
       "            color:  #000000;\n",
       "        }#T_88d91_row12_col1{\n",
       "            background-color:  #6180e9;\n",
       "            color:  #000000;\n",
       "        }#T_88d91_row13_col1{\n",
       "            background-color:  #5f7fe8;\n",
       "            color:  #000000;\n",
       "        }#T_88d91_row14_col1{\n",
       "            background-color:  #5d7ce6;\n",
       "            color:  #000000;\n",
       "        }#T_88d91_row15_col1{\n",
       "            background-color:  #5875e1;\n",
       "            color:  #000000;\n",
       "        }#T_88d91_row16_col1{\n",
       "            background-color:  #5673e0;\n",
       "            color:  #000000;\n",
       "        }#T_88d91_row17_col1,#T_88d91_row18_col1,#T_88d91_row19_col1{\n",
       "            background-color:  #516ddb;\n",
       "            color:  #000000;\n",
       "        }#T_88d91_row20_col1{\n",
       "            background-color:  #506bda;\n",
       "            color:  #000000;\n",
       "        }#T_88d91_row21_col1{\n",
       "            background-color:  #4f69d9;\n",
       "            color:  #000000;\n",
       "        }#T_88d91_row22_col1{\n",
       "            background-color:  #4e68d8;\n",
       "            color:  #000000;\n",
       "        }#T_88d91_row23_col1{\n",
       "            background-color:  #4c66d6;\n",
       "            color:  #000000;\n",
       "        }#T_88d91_row24_col1{\n",
       "            background-color:  #4a63d3;\n",
       "            color:  #f1f1f1;\n",
       "        }#T_88d91_row25_col1{\n",
       "            background-color:  #445acc;\n",
       "            color:  #f1f1f1;\n",
       "        }#T_88d91_row26_col1{\n",
       "            background-color:  #3b4cc0;\n",
       "            color:  #f1f1f1;\n",
       "        }</style><table id=\"T_88d91_\" ><thead>    <tr>        <th class=\"blank level0\" ></th>        <th class=\"col_heading level0 col0\" >sgUF</th>        <th class=\"col_heading level0 col1\" >Valor_Total</th>    </tr></thead><tbody>\n",
       "                <tr>\n",
       "                        <th id=\"T_88d91_level0_row0\" class=\"row_heading level0 row0\" >0</th>\n",
       "                        <td id=\"T_88d91_row0_col0\" class=\"data row0 col0\" >SP</td>\n",
       "                        <td id=\"T_88d91_row0_col1\" class=\"data row0 col1\" >R$ 52635438.40</td>\n",
       "            </tr>\n",
       "            <tr>\n",
       "                        <th id=\"T_88d91_level0_row1\" class=\"row_heading level0 row1\" >1</th>\n",
       "                        <td id=\"T_88d91_row1_col0\" class=\"data row1 col0\" >MG</td>\n",
       "                        <td id=\"T_88d91_row1_col1\" class=\"data row1 col1\" >R$ 43162671.56</td>\n",
       "            </tr>\n",
       "            <tr>\n",
       "                        <th id=\"T_88d91_level0_row2\" class=\"row_heading level0 row2\" >2</th>\n",
       "                        <td id=\"T_88d91_row2_col0\" class=\"data row2 col0\" >BA</td>\n",
       "                        <td id=\"T_88d91_row2_col1\" class=\"data row2 col1\" >R$ 39441897.60</td>\n",
       "            </tr>\n",
       "            <tr>\n",
       "                        <th id=\"T_88d91_level0_row3\" class=\"row_heading level0 row3\" >3</th>\n",
       "                        <td id=\"T_88d91_row3_col0\" class=\"data row3 col0\" >RJ</td>\n",
       "                        <td id=\"T_88d91_row3_col1\" class=\"data row3 col1\" >R$ 36707801.80</td>\n",
       "            </tr>\n",
       "            <tr>\n",
       "                        <th id=\"T_88d91_level0_row4\" class=\"row_heading level0 row4\" >4</th>\n",
       "                        <td id=\"T_88d91_row4_col0\" class=\"data row4 col0\" >PR</td>\n",
       "                        <td id=\"T_88d91_row4_col1\" class=\"data row4 col1\" >R$ 26785753.60</td>\n",
       "            </tr>\n",
       "            <tr>\n",
       "                        <th id=\"T_88d91_level0_row5\" class=\"row_heading level0 row5\" >5</th>\n",
       "                        <td id=\"T_88d91_row5_col0\" class=\"data row5 col0\" >RS</td>\n",
       "                        <td id=\"T_88d91_row5_col1\" class=\"data row5 col1\" >R$ 25075845.74</td>\n",
       "            </tr>\n",
       "            <tr>\n",
       "                        <th id=\"T_88d91_level0_row6\" class=\"row_heading level0 row6\" >6</th>\n",
       "                        <td id=\"T_88d91_row6_col0\" class=\"data row6 col0\" >CE</td>\n",
       "                        <td id=\"T_88d91_row6_col1\" class=\"data row6 col1\" >R$ 21933892.08</td>\n",
       "            </tr>\n",
       "            <tr>\n",
       "                        <th id=\"T_88d91_level0_row7\" class=\"row_heading level0 row7\" >7</th>\n",
       "                        <td id=\"T_88d91_row7_col0\" class=\"data row7 col0\" >PE</td>\n",
       "                        <td id=\"T_88d91_row7_col1\" class=\"data row7 col1\" >R$ 21591701.23</td>\n",
       "            </tr>\n",
       "            <tr>\n",
       "                        <th id=\"T_88d91_level0_row8\" class=\"row_heading level0 row8\" >8</th>\n",
       "                        <td id=\"T_88d91_row8_col0\" class=\"data row8 col0\" >MA</td>\n",
       "                        <td id=\"T_88d91_row8_col1\" class=\"data row8 col1\" >R$ 18126874.79</td>\n",
       "            </tr>\n",
       "            <tr>\n",
       "                        <th id=\"T_88d91_level0_row9\" class=\"row_heading level0 row9\" >9</th>\n",
       "                        <td id=\"T_88d91_row9_col0\" class=\"data row9 col0\" >PA</td>\n",
       "                        <td id=\"T_88d91_row9_col1\" class=\"data row9 col1\" >R$ 16469118.51</td>\n",
       "            </tr>\n",
       "            <tr>\n",
       "                        <th id=\"T_88d91_level0_row10\" class=\"row_heading level0 row10\" >10</th>\n",
       "                        <td id=\"T_88d91_row10_col0\" class=\"data row10 col0\" >GO</td>\n",
       "                        <td id=\"T_88d91_row10_col1\" class=\"data row10 col1\" >R$ 14416890.65</td>\n",
       "            </tr>\n",
       "            <tr>\n",
       "                        <th id=\"T_88d91_level0_row11\" class=\"row_heading level0 row11\" >11</th>\n",
       "                        <td id=\"T_88d91_row11_col0\" class=\"data row11 col0\" >PB</td>\n",
       "                        <td id=\"T_88d91_row11_col1\" class=\"data row11 col1\" >R$ 12161287.75</td>\n",
       "            </tr>\n",
       "            <tr>\n",
       "                        <th id=\"T_88d91_level0_row12\" class=\"row_heading level0 row12\" >12</th>\n",
       "                        <td id=\"T_88d91_row12_col0\" class=\"data row12 col0\" >AC</td>\n",
       "                        <td id=\"T_88d91_row12_col1\" class=\"data row12 col1\" >R$ 10293532.20</td>\n",
       "            </tr>\n",
       "            <tr>\n",
       "                        <th id=\"T_88d91_level0_row13\" class=\"row_heading level0 row13\" >13</th>\n",
       "                        <td id=\"T_88d91_row13_col0\" class=\"data row13 col0\" >PI</td>\n",
       "                        <td id=\"T_88d91_row13_col1\" class=\"data row13 col1\" >R$ 10105986.48</td>\n",
       "            </tr>\n",
       "            <tr>\n",
       "                        <th id=\"T_88d91_level0_row14\" class=\"row_heading level0 row14\" >14</th>\n",
       "                        <td id=\"T_88d91_row14_col0\" class=\"data row14 col0\" >SC</td>\n",
       "                        <td id=\"T_88d91_row14_col1\" class=\"data row14 col1\" >R$ 9722726.40</td>\n",
       "            </tr>\n",
       "            <tr>\n",
       "                        <th id=\"T_88d91_level0_row15\" class=\"row_heading level0 row15\" >15</th>\n",
       "                        <td id=\"T_88d91_row15_col0\" class=\"data row15 col0\" >AP</td>\n",
       "                        <td id=\"T_88d91_row15_col1\" class=\"data row15 col1\" >R$ 8930724.82</td>\n",
       "            </tr>\n",
       "            <tr>\n",
       "                        <th id=\"T_88d91_level0_row16\" class=\"row_heading level0 row16\" >16</th>\n",
       "                        <td id=\"T_88d91_row16_col0\" class=\"data row16 col0\" >AM</td>\n",
       "                        <td id=\"T_88d91_row16_col1\" class=\"data row16 col1\" >R$ 8698992.79</td>\n",
       "            </tr>\n",
       "            <tr>\n",
       "                        <th id=\"T_88d91_level0_row17\" class=\"row_heading level0 row17\" >17</th>\n",
       "                        <td id=\"T_88d91_row17_col0\" class=\"data row17 col0\" >ES</td>\n",
       "                        <td id=\"T_88d91_row17_col1\" class=\"data row17 col1\" >R$ 7982895.03</td>\n",
       "            </tr>\n",
       "            <tr>\n",
       "                        <th id=\"T_88d91_level0_row18\" class=\"row_heading level0 row18\" >18</th>\n",
       "                        <td id=\"T_88d91_row18_col0\" class=\"data row18 col0\" >SE</td>\n",
       "                        <td id=\"T_88d91_row18_col1\" class=\"data row18 col1\" >R$ 7970503.96</td>\n",
       "            </tr>\n",
       "            <tr>\n",
       "                        <th id=\"T_88d91_level0_row19\" class=\"row_heading level0 row19\" >19</th>\n",
       "                        <td id=\"T_88d91_row19_col0\" class=\"data row19 col0\" >TO</td>\n",
       "                        <td id=\"T_88d91_row19_col1\" class=\"data row19 col1\" >R$ 7916891.67</td>\n",
       "            </tr>\n",
       "            <tr>\n",
       "                        <th id=\"T_88d91_level0_row20\" class=\"row_heading level0 row20\" >20</th>\n",
       "                        <td id=\"T_88d91_row20_col0\" class=\"data row20 col0\" >RR</td>\n",
       "                        <td id=\"T_88d91_row20_col1\" class=\"data row20 col1\" >R$ 7854212.79</td>\n",
       "            </tr>\n",
       "            <tr>\n",
       "                        <th id=\"T_88d91_level0_row21\" class=\"row_heading level0 row21\" >21</th>\n",
       "                        <td id=\"T_88d91_row21_col0\" class=\"data row21 col0\" >AL</td>\n",
       "                        <td id=\"T_88d91_row21_col1\" class=\"data row21 col1\" >R$ 7640373.82</td>\n",
       "            </tr>\n",
       "            <tr>\n",
       "                        <th id=\"T_88d91_level0_row22\" class=\"row_heading level0 row22\" >22</th>\n",
       "                        <td id=\"T_88d91_row22_col0\" class=\"data row22 col0\" >RN</td>\n",
       "                        <td id=\"T_88d91_row22_col1\" class=\"data row22 col1\" >R$ 7500253.34</td>\n",
       "            </tr>\n",
       "            <tr>\n",
       "                        <th id=\"T_88d91_level0_row23\" class=\"row_heading level0 row23\" >23</th>\n",
       "                        <td id=\"T_88d91_row23_col0\" class=\"data row23 col0\" >MT</td>\n",
       "                        <td id=\"T_88d91_row23_col1\" class=\"data row23 col1\" >R$ 7184822.30</td>\n",
       "            </tr>\n",
       "            <tr>\n",
       "                        <th id=\"T_88d91_level0_row24\" class=\"row_heading level0 row24\" >24</th>\n",
       "                        <td id=\"T_88d91_row24_col0\" class=\"data row24 col0\" >MS</td>\n",
       "                        <td id=\"T_88d91_row24_col1\" class=\"data row24 col1\" >R$ 6942314.37</td>\n",
       "            </tr>\n",
       "            <tr>\n",
       "                        <th id=\"T_88d91_level0_row25\" class=\"row_heading level0 row25\" >25</th>\n",
       "                        <td id=\"T_88d91_row25_col0\" class=\"data row25 col0\" >RO</td>\n",
       "                        <td id=\"T_88d91_row25_col1\" class=\"data row25 col1\" >R$ 5926355.59</td>\n",
       "            </tr>\n",
       "            <tr>\n",
       "                        <th id=\"T_88d91_level0_row26\" class=\"row_heading level0 row26\" >26</th>\n",
       "                        <td id=\"T_88d91_row26_col0\" class=\"data row26 col0\" >DF</td>\n",
       "                        <td id=\"T_88d91_row26_col1\" class=\"data row26 col1\" >R$ 4303815.07</td>\n",
       "            </tr>\n",
       "    </tbody></table>"
      ],
      "text/plain": [
       "<pandas.io.formats.style.Styler at 0xc789893c10>"
      ]
     },
     "execution_count": 44,
     "metadata": {},
     "output_type": "execute_result"
    }
   ],
   "source": [
    "gastos_uftotal = df_copia[['sgUF' , 'vlrLiquido']].groupby('sgUF').sum().sort_values('vlrLiquido', ascending = False).round(2)\n",
    "\n",
    "gastos_uftotal.rename(columns = {'vlrLiquido':'Valor_Total'}, inplace = True)\n",
    "\n",
    "gastos_uftotal = gastos_uftotal.reset_index()\n",
    "\n",
    "gastos_uftotal2 = gastos_uftotal.style.format({'Valor_Total': 'R$ {:.2F}'}).background_gradient(cmap = 'coolwarm')\n",
    "\n",
    "gastos_uftotal2"
   ]
  },
  {
   "cell_type": "code",
   "execution_count": 45,
   "metadata": {
    "colab": {
     "base_uri": "https://localhost:8080/",
     "height": 421
    },
    "id": "BetzrfiE9OqD",
    "outputId": "fc80cbbc-2576-43a9-9370-e731b08b5203"
   },
   "outputs": [
    {
     "name": "stdout",
     "output_type": "stream",
     "text": [
      "\n"
     ]
    },
    {
     "data": {
      "image/png": "[encoded data removed]",
      "text/plain": [
       "<Figure size 1080x432 with 1 Axes>"
      ]
     },
     "metadata": {
      "needs_background": "light"
     },
     "output_type": "display_data"
    }
   ],
   "source": [
    "plt.figure(figsize=(15,6))\n",
    "x = gastos_uftotal.sgUF\n",
    "y = gastos_uftotal['Valor_Total']/1000000\n",
    "plt.grid()\n",
    "plt.title('Despesa Total por Estados')\n",
    "plt.xlabel('Estados')\n",
    "plt.ylabel('Valores em Milhões de Reais ')\n",
    "plt.bar(x,y)\n",
    "print()"
   ]
  },
  {
   "cell_type": "markdown",
   "metadata": {
    "id": "QWjfaVHs9VH9"
   },
   "source": [
    "### 8. Quais estados têm maior número de representantes?"
   ]
  },
  {
   "cell_type": "code",
   "execution_count": 46,
   "metadata": {
    "colab": {
     "base_uri": "https://localhost:8080/",
     "height": 81
    },
    "id": "1BI03Ia99YJc",
    "outputId": "89f8c855-0ce5-4880-b52c-a7d4e92f0b78"
   },
   "outputs": [
    {
     "data": {
      "text/html": [
       "<div>\n",
       "<style scoped>\n",
       "    .dataframe tbody tr th:only-of-type {\n",
       "        vertical-align: middle;\n",
       "    }\n",
       "\n",
       "    .dataframe tbody tr th {\n",
       "        vertical-align: top;\n",
       "    }\n",
       "\n",
       "    .dataframe thead th {\n",
       "        text-align: right;\n",
       "    }\n",
       "</style>\n",
       "<table border=\"1\" class=\"dataframe\">\n",
       "  <thead>\n",
       "    <tr style=\"text-align: right;\">\n",
       "      <th></th>\n",
       "      <th>sgUF</th>\n",
       "      <th>Quantidade De Representantes</th>\n",
       "    </tr>\n",
       "  </thead>\n",
       "  <tbody>\n",
       "    <tr>\n",
       "      <th>0</th>\n",
       "      <td>SP</td>\n",
       "      <td>104</td>\n",
       "    </tr>\n",
       "  </tbody>\n",
       "</table>\n",
       "</div>"
      ],
      "text/plain": [
       "  sgUF  Quantidade De Representantes\n",
       "0   SP                           104"
      ]
     },
     "execution_count": 46,
     "metadata": {},
     "output_type": "execute_result"
    }
   ],
   "source": [
    "parlamentares_uf = df_copia[['txNomeParlamentar', 'sgUF']].drop_duplicates()\n",
    "\n",
    "parlamentares_uf = parlamentares_uf.groupby('sgUF').count().sort_values('txNomeParlamentar', ascending = False)\n",
    "\n",
    "parlamentares_uf.rename(columns = {'txNomeParlamentar':'Quantidade De Representantes'}, inplace = True)\n",
    "\n",
    "parlamentares_uf = parlamentares_uf.reset_index()\n",
    "\n",
    "maximo = parlamentares_uf['Quantidade De Representantes'].max()\n",
    "\n",
    "parlamentares_uf.head(1)\n",
    "\n"
   ]
  },
  {
   "cell_type": "code",
   "execution_count": 47,
   "metadata": {
    "colab": {
     "base_uri": "https://localhost:8080/",
     "height": 421
    },
    "id": "-TlHWDg29bN1",
    "outputId": "2492465f-37d3-4254-d714-ac50cd908e28"
   },
   "outputs": [
    {
     "name": "stdout",
     "output_type": "stream",
     "text": [
      "\n"
     ]
    },
    {
     "data": {
      "image/png": "[encoded data removed]",
      "text/plain": [
       "<Figure size 1080x432 with 1 Axes>"
      ]
     },
     "metadata": {
      "needs_background": "light"
     },
     "output_type": "display_data"
    }
   ],
   "source": [
    "plt.figure(figsize=(15,6))\n",
    "x = parlamentares_uf.sgUF\n",
    "y = parlamentares_uf['Quantidade De Representantes']\n",
    "plt.grid()\n",
    "plt.title('Quantidade De Parlamentares por Estado')\n",
    "plt.xlabel('Estados')\n",
    "plt.ylabel('Número de Representantes')\n",
    "plt.bar(x,y)\n",
    "print()"
   ]
  },
  {
   "cell_type": "markdown",
   "metadata": {
    "id": "oirAEnbo9khS"
   },
   "source": [
    "### 9. Há alguma correlação entre a quantidade de parlamentares por estado e o valor total dos gastos?"
   ]
  },
  {
   "cell_type": "code",
   "execution_count": 48,
   "metadata": {
    "id": "BiUYDCZQ9nu-"
   },
   "outputs": [],
   "source": [
    "gastos_uftotal = df_copia[['sgUF' , 'vlrLiquido']].groupby('sgUF').sum().sort_values('vlrLiquido', ascending = False).round(2)\n",
    "\n",
    "gastos_uftotal.rename(columns = {'vlrLiquido':'Valor_Total'}, inplace = True)\n",
    "\n",
    "gastos_uftotal = gastos_uftotal.reset_index()\n",
    "\n",
    "parlamentares_uf = df_copia[['txNomeParlamentar', 'sgUF']].drop_duplicates()\n",
    "\n",
    "parlamentares_uf = parlamentares_uf.groupby('sgUF').count().sort_values('txNomeParlamentar', ascending = False)\n",
    "\n",
    "parlamentares_uf.rename(columns = {'txNomeParlamentar':'Quantidade De Representantes'}, inplace = True)\n",
    "\n",
    "parlamentares_uf = parlamentares_uf.reset_index()\n",
    "\n",
    "maximo = parlamentares_uf['Quantidade De Representantes'].max()\n",
    "\n"
   ]
  },
  {
   "cell_type": "code",
   "execution_count": 49,
   "metadata": {
    "colab": {
     "base_uri": "https://localhost:8080/",
     "height": 479
    },
    "id": "HUN1IR3q9q9h",
    "outputId": "bdda3ca0-7691-4aa7-d99d-fe7f9a9f7263"
   },
   "outputs": [
    {
     "data": {
      "image/png": "[encoded data removed]",
      "text/plain": [
       "<Figure size 1440x504 with 2 Axes>"
      ]
     },
     "metadata": {
      "needs_background": "light"
     },
     "output_type": "display_data"
    }
   ],
   "source": [
    "y = np.array(gastos_uftotal['Valor_Total']/1000000)\n",
    "x = np.array(gastos_uftotal.sgUF)\n",
    "plt.figure(figsize=(20,7))\n",
    "plt.subplot(1,2,1)\n",
    "plt.grid(axis= 'y')\n",
    "plt.bar(x,y)\n",
    "plt.title('Despesas em Milhões de Reais por Estado')\n",
    "\n",
    "x = np.array(parlamentares_uf.sgUF)\n",
    "y = np.array(parlamentares_uf['Quantidade De Representantes'])\n",
    "plt.subplot(1,2,2)\n",
    "plt.bar(x,y)\n",
    "plt.grid(axis= 'x')\n",
    "plt.title('Número de Deputado por Estados')\n",
    "plt.suptitle('Gráficos')\n",
    "plt.show()"
   ]
  },
  {
   "cell_type": "code",
   "execution_count": 50,
   "metadata": {
    "colab": {
     "base_uri": "https://localhost:8080/",
     "height": 896
    },
    "id": "-Mo4jiNX9xB9",
    "outputId": "52b22a3b-d756-48c9-cabf-37a4d7209fed"
   },
   "outputs": [
    {
     "data": {
      "text/html": [
       "<div>\n",
       "<style scoped>\n",
       "    .dataframe tbody tr th:only-of-type {\n",
       "        vertical-align: middle;\n",
       "    }\n",
       "\n",
       "    .dataframe tbody tr th {\n",
       "        vertical-align: top;\n",
       "    }\n",
       "\n",
       "    .dataframe thead th {\n",
       "        text-align: right;\n",
       "    }\n",
       "</style>\n",
       "<table border=\"1\" class=\"dataframe\">\n",
       "  <thead>\n",
       "    <tr style=\"text-align: right;\">\n",
       "      <th></th>\n",
       "      <th>index</th>\n",
       "      <th>sgUF</th>\n",
       "      <th>Valor_Total</th>\n",
       "      <th>Quantidade De Representantes</th>\n",
       "    </tr>\n",
       "  </thead>\n",
       "  <tbody>\n",
       "    <tr>\n",
       "      <th>0</th>\n",
       "      <td>0</td>\n",
       "      <td>SP</td>\n",
       "      <td>52635438.40</td>\n",
       "      <td>104</td>\n",
       "    </tr>\n",
       "    <tr>\n",
       "      <th>1</th>\n",
       "      <td>1</td>\n",
       "      <td>MG</td>\n",
       "      <td>43162671.56</td>\n",
       "      <td>81</td>\n",
       "    </tr>\n",
       "    <tr>\n",
       "      <th>2</th>\n",
       "      <td>2</td>\n",
       "      <td>BA</td>\n",
       "      <td>39441897.60</td>\n",
       "      <td>56</td>\n",
       "    </tr>\n",
       "    <tr>\n",
       "      <th>3</th>\n",
       "      <td>3</td>\n",
       "      <td>RJ</td>\n",
       "      <td>36707801.80</td>\n",
       "      <td>82</td>\n",
       "    </tr>\n",
       "    <tr>\n",
       "      <th>4</th>\n",
       "      <td>4</td>\n",
       "      <td>PR</td>\n",
       "      <td>26785753.60</td>\n",
       "      <td>46</td>\n",
       "    </tr>\n",
       "    <tr>\n",
       "      <th>5</th>\n",
       "      <td>5</td>\n",
       "      <td>RS</td>\n",
       "      <td>25075845.74</td>\n",
       "      <td>47</td>\n",
       "    </tr>\n",
       "    <tr>\n",
       "      <th>6</th>\n",
       "      <td>6</td>\n",
       "      <td>CE</td>\n",
       "      <td>21933892.08</td>\n",
       "      <td>39</td>\n",
       "    </tr>\n",
       "    <tr>\n",
       "      <th>7</th>\n",
       "      <td>7</td>\n",
       "      <td>PE</td>\n",
       "      <td>21591701.23</td>\n",
       "      <td>38</td>\n",
       "    </tr>\n",
       "    <tr>\n",
       "      <th>8</th>\n",
       "      <td>8</td>\n",
       "      <td>MA</td>\n",
       "      <td>18126874.79</td>\n",
       "      <td>34</td>\n",
       "    </tr>\n",
       "    <tr>\n",
       "      <th>9</th>\n",
       "      <td>9</td>\n",
       "      <td>PA</td>\n",
       "      <td>16469118.51</td>\n",
       "      <td>27</td>\n",
       "    </tr>\n",
       "    <tr>\n",
       "      <th>10</th>\n",
       "      <td>10</td>\n",
       "      <td>GO</td>\n",
       "      <td>14416890.65</td>\n",
       "      <td>27</td>\n",
       "    </tr>\n",
       "    <tr>\n",
       "      <th>11</th>\n",
       "      <td>11</td>\n",
       "      <td>PB</td>\n",
       "      <td>12161287.75</td>\n",
       "      <td>20</td>\n",
       "    </tr>\n",
       "    <tr>\n",
       "      <th>12</th>\n",
       "      <td>12</td>\n",
       "      <td>AC</td>\n",
       "      <td>10293532.20</td>\n",
       "      <td>14</td>\n",
       "    </tr>\n",
       "    <tr>\n",
       "      <th>13</th>\n",
       "      <td>13</td>\n",
       "      <td>PI</td>\n",
       "      <td>10105986.48</td>\n",
       "      <td>15</td>\n",
       "    </tr>\n",
       "    <tr>\n",
       "      <th>14</th>\n",
       "      <td>14</td>\n",
       "      <td>SC</td>\n",
       "      <td>9722726.40</td>\n",
       "      <td>30</td>\n",
       "    </tr>\n",
       "    <tr>\n",
       "      <th>15</th>\n",
       "      <td>15</td>\n",
       "      <td>AP</td>\n",
       "      <td>8930724.82</td>\n",
       "      <td>15</td>\n",
       "    </tr>\n",
       "    <tr>\n",
       "      <th>16</th>\n",
       "      <td>16</td>\n",
       "      <td>AM</td>\n",
       "      <td>8698992.79</td>\n",
       "      <td>14</td>\n",
       "    </tr>\n",
       "    <tr>\n",
       "      <th>17</th>\n",
       "      <td>17</td>\n",
       "      <td>ES</td>\n",
       "      <td>7982895.03</td>\n",
       "      <td>17</td>\n",
       "    </tr>\n",
       "    <tr>\n",
       "      <th>18</th>\n",
       "      <td>18</td>\n",
       "      <td>SE</td>\n",
       "      <td>7970503.96</td>\n",
       "      <td>12</td>\n",
       "    </tr>\n",
       "    <tr>\n",
       "      <th>19</th>\n",
       "      <td>19</td>\n",
       "      <td>TO</td>\n",
       "      <td>7916891.67</td>\n",
       "      <td>12</td>\n",
       "    </tr>\n",
       "    <tr>\n",
       "      <th>20</th>\n",
       "      <td>20</td>\n",
       "      <td>RR</td>\n",
       "      <td>7854212.79</td>\n",
       "      <td>13</td>\n",
       "    </tr>\n",
       "    <tr>\n",
       "      <th>21</th>\n",
       "      <td>21</td>\n",
       "      <td>AL</td>\n",
       "      <td>7640373.82</td>\n",
       "      <td>14</td>\n",
       "    </tr>\n",
       "    <tr>\n",
       "      <th>22</th>\n",
       "      <td>22</td>\n",
       "      <td>RN</td>\n",
       "      <td>7500253.34</td>\n",
       "      <td>13</td>\n",
       "    </tr>\n",
       "    <tr>\n",
       "      <th>23</th>\n",
       "      <td>23</td>\n",
       "      <td>MT</td>\n",
       "      <td>7184822.30</td>\n",
       "      <td>15</td>\n",
       "    </tr>\n",
       "    <tr>\n",
       "      <th>24</th>\n",
       "      <td>24</td>\n",
       "      <td>MS</td>\n",
       "      <td>6942314.37</td>\n",
       "      <td>16</td>\n",
       "    </tr>\n",
       "    <tr>\n",
       "      <th>25</th>\n",
       "      <td>25</td>\n",
       "      <td>RO</td>\n",
       "      <td>5926355.59</td>\n",
       "      <td>13</td>\n",
       "    </tr>\n",
       "    <tr>\n",
       "      <th>26</th>\n",
       "      <td>26</td>\n",
       "      <td>DF</td>\n",
       "      <td>4303815.07</td>\n",
       "      <td>15</td>\n",
       "    </tr>\n",
       "  </tbody>\n",
       "</table>\n",
       "</div>"
      ],
      "text/plain": [
       "    index sgUF  Valor_Total  Quantidade De Representantes\n",
       "0       0   SP  52635438.40                           104\n",
       "1       1   MG  43162671.56                            81\n",
       "2       2   BA  39441897.60                            56\n",
       "3       3   RJ  36707801.80                            82\n",
       "4       4   PR  26785753.60                            46\n",
       "5       5   RS  25075845.74                            47\n",
       "6       6   CE  21933892.08                            39\n",
       "7       7   PE  21591701.23                            38\n",
       "8       8   MA  18126874.79                            34\n",
       "9       9   PA  16469118.51                            27\n",
       "10     10   GO  14416890.65                            27\n",
       "11     11   PB  12161287.75                            20\n",
       "12     12   AC  10293532.20                            14\n",
       "13     13   PI  10105986.48                            15\n",
       "14     14   SC   9722726.40                            30\n",
       "15     15   AP   8930724.82                            15\n",
       "16     16   AM   8698992.79                            14\n",
       "17     17   ES   7982895.03                            17\n",
       "18     18   SE   7970503.96                            12\n",
       "19     19   TO   7916891.67                            12\n",
       "20     20   RR   7854212.79                            13\n",
       "21     21   AL   7640373.82                            14\n",
       "22     22   RN   7500253.34                            13\n",
       "23     23   MT   7184822.30                            15\n",
       "24     24   MS   6942314.37                            16\n",
       "25     25   RO   5926355.59                            13\n",
       "26     26   DF   4303815.07                            15"
      ]
     },
     "execution_count": 50,
     "metadata": {},
     "output_type": "execute_result"
    }
   ],
   "source": [
    "auxiliar = pd.merge(gastos_uftotal,parlamentares_uf, on = ['sgUF'])\n",
    "\n",
    "auxiliar = auxiliar.reset_index()\n",
    "\n",
    "auxiliar.rename(columns = {'Valor_Total\t': 'Valor_Total'}, inplace = True)\n",
    "\n",
    "auxiliar"
   ]
  },
  {
   "cell_type": "markdown",
   "metadata": {
    "id": "pjX-qaBx93s2"
   },
   "source": [
    "Aplicando Normalização Biblioteca MinMaxScaler"
   ]
  },
  {
   "cell_type": "code",
   "execution_count": 51,
   "metadata": {
    "id": "uNfnWLNz95QM"
   },
   "outputs": [],
   "source": [
    "from sklearn.preprocessing import MinMaxScaler\n",
    "\n",
    "scaler = MinMaxScaler()\n",
    "\n",
    "dados_normalizados = scaler.fit_transform(auxiliar[['Valor_Total', 'Quantidade De Representantes']])"
   ]
  },
  {
   "cell_type": "code",
   "execution_count": 52,
   "metadata": {
    "colab": {
     "base_uri": "https://localhost:8080/",
     "height": 896
    },
    "id": "EUbEmXw398Pz",
    "outputId": "281b2daf-bce9-400b-a855-77a18086af91"
   },
   "outputs": [
    {
     "data": {
      "text/html": [
       "<div>\n",
       "<style scoped>\n",
       "    .dataframe tbody tr th:only-of-type {\n",
       "        vertical-align: middle;\n",
       "    }\n",
       "\n",
       "    .dataframe tbody tr th {\n",
       "        vertical-align: top;\n",
       "    }\n",
       "\n",
       "    .dataframe thead th {\n",
       "        text-align: right;\n",
       "    }\n",
       "</style>\n",
       "<table border=\"1\" class=\"dataframe\">\n",
       "  <thead>\n",
       "    <tr style=\"text-align: right;\">\n",
       "      <th></th>\n",
       "      <th>Valor_Total</th>\n",
       "      <th>Quantidade De Representantes</th>\n",
       "    </tr>\n",
       "  </thead>\n",
       "  <tbody>\n",
       "    <tr>\n",
       "      <th>0</th>\n",
       "      <td>1.000000</td>\n",
       "      <td>1.000000</td>\n",
       "    </tr>\n",
       "    <tr>\n",
       "      <th>1</th>\n",
       "      <td>0.804005</td>\n",
       "      <td>0.750000</td>\n",
       "    </tr>\n",
       "    <tr>\n",
       "      <th>2</th>\n",
       "      <td>0.727021</td>\n",
       "      <td>0.478261</td>\n",
       "    </tr>\n",
       "    <tr>\n",
       "      <th>3</th>\n",
       "      <td>0.670451</td>\n",
       "      <td>0.760870</td>\n",
       "    </tr>\n",
       "    <tr>\n",
       "      <th>4</th>\n",
       "      <td>0.465160</td>\n",
       "      <td>0.369565</td>\n",
       "    </tr>\n",
       "    <tr>\n",
       "      <th>5</th>\n",
       "      <td>0.429781</td>\n",
       "      <td>0.380435</td>\n",
       "    </tr>\n",
       "    <tr>\n",
       "      <th>6</th>\n",
       "      <td>0.364773</td>\n",
       "      <td>0.293478</td>\n",
       "    </tr>\n",
       "    <tr>\n",
       "      <th>7</th>\n",
       "      <td>0.357693</td>\n",
       "      <td>0.282609</td>\n",
       "    </tr>\n",
       "    <tr>\n",
       "      <th>8</th>\n",
       "      <td>0.286004</td>\n",
       "      <td>0.239130</td>\n",
       "    </tr>\n",
       "    <tr>\n",
       "      <th>9</th>\n",
       "      <td>0.251705</td>\n",
       "      <td>0.163043</td>\n",
       "    </tr>\n",
       "    <tr>\n",
       "      <th>10</th>\n",
       "      <td>0.209243</td>\n",
       "      <td>0.163043</td>\n",
       "    </tr>\n",
       "    <tr>\n",
       "      <th>11</th>\n",
       "      <td>0.162574</td>\n",
       "      <td>0.086957</td>\n",
       "    </tr>\n",
       "    <tr>\n",
       "      <th>12</th>\n",
       "      <td>0.123930</td>\n",
       "      <td>0.021739</td>\n",
       "    </tr>\n",
       "    <tr>\n",
       "      <th>13</th>\n",
       "      <td>0.120049</td>\n",
       "      <td>0.032609</td>\n",
       "    </tr>\n",
       "    <tr>\n",
       "      <th>14</th>\n",
       "      <td>0.112119</td>\n",
       "      <td>0.195652</td>\n",
       "    </tr>\n",
       "    <tr>\n",
       "      <th>15</th>\n",
       "      <td>0.095733</td>\n",
       "      <td>0.032609</td>\n",
       "    </tr>\n",
       "    <tr>\n",
       "      <th>16</th>\n",
       "      <td>0.090938</td>\n",
       "      <td>0.021739</td>\n",
       "    </tr>\n",
       "    <tr>\n",
       "      <th>17</th>\n",
       "      <td>0.076122</td>\n",
       "      <td>0.054348</td>\n",
       "    </tr>\n",
       "    <tr>\n",
       "      <th>18</th>\n",
       "      <td>0.075865</td>\n",
       "      <td>0.000000</td>\n",
       "    </tr>\n",
       "    <tr>\n",
       "      <th>19</th>\n",
       "      <td>0.074756</td>\n",
       "      <td>0.000000</td>\n",
       "    </tr>\n",
       "    <tr>\n",
       "      <th>20</th>\n",
       "      <td>0.073459</td>\n",
       "      <td>0.010870</td>\n",
       "    </tr>\n",
       "    <tr>\n",
       "      <th>21</th>\n",
       "      <td>0.069035</td>\n",
       "      <td>0.021739</td>\n",
       "    </tr>\n",
       "    <tr>\n",
       "      <th>22</th>\n",
       "      <td>0.066136</td>\n",
       "      <td>0.010870</td>\n",
       "    </tr>\n",
       "    <tr>\n",
       "      <th>23</th>\n",
       "      <td>0.059609</td>\n",
       "      <td>0.032609</td>\n",
       "    </tr>\n",
       "    <tr>\n",
       "      <th>24</th>\n",
       "      <td>0.054592</td>\n",
       "      <td>0.043478</td>\n",
       "    </tr>\n",
       "    <tr>\n",
       "      <th>25</th>\n",
       "      <td>0.033571</td>\n",
       "      <td>0.010870</td>\n",
       "    </tr>\n",
       "    <tr>\n",
       "      <th>26</th>\n",
       "      <td>0.000000</td>\n",
       "      <td>0.032609</td>\n",
       "    </tr>\n",
       "  </tbody>\n",
       "</table>\n",
       "</div>"
      ],
      "text/plain": [
       "    Valor_Total  Quantidade De Representantes\n",
       "0      1.000000                      1.000000\n",
       "1      0.804005                      0.750000\n",
       "2      0.727021                      0.478261\n",
       "3      0.670451                      0.760870\n",
       "4      0.465160                      0.369565\n",
       "5      0.429781                      0.380435\n",
       "6      0.364773                      0.293478\n",
       "7      0.357693                      0.282609\n",
       "8      0.286004                      0.239130\n",
       "9      0.251705                      0.163043\n",
       "10     0.209243                      0.163043\n",
       "11     0.162574                      0.086957\n",
       "12     0.123930                      0.021739\n",
       "13     0.120049                      0.032609\n",
       "14     0.112119                      0.195652\n",
       "15     0.095733                      0.032609\n",
       "16     0.090938                      0.021739\n",
       "17     0.076122                      0.054348\n",
       "18     0.075865                      0.000000\n",
       "19     0.074756                      0.000000\n",
       "20     0.073459                      0.010870\n",
       "21     0.069035                      0.021739\n",
       "22     0.066136                      0.010870\n",
       "23     0.059609                      0.032609\n",
       "24     0.054592                      0.043478\n",
       "25     0.033571                      0.010870\n",
       "26     0.000000                      0.032609"
      ]
     },
     "execution_count": 52,
     "metadata": {},
     "output_type": "execute_result"
    }
   ],
   "source": [
    "dados_normalizados = pd.DataFrame(dados_normalizados)\n",
    "\n",
    "dados_normalizados.rename(columns= {0:'Valor_Total', 1: 'Quantidade De Representantes'}, inplace = True)\n",
    "\n",
    "dados_normalizados"
   ]
  },
  {
   "cell_type": "code",
   "execution_count": 53,
   "metadata": {
    "colab": {
     "base_uri": "https://localhost:8080/",
     "height": 387
    },
    "id": "e4gNFm119_r2",
    "outputId": "f50d597e-72f8-4bfd-b84c-9fe17f01678b"
   },
   "outputs": [
    {
     "name": "stderr",
     "output_type": "stream",
     "text": [
      "No handles with labels found to put in legend.\n"
     ]
    },
    {
     "data": {
      "image/png": "[encoded data removed]",
      "text/plain": [
       "<Figure size 864x360 with 2 Axes>"
      ]
     },
     "metadata": {},
     "output_type": "display_data"
    }
   ],
   "source": [
    "fig, ax1 = plt.subplots()\n",
    "\n",
    "color = 'tab:blue'\n",
    "ax1.set_xlabel('Estados')\n",
    "ax1.set_ylabel('Gastos em Milhões de Reais', color = color)\n",
    "ax1.plot(auxiliar.sgUF, dados_normalizados.Valor_Total, color = color)\n",
    "ax1.tick_params(axis = 'y',labelcolor = color)\n",
    "\n",
    "ax2 = ax1.twinx()\n",
    " \n",
    "color = 'tab:orange'\n",
    "ax2.set_ylabel('Quantidade de Parlemantares por Estado', color = color, rotation = '270')\n",
    "ax2.plot(dados_normalizados['Quantidade De Representantes'], color = color)\n",
    "ax2.tick_params(axis = 'y',labelcolor = color)\n",
    "\n",
    "plt.gcf().set_size_inches(12,5)\n",
    "fig.tight_layout()\n",
    "plt.grid()\n",
    "plt.legend()\n",
    "plt.show()"
   ]
  },
  {
   "cell_type": "markdown",
   "metadata": {
    "id": "kvA3wXJk-JBb"
   },
   "source": [
    "### 10. Qual a média de gastos por partido?"
   ]
  },
  {
   "cell_type": "code",
   "execution_count": 54,
   "metadata": {
    "colab": {
     "base_uri": "https://localhost:8080/",
     "height": 1000
    },
    "id": "ZFldQcsk-MPJ",
    "outputId": "b18d3de7-f0c2-4b06-dae2-3c93ca10b423"
   },
   "outputs": [
    {
     "data": {
      "text/html": [
       "<style  type=\"text/css\" >\n",
       "#T_9fdca_row0_col1{\n",
       "            background-color:  #67000d;\n",
       "            color:  #f1f1f1;\n",
       "        }#T_9fdca_row1_col1{\n",
       "            background-color:  #fc9b7c;\n",
       "            color:  #000000;\n",
       "        }#T_9fdca_row2_col1{\n",
       "            background-color:  #fca689;\n",
       "            color:  #000000;\n",
       "        }#T_9fdca_row3_col1{\n",
       "            background-color:  #fdc6b0;\n",
       "            color:  #000000;\n",
       "        }#T_9fdca_row4_col1{\n",
       "            background-color:  #fdd5c4;\n",
       "            color:  #000000;\n",
       "        }#T_9fdca_row5_col1{\n",
       "            background-color:  #fedbcc;\n",
       "            color:  #000000;\n",
       "        }#T_9fdca_row6_col1{\n",
       "            background-color:  #fedccd;\n",
       "            color:  #000000;\n",
       "        }#T_9fdca_row7_col1,#T_9fdca_row8_col1,#T_9fdca_row9_col1{\n",
       "            background-color:  #fedfd0;\n",
       "            color:  #000000;\n",
       "        }#T_9fdca_row10_col1{\n",
       "            background-color:  #fee0d2;\n",
       "            color:  #000000;\n",
       "        }#T_9fdca_row11_col1{\n",
       "            background-color:  #fee1d3;\n",
       "            color:  #000000;\n",
       "        }#T_9fdca_row12_col1,#T_9fdca_row13_col1{\n",
       "            background-color:  #fee1d4;\n",
       "            color:  #000000;\n",
       "        }#T_9fdca_row14_col1{\n",
       "            background-color:  #fee3d6;\n",
       "            color:  #000000;\n",
       "        }#T_9fdca_row15_col1,#T_9fdca_row16_col1{\n",
       "            background-color:  #fee4d8;\n",
       "            color:  #000000;\n",
       "        }#T_9fdca_row17_col1,#T_9fdca_row18_col1{\n",
       "            background-color:  #fee5d8;\n",
       "            color:  #000000;\n",
       "        }#T_9fdca_row19_col1{\n",
       "            background-color:  #fee5d9;\n",
       "            color:  #000000;\n",
       "        }#T_9fdca_row20_col1,#T_9fdca_row21_col1{\n",
       "            background-color:  #fee6da;\n",
       "            color:  #000000;\n",
       "        }#T_9fdca_row22_col1,#T_9fdca_row23_col1,#T_9fdca_row24_col1{\n",
       "            background-color:  #fee7db;\n",
       "            color:  #000000;\n",
       "        }#T_9fdca_row25_col1{\n",
       "            background-color:  #fee7dc;\n",
       "            color:  #000000;\n",
       "        }#T_9fdca_row26_col1,#T_9fdca_row27_col1{\n",
       "            background-color:  #fee8dd;\n",
       "            color:  #000000;\n",
       "        }#T_9fdca_row28_col1{\n",
       "            background-color:  #fee8de;\n",
       "            color:  #000000;\n",
       "        }#T_9fdca_row29_col1{\n",
       "            background-color:  #feeae0;\n",
       "            color:  #000000;\n",
       "        }#T_9fdca_row30_col1{\n",
       "            background-color:  #feeae1;\n",
       "            color:  #000000;\n",
       "        }#T_9fdca_row31_col1{\n",
       "            background-color:  #ffebe2;\n",
       "            color:  #000000;\n",
       "        }#T_9fdca_row32_col1,#T_9fdca_row33_col1{\n",
       "            background-color:  #ffede5;\n",
       "            color:  #000000;\n",
       "        }#T_9fdca_row34_col1{\n",
       "            background-color:  #fff5f0;\n",
       "            color:  #000000;\n",
       "        }</style><table id=\"T_9fdca_\" ><thead>    <tr>        <th class=\"blank level0\" ></th>        <th class=\"col_heading level0 col0\" >sgPartido</th>        <th class=\"col_heading level0 col1\" >vlrLiquido</th>    </tr></thead><tbody>\n",
       "                <tr>\n",
       "                        <th id=\"T_9fdca_level0_row0\" class=\"row_heading level0 row0\" >0</th>\n",
       "                        <td id=\"T_9fdca_row0_col0\" class=\"data row0 col0\" >PROGRESSISTAS</td>\n",
       "                        <td id=\"T_9fdca_row0_col1\" class=\"data row0 col1\" >R$ 6487.50</td>\n",
       "            </tr>\n",
       "            <tr>\n",
       "                        <th id=\"T_9fdca_level0_row1\" class=\"row_heading level0 row1\" >1</th>\n",
       "                        <td id=\"T_9fdca_row1_col0\" class=\"data row1 col0\" >SOCIAL</td>\n",
       "                        <td id=\"T_9fdca_row1_col1\" class=\"data row1 col1\" >R$ 2464.79</td>\n",
       "            </tr>\n",
       "            <tr>\n",
       "                        <th id=\"T_9fdca_level0_row2\" class=\"row_heading level0 row2\" >2</th>\n",
       "                        <td id=\"T_9fdca_row2_col0\" class=\"data row2 col0\" >PPL</td>\n",
       "                        <td id=\"T_9fdca_row2_col1\" class=\"data row2 col1\" >R$ 2246.29</td>\n",
       "            </tr>\n",
       "            <tr>\n",
       "                        <th id=\"T_9fdca_level0_row3\" class=\"row_heading level0 row3\" >3</th>\n",
       "                        <td id=\"T_9fdca_row3_col0\" class=\"data row3 col0\" >S.PART.</td>\n",
       "                        <td id=\"T_9fdca_row3_col1\" class=\"data row3 col1\" >R$ 1614.39</td>\n",
       "            </tr>\n",
       "            <tr>\n",
       "                        <th id=\"T_9fdca_level0_row4\" class=\"row_heading level0 row4\" >4</th>\n",
       "                        <td id=\"T_9fdca_row4_col0\" class=\"data row4 col0\" >PHS</td>\n",
       "                        <td id=\"T_9fdca_row4_col1\" class=\"data row4 col1\" >R$ 1295.36</td>\n",
       "            </tr>\n",
       "            <tr>\n",
       "                        <th id=\"T_9fdca_level0_row5\" class=\"row_heading level0 row5\" >5</th>\n",
       "                        <td id=\"T_9fdca_row5_col0\" class=\"data row5 col0\" >PRB</td>\n",
       "                        <td id=\"T_9fdca_row5_col1\" class=\"data row5 col1\" >R$ 1169.67</td>\n",
       "            </tr>\n",
       "            <tr>\n",
       "                        <th id=\"T_9fdca_level0_row6\" class=\"row_heading level0 row6\" >6</th>\n",
       "                        <td id=\"T_9fdca_row6_col0\" class=\"data row6 col0\" >REDE</td>\n",
       "                        <td id=\"T_9fdca_row6_col1\" class=\"data row6 col1\" >R$ 1151.66</td>\n",
       "            </tr>\n",
       "            <tr>\n",
       "                        <th id=\"T_9fdca_level0_row7\" class=\"row_heading level0 row7\" >7</th>\n",
       "                        <td id=\"T_9fdca_row7_col0\" class=\"data row7 col0\" >PCdoB</td>\n",
       "                        <td id=\"T_9fdca_row7_col1\" class=\"data row7 col1\" >R$ 1101.11</td>\n",
       "            </tr>\n",
       "            <tr>\n",
       "                        <th id=\"T_9fdca_level0_row8\" class=\"row_heading level0 row8\" >8</th>\n",
       "                        <td id=\"T_9fdca_row8_col0\" class=\"data row8 col0\" >PSC</td>\n",
       "                        <td id=\"T_9fdca_row8_col1\" class=\"data row8 col1\" >R$ 1092.36</td>\n",
       "            </tr>\n",
       "            <tr>\n",
       "                        <th id=\"T_9fdca_level0_row9\" class=\"row_heading level0 row9\" >9</th>\n",
       "                        <td id=\"T_9fdca_row9_col0\" class=\"data row9 col0\" >PR</td>\n",
       "                        <td id=\"T_9fdca_row9_col1\" class=\"data row9 col1\" >R$ 1090.14</td>\n",
       "            </tr>\n",
       "            <tr>\n",
       "                        <th id=\"T_9fdca_level0_row10\" class=\"row_heading level0 row10\" >10</th>\n",
       "                        <td id=\"T_9fdca_row10_col0\" class=\"data row10 col0\" >PROS</td>\n",
       "                        <td id=\"T_9fdca_row10_col1\" class=\"data row10 col1\" >R$ 1074.20</td>\n",
       "            </tr>\n",
       "            <tr>\n",
       "                        <th id=\"T_9fdca_level0_row11\" class=\"row_heading level0 row11\" >11</th>\n",
       "                        <td id=\"T_9fdca_row11_col0\" class=\"data row11 col0\" >PATRI</td>\n",
       "                        <td id=\"T_9fdca_row11_col1\" class=\"data row11 col1\" >R$ 1050.25</td>\n",
       "            </tr>\n",
       "            <tr>\n",
       "                        <th id=\"T_9fdca_level0_row12\" class=\"row_heading level0 row12\" >12</th>\n",
       "                        <td id=\"T_9fdca_row12_col0\" class=\"data row12 col0\" >SOLIDARIEDADE</td>\n",
       "                        <td id=\"T_9fdca_row12_col1\" class=\"data row12 col1\" >R$ 1024.73</td>\n",
       "            </tr>\n",
       "            <tr>\n",
       "                        <th id=\"T_9fdca_level0_row13\" class=\"row_heading level0 row13\" >13</th>\n",
       "                        <td id=\"T_9fdca_row13_col0\" class=\"data row13 col0\" >REPUBLICANOS</td>\n",
       "                        <td id=\"T_9fdca_row13_col1\" class=\"data row13 col1\" >R$ 1021.40</td>\n",
       "            </tr>\n",
       "            <tr>\n",
       "                        <th id=\"T_9fdca_level0_row14\" class=\"row_heading level0 row14\" >14</th>\n",
       "                        <td id=\"T_9fdca_row14_col0\" class=\"data row14 col0\" >PPS</td>\n",
       "                        <td id=\"T_9fdca_row14_col1\" class=\"data row14 col1\" >R$ 970.75</td>\n",
       "            </tr>\n",
       "            <tr>\n",
       "                        <th id=\"T_9fdca_level0_row15\" class=\"row_heading level0 row15\" >15</th>\n",
       "                        <td id=\"T_9fdca_row15_col0\" class=\"data row15 col0\" >PL</td>\n",
       "                        <td id=\"T_9fdca_row15_col1\" class=\"data row15 col1\" >R$ 935.43</td>\n",
       "            </tr>\n",
       "            <tr>\n",
       "                        <th id=\"T_9fdca_level0_row16\" class=\"row_heading level0 row16\" >16</th>\n",
       "                        <td id=\"T_9fdca_row16_col0\" class=\"data row16 col0\" >DEM</td>\n",
       "                        <td id=\"T_9fdca_row16_col1\" class=\"data row16 col1\" >R$ 918.02</td>\n",
       "            </tr>\n",
       "            <tr>\n",
       "                        <th id=\"T_9fdca_level0_row17\" class=\"row_heading level0 row17\" >17</th>\n",
       "                        <td id=\"T_9fdca_row17_col0\" class=\"data row17 col0\" >PDT</td>\n",
       "                        <td id=\"T_9fdca_row17_col1\" class=\"data row17 col1\" >R$ 911.19</td>\n",
       "            </tr>\n",
       "            <tr>\n",
       "                        <th id=\"T_9fdca_level0_row18\" class=\"row_heading level0 row18\" >18</th>\n",
       "                        <td id=\"T_9fdca_row18_col0\" class=\"data row18 col0\" >DEMOCRATAS</td>\n",
       "                        <td id=\"T_9fdca_row18_col1\" class=\"data row18 col1\" >R$ 894.71</td>\n",
       "            </tr>\n",
       "            <tr>\n",
       "                        <th id=\"T_9fdca_level0_row19\" class=\"row_heading level0 row19\" >19</th>\n",
       "                        <td id=\"T_9fdca_row19_col0\" class=\"data row19 col0\" >PTB</td>\n",
       "                        <td id=\"T_9fdca_row19_col1\" class=\"data row19 col1\" >R$ 871.67</td>\n",
       "            </tr>\n",
       "            <tr>\n",
       "                        <th id=\"T_9fdca_level0_row20\" class=\"row_heading level0 row20\" >20</th>\n",
       "                        <td id=\"T_9fdca_row20_col0\" class=\"data row20 col0\" >PSOL</td>\n",
       "                        <td id=\"T_9fdca_row20_col1\" class=\"data row20 col1\" >R$ 852.07</td>\n",
       "            </tr>\n",
       "            <tr>\n",
       "                        <th id=\"T_9fdca_level0_row21\" class=\"row_heading level0 row21\" >21</th>\n",
       "                        <td id=\"T_9fdca_row21_col0\" class=\"data row21 col0\" >PSDB</td>\n",
       "                        <td id=\"T_9fdca_row21_col1\" class=\"data row21 col1\" >R$ 847.88</td>\n",
       "            </tr>\n",
       "            <tr>\n",
       "                        <th id=\"T_9fdca_level0_row22\" class=\"row_heading level0 row22\" >22</th>\n",
       "                        <td id=\"T_9fdca_row22_col0\" class=\"data row22 col0\" >PSD</td>\n",
       "                        <td id=\"T_9fdca_row22_col1\" class=\"data row22 col1\" >R$ 843.55</td>\n",
       "            </tr>\n",
       "            <tr>\n",
       "                        <th id=\"T_9fdca_level0_row23\" class=\"row_heading level0 row23\" >23</th>\n",
       "                        <td id=\"T_9fdca_row23_col0\" class=\"data row23 col0\" >PATRIOTA</td>\n",
       "                        <td id=\"T_9fdca_row23_col1\" class=\"data row23 col1\" >R$ 840.10</td>\n",
       "            </tr>\n",
       "            <tr>\n",
       "                        <th id=\"T_9fdca_level0_row24\" class=\"row_heading level0 row24\" >24</th>\n",
       "                        <td id=\"T_9fdca_row24_col0\" class=\"data row24 col0\" >PODE</td>\n",
       "                        <td id=\"T_9fdca_row24_col1\" class=\"data row24 col1\" >R$ 828.54</td>\n",
       "            </tr>\n",
       "            <tr>\n",
       "                        <th id=\"T_9fdca_level0_row25\" class=\"row_heading level0 row25\" >25</th>\n",
       "                        <td id=\"T_9fdca_row25_col0\" class=\"data row25 col0\" >MDB</td>\n",
       "                        <td id=\"T_9fdca_row25_col1\" class=\"data row25 col1\" >R$ 818.61</td>\n",
       "            </tr>\n",
       "            <tr>\n",
       "                        <th id=\"T_9fdca_level0_row26\" class=\"row_heading level0 row26\" >26</th>\n",
       "                        <td id=\"T_9fdca_row26_col0\" class=\"data row26 col0\" >PODEMOS</td>\n",
       "                        <td id=\"T_9fdca_row26_col1\" class=\"data row26 col1\" >R$ 791.69</td>\n",
       "            </tr>\n",
       "            <tr>\n",
       "                        <th id=\"T_9fdca_level0_row27\" class=\"row_heading level0 row27\" >27</th>\n",
       "                        <td id=\"T_9fdca_row27_col0\" class=\"data row27 col0\" >PP</td>\n",
       "                        <td id=\"T_9fdca_row27_col1\" class=\"data row27 col1\" >R$ 781.41</td>\n",
       "            </tr>\n",
       "            <tr>\n",
       "                        <th id=\"T_9fdca_level0_row28\" class=\"row_heading level0 row28\" >28</th>\n",
       "                        <td id=\"T_9fdca_row28_col0\" class=\"data row28 col0\" >PT</td>\n",
       "                        <td id=\"T_9fdca_row28_col1\" class=\"data row28 col1\" >R$ 748.67</td>\n",
       "            </tr>\n",
       "            <tr>\n",
       "                        <th id=\"T_9fdca_level0_row29\" class=\"row_heading level0 row29\" >29</th>\n",
       "                        <td id=\"T_9fdca_row29_col0\" class=\"data row29 col0\" >AVANTE</td>\n",
       "                        <td id=\"T_9fdca_row29_col1\" class=\"data row29 col1\" >R$ 709.72</td>\n",
       "            </tr>\n",
       "            <tr>\n",
       "                        <th id=\"T_9fdca_level0_row30\" class=\"row_heading level0 row30\" >30</th>\n",
       "                        <td id=\"T_9fdca_row30_col0\" class=\"data row30 col0\" >PSB</td>\n",
       "                        <td id=\"T_9fdca_row30_col1\" class=\"data row30 col1\" >R$ 682.99</td>\n",
       "            </tr>\n",
       "            <tr>\n",
       "                        <th id=\"T_9fdca_level0_row31\" class=\"row_heading level0 row31\" >31</th>\n",
       "                        <td id=\"T_9fdca_row31_col0\" class=\"data row31 col0\" >PV</td>\n",
       "                        <td id=\"T_9fdca_row31_col1\" class=\"data row31 col1\" >R$ 671.55</td>\n",
       "            </tr>\n",
       "            <tr>\n",
       "                        <th id=\"T_9fdca_level0_row32\" class=\"row_heading level0 row32\" >32</th>\n",
       "                        <td id=\"T_9fdca_row32_col0\" class=\"data row32 col0\" >CIDADANIA</td>\n",
       "                        <td id=\"T_9fdca_row32_col1\" class=\"data row32 col1\" >R$ 584.07</td>\n",
       "            </tr>\n",
       "            <tr>\n",
       "                        <th id=\"T_9fdca_level0_row33\" class=\"row_heading level0 row33\" >33</th>\n",
       "                        <td id=\"T_9fdca_row33_col0\" class=\"data row33 col0\" >PSL</td>\n",
       "                        <td id=\"T_9fdca_row33_col1\" class=\"data row33 col1\" >R$ 578.02</td>\n",
       "            </tr>\n",
       "            <tr>\n",
       "                        <th id=\"T_9fdca_level0_row34\" class=\"row_heading level0 row34\" >34</th>\n",
       "                        <td id=\"T_9fdca_row34_col0\" class=\"data row34 col0\" >NOVO</td>\n",
       "                        <td id=\"T_9fdca_row34_col1\" class=\"data row34 col1\" >R$ 287.05</td>\n",
       "            </tr>\n",
       "    </tbody></table>"
      ],
      "text/plain": [
       "<pandas.io.formats.style.Styler at 0xc7a2156eb0>"
      ]
     },
     "execution_count": 54,
     "metadata": {},
     "output_type": "execute_result"
    }
   ],
   "source": [
    "gastos_partidos = df_copia[['sgPartido','vlrLiquido']].groupby(['sgPartido']).mean().sort_values('vlrLiquido', ascending = False)\n",
    "\n",
    "gastos_partidos = gastos_partidos.reset_index()\n",
    "\n",
    "gastos_partidos.style.format({'vlrLiquido':'R$ {:.2f}'}).background_gradient(cmap = 'Reds')"
   ]
  },
  {
   "cell_type": "code",
   "execution_count": 55,
   "metadata": {
    "colab": {
     "base_uri": "https://localhost:8080/",
     "height": 493
    },
    "id": "EePOrdLNOU0w",
    "outputId": "8c82dbdb-ddee-4fe6-ec34-7af9114cb7c7"
   },
   "outputs": [
    {
     "name": "stdout",
     "output_type": "stream",
     "text": [
      "\n"
     ]
    },
    {
     "data": {
      "image/png": "[encoded data removed]",
      "text/plain": [
       "<Figure size 1080x432 with 1 Axes>"
      ]
     },
     "metadata": {
      "needs_background": "light"
     },
     "output_type": "display_data"
    }
   ],
   "source": [
    "plt.figure(figsize=(15,6))\n",
    "x = gastos_partidos.sgPartido\n",
    "y = gastos_partidos['vlrLiquido']/1000000\n",
    "plt.xticks(gastos_partidos.index, rotation=90)\n",
    "plt.grid()\n",
    "plt.title('Despesa Total por Partido')\n",
    "plt.xlabel('Partidos')\n",
    "plt.ylabel('Valores em Milhões de Reais ')\n",
    "plt.bar(x,y)\n",
    "print()"
   ]
  },
  {
   "cell_type": "markdown",
   "metadata": {
    "id": "uuFjdyby-_8D"
   },
   "source": [
    "### 11. Quais são os partidos que mais e que menos consumiram a cota parlamentar?"
   ]
  },
  {
   "cell_type": "code",
   "execution_count": 56,
   "metadata": {
    "colab": {
     "base_uri": "https://localhost:8080/",
     "height": 1000
    },
    "id": "6jO5CP-N_D1b",
    "outputId": "3228d357-e62a-4b37-ad69-e0128bc1d086"
   },
   "outputs": [
    {
     "data": {
      "text/html": [
       "<style  type=\"text/css\" >\n",
       "#T_8f464_row0_col1{\n",
       "            background-color:  #67000d;\n",
       "            color:  #f1f1f1;\n",
       "        }#T_8f464_row1_col1{\n",
       "            background-color:  #d21f20;\n",
       "            color:  #f1f1f1;\n",
       "        }#T_8f464_row2_col1{\n",
       "            background-color:  #e12d26;\n",
       "            color:  #f1f1f1;\n",
       "        }#T_8f464_row3_col1{\n",
       "            background-color:  #ea362a;\n",
       "            color:  #f1f1f1;\n",
       "        }#T_8f464_row4_col1{\n",
       "            background-color:  #f34935;\n",
       "            color:  #000000;\n",
       "        }#T_8f464_row5_col1{\n",
       "            background-color:  #f34c37;\n",
       "            color:  #000000;\n",
       "        }#T_8f464_row6_col1{\n",
       "            background-color:  #f6563d;\n",
       "            color:  #000000;\n",
       "        }#T_8f464_row7_col1{\n",
       "            background-color:  #f7593f;\n",
       "            color:  #000000;\n",
       "        }#T_8f464_row8_col1{\n",
       "            background-color:  #fb6d4d;\n",
       "            color:  #000000;\n",
       "        }#T_8f464_row9_col1{\n",
       "            background-color:  #fb7656;\n",
       "            color:  #000000;\n",
       "        }#T_8f464_row10_col1{\n",
       "            background-color:  #fb7c5c;\n",
       "            color:  #000000;\n",
       "        }#T_8f464_row11_col1{\n",
       "            background-color:  #fcbea5;\n",
       "            color:  #000000;\n",
       "        }#T_8f464_row12_col1{\n",
       "            background-color:  #fdc7b2;\n",
       "            color:  #000000;\n",
       "        }#T_8f464_row13_col1{\n",
       "            background-color:  #fdd3c1;\n",
       "            color:  #000000;\n",
       "        }#T_8f464_row14_col1{\n",
       "            background-color:  #fdd5c4;\n",
       "            color:  #000000;\n",
       "        }#T_8f464_row15_col1{\n",
       "            background-color:  #fed9c9;\n",
       "            color:  #000000;\n",
       "        }#T_8f464_row16_col1{\n",
       "            background-color:  #fedbcc;\n",
       "            color:  #000000;\n",
       "        }#T_8f464_row17_col1{\n",
       "            background-color:  #fee0d2;\n",
       "            color:  #000000;\n",
       "        }#T_8f464_row18_col1{\n",
       "            background-color:  #fee1d3;\n",
       "            color:  #000000;\n",
       "        }#T_8f464_row19_col1{\n",
       "            background-color:  #fee4d8;\n",
       "            color:  #000000;\n",
       "        }#T_8f464_row20_col1{\n",
       "            background-color:  #fee6da;\n",
       "            color:  #000000;\n",
       "        }#T_8f464_row21_col1{\n",
       "            background-color:  #ffeee6;\n",
       "            color:  #000000;\n",
       "        }#T_8f464_row22_col1{\n",
       "            background-color:  #fff0e9;\n",
       "            color:  #000000;\n",
       "        }#T_8f464_row23_col1{\n",
       "            background-color:  #fff2eb;\n",
       "            color:  #000000;\n",
       "        }#T_8f464_row24_col1{\n",
       "            background-color:  #fff3ed;\n",
       "            color:  #000000;\n",
       "        }#T_8f464_row25_col1,#T_8f464_row26_col1{\n",
       "            background-color:  #fff4ee;\n",
       "            color:  #000000;\n",
       "        }#T_8f464_row27_col1,#T_8f464_row28_col1,#T_8f464_row29_col1,#T_8f464_row30_col1,#T_8f464_row31_col1,#T_8f464_row32_col1,#T_8f464_row33_col1,#T_8f464_row34_col1{\n",
       "            background-color:  #fff5f0;\n",
       "            color:  #000000;\n",
       "        }</style><table id=\"T_8f464_\" ><thead>    <tr>        <th class=\"blank level0\" ></th>        <th class=\"col_heading level0 col0\" >sgPartido</th>        <th class=\"col_heading level0 col1\" >vlrLiquido</th>    </tr></thead><tbody>\n",
       "                <tr>\n",
       "                        <th id=\"T_8f464_level0_row0\" class=\"row_heading level0 row0\" >0</th>\n",
       "                        <td id=\"T_8f464_row0_col0\" class=\"data row0 col0\" >PT</td>\n",
       "                        <td id=\"T_8f464_row0_col1\" class=\"data row0 col1\" >R$ 53547200.12</td>\n",
       "            </tr>\n",
       "            <tr>\n",
       "                        <th id=\"T_8f464_level0_row1\" class=\"row_heading level0 row1\" >1</th>\n",
       "                        <td id=\"T_8f464_row1_col0\" class=\"data row1 col0\" >PSL</td>\n",
       "                        <td id=\"T_8f464_row1_col1\" class=\"data row1 col1\" >R$ 38760321.58</td>\n",
       "            </tr>\n",
       "            <tr>\n",
       "                        <th id=\"T_8f464_level0_row2\" class=\"row_heading level0 row2\" >2</th>\n",
       "                        <td id=\"T_8f464_row2_col0\" class=\"data row2 col0\" >PL</td>\n",
       "                        <td id=\"T_8f464_row2_col1\" class=\"data row2 col1\" >R$ 36009565.01</td>\n",
       "            </tr>\n",
       "            <tr>\n",
       "                        <th id=\"T_8f464_level0_row3\" class=\"row_heading level0 row3\" >3</th>\n",
       "                        <td id=\"T_8f464_row3_col0\" class=\"data row3 col0\" >PP</td>\n",
       "                        <td id=\"T_8f464_row3_col1\" class=\"data row3 col1\" >R$ 34429101.14</td>\n",
       "            </tr>\n",
       "            <tr>\n",
       "                        <th id=\"T_8f464_level0_row4\" class=\"row_heading level0 row4\" >4</th>\n",
       "                        <td id=\"T_8f464_row4_col0\" class=\"data row4 col0\" >MDB</td>\n",
       "                        <td id=\"T_8f464_row4_col1\" class=\"data row4 col1\" >R$ 31505872.66</td>\n",
       "            </tr>\n",
       "            <tr>\n",
       "                        <th id=\"T_8f464_level0_row5\" class=\"row_heading level0 row5\" >5</th>\n",
       "                        <td id=\"T_8f464_row5_col0\" class=\"data row5 col0\" >PSD</td>\n",
       "                        <td id=\"T_8f464_row5_col1\" class=\"data row5 col1\" >R$ 30980983.76</td>\n",
       "            </tr>\n",
       "            <tr>\n",
       "                        <th id=\"T_8f464_level0_row6\" class=\"row_heading level0 row6\" >6</th>\n",
       "                        <td id=\"T_8f464_row6_col0\" class=\"data row6 col0\" >REPUBLICANOS</td>\n",
       "                        <td id=\"T_8f464_row6_col1\" class=\"data row6 col1\" >R$ 29649278.16</td>\n",
       "            </tr>\n",
       "            <tr>\n",
       "                        <th id=\"T_8f464_level0_row7\" class=\"row_heading level0 row7\" >7</th>\n",
       "                        <td id=\"T_8f464_row7_col0\" class=\"data row7 col0\" >PSDB</td>\n",
       "                        <td id=\"T_8f464_row7_col1\" class=\"data row7 col1\" >R$ 29284952.26</td>\n",
       "            </tr>\n",
       "            <tr>\n",
       "                        <th id=\"T_8f464_level0_row8\" class=\"row_heading level0 row8\" >8</th>\n",
       "                        <td id=\"T_8f464_row8_col0\" class=\"data row8 col0\" >PDT</td>\n",
       "                        <td id=\"T_8f464_row8_col1\" class=\"data row8 col1\" >R$ 26189478.80</td>\n",
       "            </tr>\n",
       "            <tr>\n",
       "                        <th id=\"T_8f464_level0_row9\" class=\"row_heading level0 row9\" >9</th>\n",
       "                        <td id=\"T_8f464_row9_col0\" class=\"data row9 col0\" >DEM</td>\n",
       "                        <td id=\"T_8f464_row9_col1\" class=\"data row9 col1\" >R$ 24800421.63</td>\n",
       "            </tr>\n",
       "            <tr>\n",
       "                        <th id=\"T_8f464_level0_row10\" class=\"row_heading level0 row10\" >10</th>\n",
       "                        <td id=\"T_8f464_row10_col0\" class=\"data row10 col0\" >PSB</td>\n",
       "                        <td id=\"T_8f464_row10_col1\" class=\"data row10 col1\" >R$ 23840979.53</td>\n",
       "            </tr>\n",
       "            <tr>\n",
       "                        <th id=\"T_8f464_level0_row11\" class=\"row_heading level0 row11\" >11</th>\n",
       "                        <td id=\"T_8f464_row11_col0\" class=\"data row11 col0\" >SOLIDARIEDADE</td>\n",
       "                        <td id=\"T_8f464_row11_col1\" class=\"data row11 col1\" >R$ 12795796.84</td>\n",
       "            </tr>\n",
       "            <tr>\n",
       "                        <th id=\"T_8f464_level0_row12\" class=\"row_heading level0 row12\" >12</th>\n",
       "                        <td id=\"T_8f464_row12_col0\" class=\"data row12 col0\" >PTB</td>\n",
       "                        <td id=\"T_8f464_row12_col1\" class=\"data row12 col1\" >R$ 11234061.09</td>\n",
       "            </tr>\n",
       "            <tr>\n",
       "                        <th id=\"T_8f464_level0_row13\" class=\"row_heading level0 row13\" >13</th>\n",
       "                        <td id=\"T_8f464_row13_col0\" class=\"data row13 col0\" >PROS</td>\n",
       "                        <td id=\"T_8f464_row13_col1\" class=\"data row13 col1\" >R$ 9237066.10</td>\n",
       "            </tr>\n",
       "            <tr>\n",
       "                        <th id=\"T_8f464_level0_row14\" class=\"row_heading level0 row14\" >14</th>\n",
       "                        <td id=\"T_8f464_row14_col0\" class=\"data row14 col0\" >PODE</td>\n",
       "                        <td id=\"T_8f464_row14_col1\" class=\"data row14 col1\" >R$ 8760995.95</td>\n",
       "            </tr>\n",
       "            <tr>\n",
       "                        <th id=\"T_8f464_level0_row15\" class=\"row_heading level0 row15\" >15</th>\n",
       "                        <td id=\"T_8f464_row15_col0\" class=\"data row15 col0\" >PCdoB</td>\n",
       "                        <td id=\"T_8f464_row15_col1\" class=\"data row15 col1\" >R$ 8024907.11</td>\n",
       "            </tr>\n",
       "            <tr>\n",
       "                        <th id=\"T_8f464_level0_row16\" class=\"row_heading level0 row16\" >16</th>\n",
       "                        <td id=\"T_8f464_row16_col0\" class=\"data row16 col0\" >PSC</td>\n",
       "                        <td id=\"T_8f464_row16_col1\" class=\"data row16 col1\" >R$ 7636683.06</td>\n",
       "            </tr>\n",
       "            <tr>\n",
       "                        <th id=\"T_8f464_level0_row17\" class=\"row_heading level0 row17\" >17</th>\n",
       "                        <td id=\"T_8f464_row17_col0\" class=\"data row17 col0\" >PSOL</td>\n",
       "                        <td id=\"T_8f464_row17_col1\" class=\"data row17 col1\" >R$ 6912851.31</td>\n",
       "            </tr>\n",
       "            <tr>\n",
       "                        <th id=\"T_8f464_level0_row18\" class=\"row_heading level0 row18\" >18</th>\n",
       "                        <td id=\"T_8f464_row18_col0\" class=\"data row18 col0\" >AVANTE</td>\n",
       "                        <td id=\"T_8f464_row18_col1\" class=\"data row18 col1\" >R$ 6604638.64</td>\n",
       "            </tr>\n",
       "            <tr>\n",
       "                        <th id=\"T_8f464_level0_row19\" class=\"row_heading level0 row19\" >19</th>\n",
       "                        <td id=\"T_8f464_row19_col0\" class=\"data row19 col0\" >CIDADANIA</td>\n",
       "                        <td id=\"T_8f464_row19_col1\" class=\"data row19 col1\" >R$ 5495531.74</td>\n",
       "            </tr>\n",
       "            <tr>\n",
       "                        <th id=\"T_8f464_level0_row20\" class=\"row_heading level0 row20\" >20</th>\n",
       "                        <td id=\"T_8f464_row20_col0\" class=\"data row20 col0\" >PATRIOTA</td>\n",
       "                        <td id=\"T_8f464_row20_col1\" class=\"data row20 col1\" >R$ 4999415.72</td>\n",
       "            </tr>\n",
       "            <tr>\n",
       "                        <th id=\"T_8f464_level0_row21\" class=\"row_heading level0 row21\" >21</th>\n",
       "                        <td id=\"T_8f464_row21_col0\" class=\"data row21 col0\" >PV</td>\n",
       "                        <td id=\"T_8f464_row21_col1\" class=\"data row21 col1\" >R$ 2525711.92</td>\n",
       "            </tr>\n",
       "            <tr>\n",
       "                        <th id=\"T_8f464_level0_row22\" class=\"row_heading level0 row22\" >22</th>\n",
       "                        <td id=\"T_8f464_row22_col0\" class=\"data row22 col0\" >NOVO</td>\n",
       "                        <td id=\"T_8f464_row22_col1\" class=\"data row22 col1\" >R$ 1700180.19</td>\n",
       "            </tr>\n",
       "            <tr>\n",
       "                        <th id=\"T_8f464_level0_row23\" class=\"row_heading level0 row23\" >23</th>\n",
       "                        <td id=\"T_8f464_row23_col0\" class=\"data row23 col0\" >PR</td>\n",
       "                        <td id=\"T_8f464_row23_col1\" class=\"data row23 col1\" >R$ 1218771.70</td>\n",
       "            </tr>\n",
       "            <tr>\n",
       "                        <th id=\"T_8f464_level0_row24\" class=\"row_heading level0 row24\" >24</th>\n",
       "                        <td id=\"T_8f464_row24_col0\" class=\"data row24 col0\" >REDE</td>\n",
       "                        <td id=\"T_8f464_row24_col1\" class=\"data row24 col1\" >R$ 815376.91</td>\n",
       "            </tr>\n",
       "            <tr>\n",
       "                        <th id=\"T_8f464_level0_row25\" class=\"row_heading level0 row25\" >25</th>\n",
       "                        <td id=\"T_8f464_row25_col0\" class=\"data row25 col0\" >PRB</td>\n",
       "                        <td id=\"T_8f464_row25_col1\" class=\"data row25 col1\" >R$ 621097.18</td>\n",
       "            </tr>\n",
       "            <tr>\n",
       "                        <th id=\"T_8f464_level0_row26\" class=\"row_heading level0 row26\" >26</th>\n",
       "                        <td id=\"T_8f464_row26_col0\" class=\"data row26 col0\" >S.PART.</td>\n",
       "                        <td id=\"T_8f464_row26_col1\" class=\"data row26 col1\" >R$ 608624.30</td>\n",
       "            </tr>\n",
       "            <tr>\n",
       "                        <th id=\"T_8f464_level0_row27\" class=\"row_heading level0 row27\" >27</th>\n",
       "                        <td id=\"T_8f464_row27_col0\" class=\"data row27 col0\" >PPS</td>\n",
       "                        <td id=\"T_8f464_row27_col1\" class=\"data row27 col1\" >R$ 218419.43</td>\n",
       "            </tr>\n",
       "            <tr>\n",
       "                        <th id=\"T_8f464_level0_row28\" class=\"row_heading level0 row28\" >28</th>\n",
       "                        <td id=\"T_8f464_row28_col0\" class=\"data row28 col0\" >PHS</td>\n",
       "                        <td id=\"T_8f464_row28_col1\" class=\"data row28 col1\" >R$ 180055.49</td>\n",
       "            </tr>\n",
       "            <tr>\n",
       "                        <th id=\"T_8f464_level0_row29\" class=\"row_heading level0 row29\" >29</th>\n",
       "                        <td id=\"T_8f464_row29_col0\" class=\"data row29 col0\" >PATRI</td>\n",
       "                        <td id=\"T_8f464_row29_col1\" class=\"data row29 col1\" >R$ 161737.83</td>\n",
       "            </tr>\n",
       "            <tr>\n",
       "                        <th id=\"T_8f464_level0_row30\" class=\"row_heading level0 row30\" >30</th>\n",
       "                        <td id=\"T_8f464_row30_col0\" class=\"data row30 col0\" >SOCIAL</td>\n",
       "                        <td id=\"T_8f464_row30_col1\" class=\"data row30 col1\" >R$ 125704.52</td>\n",
       "            </tr>\n",
       "            <tr>\n",
       "                        <th id=\"T_8f464_level0_row31\" class=\"row_heading level0 row31\" >31</th>\n",
       "                        <td id=\"T_8f464_row31_col0\" class=\"data row31 col0\" >PODEMOS</td>\n",
       "                        <td id=\"T_8f464_row31_col1\" class=\"data row31 col1\" >R$ 110837.08</td>\n",
       "            </tr>\n",
       "            <tr>\n",
       "                        <th id=\"T_8f464_level0_row32\" class=\"row_heading level0 row32\" >32</th>\n",
       "                        <td id=\"T_8f464_row32_col0\" class=\"data row32 col0\" >DEMOCRATAS</td>\n",
       "                        <td id=\"T_8f464_row32_col1\" class=\"data row32 col1\" >R$ 67103.60</td>\n",
       "            </tr>\n",
       "            <tr>\n",
       "                        <th id=\"T_8f464_level0_row33\" class=\"row_heading level0 row33\" >33</th>\n",
       "                        <td id=\"T_8f464_row33_col0\" class=\"data row33 col0\" >PROGRESSISTAS</td>\n",
       "                        <td id=\"T_8f464_row33_col1\" class=\"data row33 col1\" >R$ 64875.00</td>\n",
       "            </tr>\n",
       "            <tr>\n",
       "                        <th id=\"T_8f464_level0_row34\" class=\"row_heading level0 row34\" >34</th>\n",
       "                        <td id=\"T_8f464_row34_col0\" class=\"data row34 col0\" >PPL</td>\n",
       "                        <td id=\"T_8f464_row34_col1\" class=\"data row34 col1\" >R$ 44925.75</td>\n",
       "            </tr>\n",
       "    </tbody></table>"
      ],
      "text/plain": [
       "<pandas.io.formats.style.Styler at 0xc7aad430d0>"
      ]
     },
     "execution_count": 56,
     "metadata": {},
     "output_type": "execute_result"
    }
   ],
   "source": [
    "gastos_partidos2 = df_copia[['sgPartido','vlrLiquido']].groupby(['sgPartido']).sum().sort_values('vlrLiquido', ascending = False)\n",
    "\n",
    "gastos_partidos2 = gastos_partidos2.reset_index()\n",
    "\n",
    "gastos_partidos2.style.format({'vlrLiquido':'R$ {:.2f}'}).background_gradient(cmap = 'Reds')"
   ]
  },
  {
   "cell_type": "code",
   "execution_count": 57,
   "metadata": {
    "colab": {
     "base_uri": "https://localhost:8080/",
     "height": 493
    },
    "id": "jgwsjyE-_G3K",
    "outputId": "fff4f1e0-f2b5-407c-96c4-3a026375148f"
   },
   "outputs": [
    {
     "name": "stdout",
     "output_type": "stream",
     "text": [
      "\n"
     ]
    },
    {
     "data": {
      "image/png": "[encoded data removed]",
      "text/plain": [
       "<Figure size 1080x432 with 1 Axes>"
      ]
     },
     "metadata": {
      "needs_background": "light"
     },
     "output_type": "display_data"
    }
   ],
   "source": [
    "plt.figure(figsize=(15,6))\n",
    "x = gastos_partidos2.sgPartido\n",
    "y = gastos_partidos2['vlrLiquido']/1000000\n",
    "plt.xticks(gastos_partidos2.index, rotation=90)\n",
    "plt.grid()\n",
    "plt.title('Despesa Total por Partido')\n",
    "plt.xlabel('Partidos')\n",
    "plt.ylabel('Valores em Milhões de Reais ')\n",
    "plt.bar(x,y)\n",
    "print()"
   ]
  },
  {
   "cell_type": "code",
   "execution_count": 58,
   "metadata": {
    "colab": {
     "base_uri": "https://localhost:8080/",
     "height": 363
    },
    "id": "XaycfFUs_Nyd",
    "outputId": "4eac68f6-3c98-45bf-93b1-69dcfb402b31"
   },
   "outputs": [
    {
     "data": {
      "text/html": [
       "<style  type=\"text/css\" >\n",
       "#T_de407_row0_col1{\n",
       "            background-color:  #fff5f0;\n",
       "            color:  #000000;\n",
       "        }#T_de407_row1_col1{\n",
       "            background-color:  #fff0e8;\n",
       "            color:  #000000;\n",
       "        }#T_de407_row2_col1{\n",
       "            background-color:  #ffefe8;\n",
       "            color:  #000000;\n",
       "        }#T_de407_row3_col1{\n",
       "            background-color:  #fee2d5;\n",
       "            color:  #000000;\n",
       "        }#T_de407_row4_col1{\n",
       "            background-color:  #fedccd;\n",
       "            color:  #000000;\n",
       "        }#T_de407_row5_col1{\n",
       "            background-color:  #fdcab5;\n",
       "            color:  #000000;\n",
       "        }#T_de407_row6_col1{\n",
       "            background-color:  #fcbfa7;\n",
       "            color:  #000000;\n",
       "        }#T_de407_row7_col1{\n",
       "            background-color:  #fcaa8d;\n",
       "            color:  #000000;\n",
       "        }#T_de407_row8_col1{\n",
       "            background-color:  #71020e;\n",
       "            color:  #f1f1f1;\n",
       "        }#T_de407_row9_col1{\n",
       "            background-color:  #67000d;\n",
       "            color:  #f1f1f1;\n",
       "        }</style><table id=\"T_de407_\" ><thead>    <tr>        <th class=\"blank level0\" ></th>        <th class=\"col_heading level0 col0\" >sgPartido</th>        <th class=\"col_heading level0 col1\" >vlrLiquido</th>    </tr></thead><tbody>\n",
       "                <tr>\n",
       "                        <th id=\"T_de407_level0_row0\" class=\"row_heading level0 row0\" >0</th>\n",
       "                        <td id=\"T_de407_row0_col0\" class=\"data row0 col0\" >PPL</td>\n",
       "                        <td id=\"T_de407_row0_col1\" class=\"data row0 col1\" >R$ 44925.75</td>\n",
       "            </tr>\n",
       "            <tr>\n",
       "                        <th id=\"T_de407_level0_row1\" class=\"row_heading level0 row1\" >1</th>\n",
       "                        <td id=\"T_de407_row1_col0\" class=\"data row1 col0\" >PROGRESSISTAS</td>\n",
       "                        <td id=\"T_de407_row1_col1\" class=\"data row1 col1\" >R$ 64875.00</td>\n",
       "            </tr>\n",
       "            <tr>\n",
       "                        <th id=\"T_de407_level0_row2\" class=\"row_heading level0 row2\" >2</th>\n",
       "                        <td id=\"T_de407_row2_col0\" class=\"data row2 col0\" >DEMOCRATAS</td>\n",
       "                        <td id=\"T_de407_row2_col1\" class=\"data row2 col1\" >R$ 67103.60</td>\n",
       "            </tr>\n",
       "            <tr>\n",
       "                        <th id=\"T_de407_level0_row3\" class=\"row_heading level0 row3\" >3</th>\n",
       "                        <td id=\"T_de407_row3_col0\" class=\"data row3 col0\" >PODEMOS</td>\n",
       "                        <td id=\"T_de407_row3_col1\" class=\"data row3 col1\" >R$ 110837.08</td>\n",
       "            </tr>\n",
       "            <tr>\n",
       "                        <th id=\"T_de407_level0_row4\" class=\"row_heading level0 row4\" >4</th>\n",
       "                        <td id=\"T_de407_row4_col0\" class=\"data row4 col0\" >SOCIAL</td>\n",
       "                        <td id=\"T_de407_row4_col1\" class=\"data row4 col1\" >R$ 125704.52</td>\n",
       "            </tr>\n",
       "            <tr>\n",
       "                        <th id=\"T_de407_level0_row5\" class=\"row_heading level0 row5\" >5</th>\n",
       "                        <td id=\"T_de407_row5_col0\" class=\"data row5 col0\" >PATRI</td>\n",
       "                        <td id=\"T_de407_row5_col1\" class=\"data row5 col1\" >R$ 161737.83</td>\n",
       "            </tr>\n",
       "            <tr>\n",
       "                        <th id=\"T_de407_level0_row6\" class=\"row_heading level0 row6\" >6</th>\n",
       "                        <td id=\"T_de407_row6_col0\" class=\"data row6 col0\" >PHS</td>\n",
       "                        <td id=\"T_de407_row6_col1\" class=\"data row6 col1\" >R$ 180055.49</td>\n",
       "            </tr>\n",
       "            <tr>\n",
       "                        <th id=\"T_de407_level0_row7\" class=\"row_heading level0 row7\" >7</th>\n",
       "                        <td id=\"T_de407_row7_col0\" class=\"data row7 col0\" >PPS</td>\n",
       "                        <td id=\"T_de407_row7_col1\" class=\"data row7 col1\" >R$ 218419.43</td>\n",
       "            </tr>\n",
       "            <tr>\n",
       "                        <th id=\"T_de407_level0_row8\" class=\"row_heading level0 row8\" >8</th>\n",
       "                        <td id=\"T_de407_row8_col0\" class=\"data row8 col0\" >S.PART.</td>\n",
       "                        <td id=\"T_de407_row8_col1\" class=\"data row8 col1\" >R$ 608624.30</td>\n",
       "            </tr>\n",
       "            <tr>\n",
       "                        <th id=\"T_de407_level0_row9\" class=\"row_heading level0 row9\" >9</th>\n",
       "                        <td id=\"T_de407_row9_col0\" class=\"data row9 col0\" >PRB</td>\n",
       "                        <td id=\"T_de407_row9_col1\" class=\"data row9 col1\" >R$ 621097.18</td>\n",
       "            </tr>\n",
       "    </tbody></table>"
      ],
      "text/plain": [
       "<pandas.io.formats.style.Styler at 0xc7a1a5f400>"
      ]
     },
     "execution_count": 58,
     "metadata": {},
     "output_type": "execute_result"
    }
   ],
   "source": [
    "gastos_partidos2 = df_copia[['sgPartido','vlrLiquido']].groupby(['sgPartido']).sum().sort_values('vlrLiquido', ascending = True)\n",
    "\n",
    "gastos_partidos2 = gastos_partidos2.reset_index().head(10)\n",
    "\n",
    "gastos_partidos2.style.format({'vlrLiquido':'R$ {:.2f}'}).background_gradient(cmap = 'Reds')"
   ]
  },
  {
   "cell_type": "code",
   "execution_count": 59,
   "metadata": {
    "colab": {
     "base_uri": "https://localhost:8080/",
     "height": 421
    },
    "id": "l5jhz9B9_RRq",
    "outputId": "291c16fa-1070-4eb6-b1c3-eafcd51a33ba"
   },
   "outputs": [
    {
     "name": "stdout",
     "output_type": "stream",
     "text": [
      "\n"
     ]
    },
    {
     "data": {
      "image/png": "[encoded data removed]",
      "text/plain": [
       "<Figure size 1080x432 with 1 Axes>"
      ]
     },
     "metadata": {
      "needs_background": "light"
     },
     "output_type": "display_data"
    }
   ],
   "source": [
    "plt.figure(figsize=(15,6))\n",
    "x = gastos_partidos2.sgPartido\n",
    "y = gastos_partidos2['vlrLiquido']/1000000\n",
    "plt.grid()\n",
    "plt.title('Despesa Total por Partido')\n",
    "plt.xlabel('Partidos')\n",
    "plt.ylabel('Valores em Milhões de Reais ')\n",
    "plt.bar(x,y)\n",
    "print()"
   ]
  },
  {
   "cell_type": "markdown",
   "metadata": {
    "id": "ncKCMbRx_ZNV"
   },
   "source": [
    "### 12. Há alguma correlação entre a quantidade de parlamentares por partido e o valor total dos gastos?"
   ]
  },
  {
   "cell_type": "code",
   "execution_count": 60,
   "metadata": {
    "id": "4AKHOYSW_asl"
   },
   "outputs": [],
   "source": [
    "gastos_uftotal = df_copia[['sgPartido' , 'vlrLiquido']].groupby('sgPartido').sum().sort_values('vlrLiquido', ascending = False).round(2)\n",
    "\n",
    "gastos_uftotal.rename(columns = {'vlrLiquido':'Valor_Total'}, inplace = True)\n",
    "\n",
    "gastos_uftotal = gastos_uftotal.reset_index()\n",
    "\n",
    "parlamentares_uf = df_copia[['txNomeParlamentar', 'sgPartido']].drop_duplicates()\n",
    "\n",
    "parlamentares_uf = parlamentares_uf.groupby('sgPartido').count().sort_values('txNomeParlamentar', ascending = False)\n",
    "\n",
    "parlamentares_uf.rename(columns = {'txNomeParlamentar':'Quantidade De Representantes'}, inplace = True)\n",
    "\n",
    "parlamentares_uf = parlamentares_uf.reset_index()\n",
    "\n",
    "maximo = parlamentares_uf['Quantidade De Representantes'].max()"
   ]
  },
  {
   "cell_type": "code",
   "execution_count": 61,
   "metadata": {
    "colab": {
     "base_uri": "https://localhost:8080/",
     "height": 1000
    },
    "id": "83tKW6n1_lQC",
    "outputId": "cd84df28-5133-4445-f3bc-4a85cecb0079"
   },
   "outputs": [
    {
     "data": {
      "image/png": "[encoded data removed]",
      "text/plain": [
       "<Figure size 1440x504 with 1 Axes>"
      ]
     },
     "metadata": {
      "needs_background": "light"
     },
     "output_type": "display_data"
    },
    {
     "data": {
      "image/png": "[encoded data removed]",
      "text/plain": [
       "<Figure size 1440x504 with 1 Axes>"
      ]
     },
     "metadata": {
      "needs_background": "light"
     },
     "output_type": "display_data"
    }
   ],
   "source": [
    "y = np.array(gastos_uftotal['Valor_Total']/1000000)\n",
    "x = np.array(gastos_uftotal.sgPartido)\n",
    "plt.figure(figsize=(20,7))\n",
    "plt.subplot(1,2,1)\n",
    "plt.xticks(gastos_uftotal.index, rotation = 90)\n",
    "plt.grid(axis= 'y')\n",
    "plt.bar(x,y)\n",
    "plt.title('Despesas em Milhões de Reais por Partido')\n",
    "\n",
    "x = np.array(parlamentares_uf.sgPartido)\n",
    "y = np.array(parlamentares_uf['Quantidade De Representantes'])\n",
    "plt.figure(figsize=(20,7))\n",
    "plt.subplot(1,2,2)\n",
    "plt.xticks(parlamentares_uf.index, rotation = 90)\n",
    "plt.bar(x,y)\n",
    "plt.grid(axis= 'x')\n",
    "plt.title('Número de Deputado por Partido')\n",
    "plt.show()"
   ]
  },
  {
   "cell_type": "markdown",
   "metadata": {
    "id": "qgkdys5YOU0y"
   },
   "source": [
    "## Extra - 1 . Qual foi o CNPJ que recebeu mais pagamentos de parlamentares ?"
   ]
  },
  {
   "cell_type": "code",
   "execution_count": 62,
   "metadata": {
    "colab": {
     "base_uri": "https://localhost:8080/"
    },
    "id": "UnIzgK7xOU0z",
    "outputId": "26500aff-7a5b-4036-8b9f-70dfc8bd9395"
   },
   "outputs": [
    {
     "data": {
      "text/plain": [
       "txtFornecedor\n",
       "Cia Aérea - TAM                                          3.275289e+07\n",
       "Cia Aérea - GOL                                          2.925610e+07\n",
       "TAM                                                      1.042712e+07\n",
       "GOL                                                      8.986463e+06\n",
       "Cia Aérea - AZUL                                         8.724624e+06\n",
       "PANTANAL VEÍCULOS LTDA                                   5.987345e+06\n",
       "CELULAR FUNCIONAL                                        2.618129e+06\n",
       "GOLD CAR BRASILIA LOCADORA DE VEICULOS ME                2.539853e+06\n",
       "DMD Gestão Administrativa LTDA - ME                      2.210000e+06\n",
       "VERTICE - SOCIEDADE CIVIL DE PROFISSIONAIS ASSOCIADOS    1.855697e+06\n",
       "Name: vlrDocumento, dtype: float64"
      ]
     },
     "execution_count": 62,
     "metadata": {},
     "output_type": "execute_result"
    }
   ],
   "source": [
    "#Agrupando por CNPJ/CPF e somando os valores dos documentos e ordenando do maior para o menor e capturando o top five\n",
    "df_extra1 = df_2.groupby(['txtFornecedor'])['vlrDocumento'].sum().sort_values(ascending = False).head(10)\n",
    "df_extra1"
   ]
  },
  {
   "cell_type": "code",
   "execution_count": 63,
   "metadata": {
    "colab": {
     "base_uri": "https://localhost:8080/",
     "height": 404
    },
    "id": "8xn01RYbOU0z",
    "outputId": "45752d69-5a3a-41e6-ea29-1819d4bdee4b"
   },
   "outputs": [
    {
     "data": {
      "image/png": "[encoded data removed]",
      "text/plain": [
       "<Figure size 792x432 with 1 Axes>"
      ]
     },
     "metadata": {
      "needs_background": "light"
     },
     "output_type": "display_data"
    }
   ],
   "source": [
    "df_extra1.plot(kind='barh',figsize=(11,6),grid=False,rot=0,color='green')\n",
    "plt.title('Qual CNPJ recebeu mais pagamentos de parlamentares ?')\n",
    "plt.xlabel('Quantidade recebida em milhões')\n",
    "plt.ylabel('Nome Fantasia')\n",
    "plt.show()"
   ]
  },
  {
   "cell_type": "markdown",
   "metadata": {
    "id": "0TpMPqLoOU0z"
   },
   "source": [
    "## Extra - 2. Em qual mês foram emitidos mais notas fiscais no ano de 2020 ?"
   ]
  },
  {
   "cell_type": "code",
   "execution_count": 64,
   "metadata": {
    "colab": {
     "base_uri": "https://localhost:8080/"
    },
    "id": "5bw5LUbQOU0z",
    "outputId": "18ddaf6e-d82a-4f66-ff3f-320a77a2db4c"
   },
   "outputs": [
    {
     "data": {
      "text/plain": [
       "numMes\n",
       "2     20920\n",
       "3     16859\n",
       "12    15019\n",
       "1     14463\n",
       "10    13439\n",
       "11    12986\n",
       "9     12408\n",
       "8     12090\n",
       "7     11358\n",
       "6      9589\n",
       "5      8241\n",
       "4      7615\n",
       "Name: datEmissao, dtype: int64"
      ]
     },
     "execution_count": 64,
     "metadata": {},
     "output_type": "execute_result"
    }
   ],
   "source": [
    "#Agrupando por mês e contando a quantidade de notas emitidas ordenando do maior para o menor e capturando apenas o 1 elemento\n",
    "df2020 = df2020.groupby(['numMes'])['datEmissao'].count().sort_values(ascending = False)\n",
    "df2020"
   ]
  },
  {
   "cell_type": "code",
   "execution_count": 65,
   "metadata": {
    "colab": {
     "base_uri": "https://localhost:8080/",
     "height": 404
    },
    "id": "v-ihHne6OU00",
    "outputId": "48af087d-8610-424a-a817-ed39d412292b"
   },
   "outputs": [
    {
     "data": {
      "image/png": "[encoded data removed]",
      "text/plain": [
       "<Figure size 792x432 with 1 Axes>"
      ]
     },
     "metadata": {
      "needs_background": "light"
     },
     "output_type": "display_data"
    }
   ],
   "source": [
    "df2020.plot(kind='barh',figsize=(11,6),grid=False,rot=0,color='green')\n",
    "plt.title('Qual mês teve a maior taxa de emissão de pagamentos ?')\n",
    "plt.xlabel('Quantidade de Notas Fiscais recebidas para reembolso')\n",
    "plt.ylabel('Número do Mês')\n",
    "plt.show()"
   ]
  },
  {
   "cell_type": "markdown",
   "metadata": {},
   "source": [
    "# MÓDULO 6 - TOCANTINS"
   ]
  },
  {
   "cell_type": "code",
   "execution_count": 66,
   "metadata": {},
   "outputs": [
    {
     "data": {
      "text/plain": [
       "Index(['txNomeParlamentar', 'cpf', 'ideCadastro', 'nuCarteiraParlamentar',\n",
       "       'nuLegislatura', 'sgUF', 'sgPartido', 'codLegislatura', 'numSubCota',\n",
       "       'txtDescricao', 'numEspecificacaoSubCota', 'txtDescricaoEspecificacao',\n",
       "       'txtFornecedor', 'txtCNPJCPF', 'txtNumero', 'indTipoDocumento',\n",
       "       'datEmissao', 'vlrDocumento', 'vlrGlosa', 'vlrLiquido', 'numMes',\n",
       "       'numAno', 'numParcela', 'txtPassageiro', 'txtTrecho', 'numLote',\n",
       "       'numRessarcimento', 'vlrRestituicao', 'nuDeputadoId', 'ideDocumento',\n",
       "       'urlDocumento'],\n",
       "      dtype='object')"
      ]
     },
     "execution_count": 66,
     "metadata": {},
     "output_type": "execute_result"
    }
   ],
   "source": [
    "#Mostrar as colunas para explorarmos o df\n",
    "df_copia.columns"
   ]
  },
  {
   "cell_type": "code",
   "execution_count": 67,
   "metadata": {},
   "outputs": [],
   "source": [
    "#Novo dataframe com o filtro só para deputados do estado de Tocantins\n",
    "df_TO = df_copia[df_copia['sgUF'] == 'TO']"
   ]
  },
  {
   "cell_type": "code",
   "execution_count": 68,
   "metadata": {},
   "outputs": [
    {
     "data": {
      "text/html": [
       "<div>\n",
       "<style scoped>\n",
       "    .dataframe tbody tr th:only-of-type {\n",
       "        vertical-align: middle;\n",
       "    }\n",
       "\n",
       "    .dataframe tbody tr th {\n",
       "        vertical-align: top;\n",
       "    }\n",
       "\n",
       "    .dataframe thead th {\n",
       "        text-align: right;\n",
       "    }\n",
       "</style>\n",
       "<table border=\"1\" class=\"dataframe\">\n",
       "  <thead>\n",
       "    <tr style=\"text-align: right;\">\n",
       "      <th></th>\n",
       "      <th>txNomeParlamentar</th>\n",
       "      <th>cpf</th>\n",
       "      <th>ideCadastro</th>\n",
       "      <th>nuCarteiraParlamentar</th>\n",
       "      <th>nuLegislatura</th>\n",
       "      <th>sgUF</th>\n",
       "      <th>sgPartido</th>\n",
       "      <th>codLegislatura</th>\n",
       "      <th>numSubCota</th>\n",
       "      <th>txtDescricao</th>\n",
       "      <th>...</th>\n",
       "      <th>numAno</th>\n",
       "      <th>numParcela</th>\n",
       "      <th>txtPassageiro</th>\n",
       "      <th>txtTrecho</th>\n",
       "      <th>numLote</th>\n",
       "      <th>numRessarcimento</th>\n",
       "      <th>vlrRestituicao</th>\n",
       "      <th>nuDeputadoId</th>\n",
       "      <th>ideDocumento</th>\n",
       "      <th>urlDocumento</th>\n",
       "    </tr>\n",
       "  </thead>\n",
       "  <tbody>\n",
       "    <tr>\n",
       "      <th>22968</th>\n",
       "      <td>FREIRE JÚNIOR</td>\n",
       "      <td>7.402202e+10</td>\n",
       "      <td>74189.0</td>\n",
       "      <td>615.0</td>\n",
       "      <td>2015</td>\n",
       "      <td>TO</td>\n",
       "      <td>MDB</td>\n",
       "      <td>55</td>\n",
       "      <td>3</td>\n",
       "      <td>COMBUSTÍVEIS E LUBRIFICANTES.</td>\n",
       "      <td>...</td>\n",
       "      <td>2019</td>\n",
       "      <td>0</td>\n",
       "      <td>NaN</td>\n",
       "      <td>NaN</td>\n",
       "      <td>1552679</td>\n",
       "      <td>NaN</td>\n",
       "      <td>NaN</td>\n",
       "      <td>496</td>\n",
       "      <td>6733941</td>\n",
       "      <td>http://camara.leg.br/cota-parlamentar/nota-fis...</td>\n",
       "    </tr>\n",
       "    <tr>\n",
       "      <th>22969</th>\n",
       "      <td>FREIRE JÚNIOR</td>\n",
       "      <td>7.402202e+10</td>\n",
       "      <td>74189.0</td>\n",
       "      <td>615.0</td>\n",
       "      <td>2015</td>\n",
       "      <td>TO</td>\n",
       "      <td>MDB</td>\n",
       "      <td>55</td>\n",
       "      <td>3</td>\n",
       "      <td>COMBUSTÍVEIS E LUBRIFICANTES.</td>\n",
       "      <td>...</td>\n",
       "      <td>2019</td>\n",
       "      <td>0</td>\n",
       "      <td>NaN</td>\n",
       "      <td>NaN</td>\n",
       "      <td>1557161</td>\n",
       "      <td>NaN</td>\n",
       "      <td>NaN</td>\n",
       "      <td>496</td>\n",
       "      <td>6744495</td>\n",
       "      <td>http://camara.leg.br/cota-parlamentar/nota-fis...</td>\n",
       "    </tr>\n",
       "  </tbody>\n",
       "</table>\n",
       "<p>2 rows × 31 columns</p>\n",
       "</div>"
      ],
      "text/plain": [
       "      txNomeParlamentar           cpf  ideCadastro  nuCarteiraParlamentar  \\\n",
       "22968     FREIRE JÚNIOR  7.402202e+10      74189.0                  615.0   \n",
       "22969     FREIRE JÚNIOR  7.402202e+10      74189.0                  615.0   \n",
       "\n",
       "       nuLegislatura sgUF sgPartido  codLegislatura  numSubCota  \\\n",
       "22968           2015   TO       MDB              55           3   \n",
       "22969           2015   TO       MDB              55           3   \n",
       "\n",
       "                        txtDescricao  ...  numAno numParcela txtPassageiro  \\\n",
       "22968  COMBUSTÍVEIS E LUBRIFICANTES.  ...    2019          0           NaN   \n",
       "22969  COMBUSTÍVEIS E LUBRIFICANTES.  ...    2019          0           NaN   \n",
       "\n",
       "      txtTrecho  numLote  numRessarcimento vlrRestituicao  nuDeputadoId  \\\n",
       "22968       NaN  1552679               NaN            NaN           496   \n",
       "22969       NaN  1557161               NaN            NaN           496   \n",
       "\n",
       "       ideDocumento                                       urlDocumento  \n",
       "22968       6733941  http://camara.leg.br/cota-parlamentar/nota-fis...  \n",
       "22969       6744495  http://camara.leg.br/cota-parlamentar/nota-fis...  \n",
       "\n",
       "[2 rows x 31 columns]"
      ]
     },
     "execution_count": 68,
     "metadata": {},
     "output_type": "execute_result"
    }
   ],
   "source": [
    "#Simples visualização dos primeiros registros\n",
    "df_TO.head(2)"
   ]
  },
  {
   "cell_type": "code",
   "execution_count": 69,
   "metadata": {},
   "outputs": [
    {
     "name": "stdout",
     "output_type": "stream",
     "text": [
      "Requirement already satisfied: requests in c:\\users\\jonathas\\anaconda3\\lib\\site-packages (2.25.1)\n",
      "Requirement already satisfied: certifi>=2017.4.17 in c:\\users\\jonathas\\anaconda3\\lib\\site-packages (from requests) (2020.12.5)\n",
      "Requirement already satisfied: urllib3<1.27,>=1.21.1 in c:\\users\\jonathas\\anaconda3\\lib\\site-packages (from requests) (1.26.4)\n",
      "Requirement already satisfied: idna<3,>=2.5 in c:\\users\\jonathas\\anaconda3\\lib\\site-packages (from requests) (2.10)\n",
      "Requirement already satisfied: chardet<5,>=3.0.2 in c:\\users\\jonathas\\anaconda3\\lib\\site-packages (from requests) (4.0.0)\n"
     ]
    }
   ],
   "source": [
    "#Instalação do package requests para capturarmos dados por meio da url\n",
    "!pip3 install requests"
   ]
  },
  {
   "cell_type": "code",
   "execution_count": 70,
   "metadata": {},
   "outputs": [],
   "source": [
    "#Importação das libs que trabalharemos e configurar display para visualizar todas as colunas (jupyter)\n",
    "import requests\n",
    "import json as js\n",
    "pd.set_option('display.max_columns', None)"
   ]
  },
  {
   "cell_type": "code",
   "execution_count": 71,
   "metadata": {},
   "outputs": [
    {
     "data": {
      "text/plain": [
       "'\\nrequest = requests.get(\"https://minhareceita.org/CNPJ\")\\nrequest = js.loads(request.content)\\ndf_exemplo = pd.DataFrame([request])\\ndf_exemplo'"
      ]
     },
     "execution_count": 71,
     "metadata": {},
     "output_type": "execute_result"
    }
   ],
   "source": [
    "#Rascunhos\n",
    "\"\"\"\n",
    "request = requests.get(\"https://minhareceita.org/CNPJ\")\n",
    "request = js.loads(request.content)\n",
    "df_exemplo = pd.DataFrame([request])\n",
    "df_exemplo\"\"\""
   ]
  },
  {
   "cell_type": "code",
   "execution_count": 72,
   "metadata": {},
   "outputs": [
    {
     "data": {
      "text/html": [
       "<div>\n",
       "<style scoped>\n",
       "    .dataframe tbody tr th:only-of-type {\n",
       "        vertical-align: middle;\n",
       "    }\n",
       "\n",
       "    .dataframe tbody tr th {\n",
       "        vertical-align: top;\n",
       "    }\n",
       "\n",
       "    .dataframe thead th {\n",
       "        text-align: right;\n",
       "    }\n",
       "</style>\n",
       "<table border=\"1\" class=\"dataframe\">\n",
       "  <thead>\n",
       "    <tr style=\"text-align: right;\">\n",
       "      <th></th>\n",
       "      <th>txtCNPJCPF</th>\n",
       "      <th>Valor</th>\n",
       "    </tr>\n",
       "  </thead>\n",
       "  <tbody>\n",
       "    <tr>\n",
       "      <th>0</th>\n",
       "      <td>020.128.620/0016-0</td>\n",
       "      <td>3.517576e+07</td>\n",
       "    </tr>\n",
       "    <tr>\n",
       "      <th>1</th>\n",
       "      <td>075.756.510/0015-9</td>\n",
       "      <td>3.050471e+07</td>\n",
       "    </tr>\n",
       "    <tr>\n",
       "      <th>2</th>\n",
       "      <td>092.962.950/0016-0</td>\n",
       "      <td>9.269181e+06</td>\n",
       "    </tr>\n",
       "    <tr>\n",
       "      <th>3</th>\n",
       "      <td>073.193.230/0019-1</td>\n",
       "      <td>6.333604e+06</td>\n",
       "    </tr>\n",
       "    <tr>\n",
       "      <th>4</th>\n",
       "      <td>025.581.570/0016-2</td>\n",
       "      <td>5.459504e+06</td>\n",
       "    </tr>\n",
       "    <tr>\n",
       "      <th>5</th>\n",
       "      <td>000.000.000/0000-7</td>\n",
       "      <td>3.579859e+06</td>\n",
       "    </tr>\n",
       "    <tr>\n",
       "      <th>6</th>\n",
       "      <td>267.352.270/0017-9</td>\n",
       "      <td>2.900098e+06</td>\n",
       "    </tr>\n",
       "    <tr>\n",
       "      <th>7</th>\n",
       "      <td>000.000.000/0000-1</td>\n",
       "      <td>2.618129e+06</td>\n",
       "    </tr>\n",
       "    <tr>\n",
       "      <th>8</th>\n",
       "      <td>026.102.350/0012-0</td>\n",
       "      <td>2.263000e+06</td>\n",
       "    </tr>\n",
       "    <tr>\n",
       "      <th>9</th>\n",
       "      <td>054.434.490/0014-8</td>\n",
       "      <td>1.862697e+06</td>\n",
       "    </tr>\n",
       "  </tbody>\n",
       "</table>\n",
       "</div>"
      ],
      "text/plain": [
       "           txtCNPJCPF         Valor\n",
       "0  020.128.620/0016-0  3.517576e+07\n",
       "1  075.756.510/0015-9  3.050471e+07\n",
       "2  092.962.950/0016-0  9.269181e+06\n",
       "3  073.193.230/0019-1  6.333604e+06\n",
       "4  025.581.570/0016-2  5.459504e+06\n",
       "5  000.000.000/0000-7  3.579859e+06\n",
       "6  267.352.270/0017-9  2.900098e+06\n",
       "7  000.000.000/0000-1  2.618129e+06\n",
       "8  026.102.350/0012-0  2.263000e+06\n",
       "9  054.434.490/0014-8  1.862697e+06"
      ]
     },
     "execution_count": 72,
     "metadata": {},
     "output_type": "execute_result"
    }
   ],
   "source": [
    "#Seleção dos cnpj/cpf com total de soma e ordenado para somente os 10 primeiros. Transformandos a series em df e aplicamos...\n",
    "#nome da coluna de retorno do groupby de Valor e resetamos o index\n",
    "df_gasto = pd.DataFrame({'Valor': df_copia.groupby(['txtCNPJCPF'])['vlrDocumento'].sum().sort_values(ascending = False).head(10)}).reset_index()\n",
    "df_gasto"
   ]
  },
  {
   "cell_type": "code",
   "execution_count": 73,
   "metadata": {},
   "outputs": [],
   "source": [
    "#Atribuímos o retorno do get no formado json à nova coluna dados_CNPJ em nosso dataframe do groupby\n",
    "df_gasto['dados_CNPJ'] = df_gasto['txtCNPJCPF'].map(lambda x: requests.get(f\"https://minhareceita.org/{x}\"))"
   ]
  },
  {
   "cell_type": "code",
   "execution_count": 74,
   "metadata": {},
   "outputs": [],
   "source": [
    "#Atribuímos a formatação do json para modelo de dicionário\n",
    "df_gasto['dados_CNPJ'] = df_gasto['dados_CNPJ'].map(lambda x: js.loads(x.content))"
   ]
  },
  {
   "cell_type": "code",
   "execution_count": 75,
   "metadata": {},
   "outputs": [
    {
     "data": {
      "text/html": [
       "<div>\n",
       "<style scoped>\n",
       "    .dataframe tbody tr th:only-of-type {\n",
       "        vertical-align: middle;\n",
       "    }\n",
       "\n",
       "    .dataframe tbody tr th {\n",
       "        vertical-align: top;\n",
       "    }\n",
       "\n",
       "    .dataframe thead th {\n",
       "        text-align: right;\n",
       "    }\n",
       "</style>\n",
       "<table border=\"1\" class=\"dataframe\">\n",
       "  <thead>\n",
       "    <tr style=\"text-align: right;\">\n",
       "      <th></th>\n",
       "      <th>uf</th>\n",
       "      <th>cep</th>\n",
       "      <th>qsa</th>\n",
       "      <th>cnpj</th>\n",
       "      <th>pais</th>\n",
       "      <th>porte</th>\n",
       "      <th>bairro</th>\n",
       "      <th>numero</th>\n",
       "      <th>ddd_fax</th>\n",
       "      <th>municipio</th>\n",
       "      <th>logradouro</th>\n",
       "      <th>cnae_fiscal</th>\n",
       "      <th>codigo_pais</th>\n",
       "      <th>complemento</th>\n",
       "      <th>codigo_porte</th>\n",
       "      <th>razao_social</th>\n",
       "      <th>nome_fantasia</th>\n",
       "      <th>capital_social</th>\n",
       "      <th>ddd_telefone_1</th>\n",
       "      <th>ddd_telefone_2</th>\n",
       "      <th>opcao_pelo_mei</th>\n",
       "      <th>descricao_porte</th>\n",
       "      <th>cnaes_secundarios</th>\n",
       "      <th>codigio_municipio</th>\n",
       "      <th>natureza_juridica</th>\n",
       "      <th>situacao_especial</th>\n",
       "      <th>opcao_pelo_simples</th>\n",
       "      <th>situacao_cadastral</th>\n",
       "      <th>data_opcao_pelo_mei</th>\n",
       "      <th>data_exclusao_do_mei</th>\n",
       "      <th>cnae_fiscal_descricao</th>\n",
       "      <th>data_inicio_atividade</th>\n",
       "      <th>data_situacao_especial</th>\n",
       "      <th>data_opcao_pelo_simples</th>\n",
       "      <th>data_situacao_cadastral</th>\n",
       "      <th>nome_cidade_no_exterior</th>\n",
       "      <th>codigo_natureza_juridica</th>\n",
       "      <th>data_exclusao_do_simples</th>\n",
       "      <th>motivo_situacao_cadastral</th>\n",
       "      <th>ente_federativo_responsavel</th>\n",
       "      <th>identificador_matriz_filial</th>\n",
       "      <th>qualificacao_do_responsavel</th>\n",
       "      <th>descricao_situacao_cadastral</th>\n",
       "      <th>descricao_tipo_de_logradouro</th>\n",
       "      <th>descricao_motivo_situacao_cadastral</th>\n",
       "      <th>message</th>\n",
       "    </tr>\n",
       "  </thead>\n",
       "  <tbody>\n",
       "    <tr>\n",
       "      <th>0</th>\n",
       "      <td>SP</td>\n",
       "      <td>04634042</td>\n",
       "      <td>[{'pais': None, 'nome_socio': 'JEROME PAUL JAC...</td>\n",
       "      <td>02012862000160</td>\n",
       "      <td>NaN</td>\n",
       "      <td>DEMAIS</td>\n",
       "      <td>JARDIM BRASIL (ZONA SUL)</td>\n",
       "      <td>673</td>\n",
       "      <td>1155826118</td>\n",
       "      <td>SAO PAULO</td>\n",
       "      <td>ATICA</td>\n",
       "      <td>5111100.0</td>\n",
       "      <td>NaN</td>\n",
       "      <td>ANDAR 6                   SALA  62</td>\n",
       "      <td>5.0</td>\n",
       "      <td>TAM LINHAS AEREAS S/A.</td>\n",
       "      <td>LATAM AIRLINES BRASIL</td>\n",
       "      <td>4.716168e+09</td>\n",
       "      <td>1150357319</td>\n",
       "      <td></td>\n",
       "      <td>None</td>\n",
       "      <td></td>\n",
       "      <td>[{'codigo': 5120000, 'descricao': 'Transporte ...</td>\n",
       "      <td>7107.0</td>\n",
       "      <td>Sociedade Anônima Fechada</td>\n",
       "      <td></td>\n",
       "      <td>None</td>\n",
       "      <td>2.0</td>\n",
       "      <td>NaN</td>\n",
       "      <td>NaN</td>\n",
       "      <td>Transporte aéreo de passageiros regular</td>\n",
       "      <td>1986-07-09</td>\n",
       "      <td>NaN</td>\n",
       "      <td>None</td>\n",
       "      <td>2005-11-03</td>\n",
       "      <td></td>\n",
       "      <td>2054.0</td>\n",
       "      <td>None</td>\n",
       "      <td>0.0</td>\n",
       "      <td></td>\n",
       "      <td>1.0</td>\n",
       "      <td>16.0</td>\n",
       "      <td>ATIVA</td>\n",
       "      <td>RUA</td>\n",
       "      <td>SEM MOTIVO</td>\n",
       "      <td>NaN</td>\n",
       "    </tr>\n",
       "    <tr>\n",
       "      <th>1</th>\n",
       "      <td>RJ</td>\n",
       "      <td>20021340</td>\n",
       "      <td>[{'pais': None, 'nome_socio': 'PAULO SERGIO KA...</td>\n",
       "      <td>07575651000159</td>\n",
       "      <td>NaN</td>\n",
       "      <td>DEMAIS</td>\n",
       "      <td>CENTRO</td>\n",
       "      <td>S/N</td>\n",
       "      <td>1128412702</td>\n",
       "      <td>RIO DE JANEIRO</td>\n",
       "      <td>SENADOR SALGADO FILHO</td>\n",
       "      <td>5111100.0</td>\n",
       "      <td>NaN</td>\n",
       "      <td>TERREOAEREA PUBLICA             ENT EIXOS 46-4...</td>\n",
       "      <td>5.0</td>\n",
       "      <td>GOL LINHAS AEREAS S.A.</td>\n",
       "      <td></td>\n",
       "      <td>5.511194e+09</td>\n",
       "      <td>1128412702</td>\n",
       "      <td>1177523231</td>\n",
       "      <td>None</td>\n",
       "      <td></td>\n",
       "      <td>[{'codigo': 3316301, 'descricao': 'Manutenção ...</td>\n",
       "      <td>6001.0</td>\n",
       "      <td>Sociedade Anônima Fechada</td>\n",
       "      <td></td>\n",
       "      <td>None</td>\n",
       "      <td>2.0</td>\n",
       "      <td>NaN</td>\n",
       "      <td>NaN</td>\n",
       "      <td>Transporte aéreo de passageiros regular</td>\n",
       "      <td>2005-08-31</td>\n",
       "      <td>NaN</td>\n",
       "      <td>None</td>\n",
       "      <td>2005-08-31</td>\n",
       "      <td></td>\n",
       "      <td>2054.0</td>\n",
       "      <td>None</td>\n",
       "      <td>0.0</td>\n",
       "      <td></td>\n",
       "      <td>1.0</td>\n",
       "      <td>16.0</td>\n",
       "      <td>ATIVA</td>\n",
       "      <td>PRACA</td>\n",
       "      <td>SEM MOTIVO</td>\n",
       "      <td>NaN</td>\n",
       "    </tr>\n",
       "    <tr>\n",
       "      <th>2</th>\n",
       "      <td>SP</td>\n",
       "      <td>06460040</td>\n",
       "      <td>[{'pais': None, 'nome_socio': 'ANTONIO FLAVIO ...</td>\n",
       "      <td>09296295000160</td>\n",
       "      <td>NaN</td>\n",
       "      <td>DEMAIS</td>\n",
       "      <td>TAMBORE</td>\n",
       "      <td>939</td>\n",
       "      <td>1141349800</td>\n",
       "      <td>BARUERI</td>\n",
       "      <td>MARCOS PENTEADO DE ULHOA RODRIGUES</td>\n",
       "      <td>5111100.0</td>\n",
       "      <td>NaN</td>\n",
       "      <td>ANDAR 9                   EDIF  JATOBA        ...</td>\n",
       "      <td>5.0</td>\n",
       "      <td>AZUL LINHAS AEREAS BRASILEIRAS S.A.</td>\n",
       "      <td></td>\n",
       "      <td>4.646562e+09</td>\n",
       "      <td>1148311226</td>\n",
       "      <td></td>\n",
       "      <td>None</td>\n",
       "      <td></td>\n",
       "      <td>[{'codigo': 3316301, 'descricao': 'Manutenção ...</td>\n",
       "      <td>6213.0</td>\n",
       "      <td>Sociedade Anônima Fechada</td>\n",
       "      <td></td>\n",
       "      <td>None</td>\n",
       "      <td>2.0</td>\n",
       "      <td>NaN</td>\n",
       "      <td>NaN</td>\n",
       "      <td>Transporte aéreo de passageiros regular</td>\n",
       "      <td>2008-01-04</td>\n",
       "      <td>NaN</td>\n",
       "      <td>None</td>\n",
       "      <td>2008-01-04</td>\n",
       "      <td></td>\n",
       "      <td>2054.0</td>\n",
       "      <td>None</td>\n",
       "      <td>0.0</td>\n",
       "      <td></td>\n",
       "      <td>1.0</td>\n",
       "      <td>16.0</td>\n",
       "      <td>ATIVA</td>\n",
       "      <td>AVENIDA</td>\n",
       "      <td>SEM MOTIVO</td>\n",
       "      <td>NaN</td>\n",
       "    </tr>\n",
       "    <tr>\n",
       "      <th>3</th>\n",
       "      <td>DF</td>\n",
       "      <td>70316000</td>\n",
       "      <td>[{'pais': None, 'nome_socio': 'MARCIA DIAS YOS...</td>\n",
       "      <td>07319323000191</td>\n",
       "      <td>NaN</td>\n",
       "      <td>EMPRESA DE PEQUENO PORTE</td>\n",
       "      <td>ASA SUL</td>\n",
       "      <td>SN</td>\n",
       "      <td>6133224595</td>\n",
       "      <td>BRASILIA</td>\n",
       "      <td>SHS QUADRA 6</td>\n",
       "      <td>4923002.0</td>\n",
       "      <td>NaN</td>\n",
       "      <td>CONJ  A                   BLOCO F             ...</td>\n",
       "      <td>3.0</td>\n",
       "      <td>PANTANAL-VEICULOS LTDA</td>\n",
       "      <td>EUROPCAR ALUGUEL DE CARROS</td>\n",
       "      <td>1.100000e+06</td>\n",
       "      <td>6137712700</td>\n",
       "      <td></td>\n",
       "      <td>False</td>\n",
       "      <td></td>\n",
       "      <td>[{'codigo': 7711000, 'descricao': 'Locação de ...</td>\n",
       "      <td>9701.0</td>\n",
       "      <td>Sociedade Empresária Limitada</td>\n",
       "      <td></td>\n",
       "      <td>False</td>\n",
       "      <td>2.0</td>\n",
       "      <td>NaN</td>\n",
       "      <td>NaN</td>\n",
       "      <td>Serviço de transporte de passageiros - locação...</td>\n",
       "      <td>2005-04-05</td>\n",
       "      <td>NaN</td>\n",
       "      <td>2009-01-01</td>\n",
       "      <td>2005-04-05</td>\n",
       "      <td></td>\n",
       "      <td>2062.0</td>\n",
       "      <td>2010-12-31</td>\n",
       "      <td>0.0</td>\n",
       "      <td></td>\n",
       "      <td>1.0</td>\n",
       "      <td>49.0</td>\n",
       "      <td>ATIVA</td>\n",
       "      <td>SETOR</td>\n",
       "      <td>SEM MOTIVO</td>\n",
       "      <td>NaN</td>\n",
       "    </tr>\n",
       "    <tr>\n",
       "      <th>4</th>\n",
       "      <td>SP</td>\n",
       "      <td>04571936</td>\n",
       "      <td>[{'pais': None, 'nome_socio': 'BRENO RODRIGO P...</td>\n",
       "      <td>02558157000162</td>\n",
       "      <td>NaN</td>\n",
       "      <td>DEMAIS</td>\n",
       "      <td>CIDADE MONCOES</td>\n",
       "      <td>1376</td>\n",
       "      <td>1138895374</td>\n",
       "      <td>SAO PAULO</td>\n",
       "      <td>ENGENHEIRO LUIZ CARLOS BERRINI</td>\n",
       "      <td>6110801.0</td>\n",
       "      <td>NaN</td>\n",
       "      <td></td>\n",
       "      <td>5.0</td>\n",
       "      <td>TELEFONICA BRASIL S.A.</td>\n",
       "      <td></td>\n",
       "      <td>6.357142e+10</td>\n",
       "      <td>1134300000</td>\n",
       "      <td></td>\n",
       "      <td>None</td>\n",
       "      <td></td>\n",
       "      <td>[{'codigo': 3314710, 'descricao': 'Manutenção ...</td>\n",
       "      <td>7107.0</td>\n",
       "      <td>Sociedade Anônima Aberta</td>\n",
       "      <td></td>\n",
       "      <td>None</td>\n",
       "      <td>2.0</td>\n",
       "      <td>NaN</td>\n",
       "      <td>NaN</td>\n",
       "      <td>Serviços de telefonia fixa comutada - STFC</td>\n",
       "      <td>1998-06-04</td>\n",
       "      <td>NaN</td>\n",
       "      <td>None</td>\n",
       "      <td>2018-11-30</td>\n",
       "      <td></td>\n",
       "      <td>2046.0</td>\n",
       "      <td>None</td>\n",
       "      <td>0.0</td>\n",
       "      <td></td>\n",
       "      <td>1.0</td>\n",
       "      <td>16.0</td>\n",
       "      <td>ATIVA</td>\n",
       "      <td>AVENIDA</td>\n",
       "      <td>SEM MOTIVO</td>\n",
       "      <td>NaN</td>\n",
       "    </tr>\n",
       "    <tr>\n",
       "      <th>5</th>\n",
       "      <td>NaN</td>\n",
       "      <td>NaN</td>\n",
       "      <td>NaN</td>\n",
       "      <td>NaN</td>\n",
       "      <td>NaN</td>\n",
       "      <td>NaN</td>\n",
       "      <td>NaN</td>\n",
       "      <td>NaN</td>\n",
       "      <td>NaN</td>\n",
       "      <td>NaN</td>\n",
       "      <td>NaN</td>\n",
       "      <td>NaN</td>\n",
       "      <td>NaN</td>\n",
       "      <td>NaN</td>\n",
       "      <td>NaN</td>\n",
       "      <td>NaN</td>\n",
       "      <td>NaN</td>\n",
       "      <td>NaN</td>\n",
       "      <td>NaN</td>\n",
       "      <td>NaN</td>\n",
       "      <td>NaN</td>\n",
       "      <td>NaN</td>\n",
       "      <td>NaN</td>\n",
       "      <td>NaN</td>\n",
       "      <td>NaN</td>\n",
       "      <td>NaN</td>\n",
       "      <td>NaN</td>\n",
       "      <td>NaN</td>\n",
       "      <td>NaN</td>\n",
       "      <td>NaN</td>\n",
       "      <td>NaN</td>\n",
       "      <td>NaN</td>\n",
       "      <td>NaN</td>\n",
       "      <td>NaN</td>\n",
       "      <td>NaN</td>\n",
       "      <td>NaN</td>\n",
       "      <td>NaN</td>\n",
       "      <td>NaN</td>\n",
       "      <td>NaN</td>\n",
       "      <td>NaN</td>\n",
       "      <td>NaN</td>\n",
       "      <td>NaN</td>\n",
       "      <td>NaN</td>\n",
       "      <td>NaN</td>\n",
       "      <td>NaN</td>\n",
       "      <td>CNPJ 00.000.000/0000-07 inválido.</td>\n",
       "    </tr>\n",
       "    <tr>\n",
       "      <th>6</th>\n",
       "      <td>DF</td>\n",
       "      <td>70390055</td>\n",
       "      <td>[{'pais': None, 'nome_socio': 'JULIANA LOMAZZI...</td>\n",
       "      <td>26735227000179</td>\n",
       "      <td>NaN</td>\n",
       "      <td>MICRO EMPRESA</td>\n",
       "      <td>ASA SUL</td>\n",
       "      <td>25</td>\n",
       "      <td></td>\n",
       "      <td>BRASILIA</td>\n",
       "      <td>SEPS 705/905 EQ 705/905 BLOCO C</td>\n",
       "      <td>7711000.0</td>\n",
       "      <td>NaN</td>\n",
       "      <td>SALA  118</td>\n",
       "      <td>1.0</td>\n",
       "      <td>GOLD CAR BRASILIA LOCACAO DE VEICULOS EIRELI</td>\n",
       "      <td></td>\n",
       "      <td>5.000000e+05</td>\n",
       "      <td>6182235877</td>\n",
       "      <td></td>\n",
       "      <td>False</td>\n",
       "      <td></td>\n",
       "      <td>[{'codigo': 0, 'descricao': ''}]</td>\n",
       "      <td>9701.0</td>\n",
       "      <td>Empresa Individual de Responsabilidade Limitad...</td>\n",
       "      <td></td>\n",
       "      <td>True</td>\n",
       "      <td>2.0</td>\n",
       "      <td>NaN</td>\n",
       "      <td>NaN</td>\n",
       "      <td>Locação de automóveis sem condutor</td>\n",
       "      <td>2016-12-19</td>\n",
       "      <td>NaN</td>\n",
       "      <td>2020-01-01</td>\n",
       "      <td>2016-12-19</td>\n",
       "      <td></td>\n",
       "      <td>2305.0</td>\n",
       "      <td>None</td>\n",
       "      <td>0.0</td>\n",
       "      <td></td>\n",
       "      <td>1.0</td>\n",
       "      <td>65.0</td>\n",
       "      <td>ATIVA</td>\n",
       "      <td>QUADRA</td>\n",
       "      <td>SEM MOTIVO</td>\n",
       "      <td>NaN</td>\n",
       "    </tr>\n",
       "    <tr>\n",
       "      <th>7</th>\n",
       "      <td>NaN</td>\n",
       "      <td>NaN</td>\n",
       "      <td>NaN</td>\n",
       "      <td>NaN</td>\n",
       "      <td>NaN</td>\n",
       "      <td>NaN</td>\n",
       "      <td>NaN</td>\n",
       "      <td>NaN</td>\n",
       "      <td>NaN</td>\n",
       "      <td>NaN</td>\n",
       "      <td>NaN</td>\n",
       "      <td>NaN</td>\n",
       "      <td>NaN</td>\n",
       "      <td>NaN</td>\n",
       "      <td>NaN</td>\n",
       "      <td>NaN</td>\n",
       "      <td>NaN</td>\n",
       "      <td>NaN</td>\n",
       "      <td>NaN</td>\n",
       "      <td>NaN</td>\n",
       "      <td>NaN</td>\n",
       "      <td>NaN</td>\n",
       "      <td>NaN</td>\n",
       "      <td>NaN</td>\n",
       "      <td>NaN</td>\n",
       "      <td>NaN</td>\n",
       "      <td>NaN</td>\n",
       "      <td>NaN</td>\n",
       "      <td>NaN</td>\n",
       "      <td>NaN</td>\n",
       "      <td>NaN</td>\n",
       "      <td>NaN</td>\n",
       "      <td>NaN</td>\n",
       "      <td>NaN</td>\n",
       "      <td>NaN</td>\n",
       "      <td>NaN</td>\n",
       "      <td>NaN</td>\n",
       "      <td>NaN</td>\n",
       "      <td>NaN</td>\n",
       "      <td>NaN</td>\n",
       "      <td>NaN</td>\n",
       "      <td>NaN</td>\n",
       "      <td>NaN</td>\n",
       "      <td>NaN</td>\n",
       "      <td>NaN</td>\n",
       "      <td>CNPJ 00.000.000/0000-01 inválido.</td>\n",
       "    </tr>\n",
       "    <tr>\n",
       "      <th>8</th>\n",
       "      <td>DF</td>\n",
       "      <td>70340906</td>\n",
       "      <td>[{'pais': None, 'nome_socio': 'MARCOS ALESSAND...</td>\n",
       "      <td>02610235000120</td>\n",
       "      <td>NaN</td>\n",
       "      <td>MICRO EMPRESA</td>\n",
       "      <td>ASA SUL</td>\n",
       "      <td>38</td>\n",
       "      <td></td>\n",
       "      <td>BRASILIA</td>\n",
       "      <td>SRTVS QD 701 CONJUNTO L BLOCO 01</td>\n",
       "      <td>7020400.0</td>\n",
       "      <td>NaN</td>\n",
       "      <td>SALA  312,314,316 E 318         ED ASSIS      ...</td>\n",
       "      <td>1.0</td>\n",
       "      <td>DMD GESTAO ADMINISTRATIVA LTDA</td>\n",
       "      <td>DMD CONSULTORIA</td>\n",
       "      <td>4.000000e+05</td>\n",
       "      <td>6133233450</td>\n",
       "      <td></td>\n",
       "      <td>None</td>\n",
       "      <td></td>\n",
       "      <td>[{'codigo': 6920602, 'descricao': 'Atividades ...</td>\n",
       "      <td>9701.0</td>\n",
       "      <td>Sociedade Empresária Limitada</td>\n",
       "      <td></td>\n",
       "      <td>None</td>\n",
       "      <td>2.0</td>\n",
       "      <td>NaN</td>\n",
       "      <td>NaN</td>\n",
       "      <td>Atividades de consultoria em gestão empresaria...</td>\n",
       "      <td>1998-07-03</td>\n",
       "      <td>NaN</td>\n",
       "      <td>None</td>\n",
       "      <td>2005-11-03</td>\n",
       "      <td></td>\n",
       "      <td>2062.0</td>\n",
       "      <td>None</td>\n",
       "      <td>0.0</td>\n",
       "      <td></td>\n",
       "      <td>1.0</td>\n",
       "      <td>49.0</td>\n",
       "      <td>ATIVA</td>\n",
       "      <td>SETOR</td>\n",
       "      <td>SEM MOTIVO</td>\n",
       "      <td>NaN</td>\n",
       "    </tr>\n",
       "    <tr>\n",
       "      <th>9</th>\n",
       "      <td>DF</td>\n",
       "      <td>70070934</td>\n",
       "      <td>[{'pais': None, 'nome_socio': 'CLEONIDES DE SO...</td>\n",
       "      <td>05443449000148</td>\n",
       "      <td>NaN</td>\n",
       "      <td>DEMAIS</td>\n",
       "      <td>ASA SUL</td>\n",
       "      <td>S/N</td>\n",
       "      <td>0613236025</td>\n",
       "      <td>BRASILIA</td>\n",
       "      <td>SAUS QUADRA 03 BLOCO C SALA 1104 ED. BUSINESS ...</td>\n",
       "      <td>9430800.0</td>\n",
       "      <td>NaN</td>\n",
       "      <td></td>\n",
       "      <td>5.0</td>\n",
       "      <td>VERTICE - SOCIEDADE CIVIL DE PROFISSIONAIS ASS...</td>\n",
       "      <td>VERTICE ASSOCIADOS</td>\n",
       "      <td>0.000000e+00</td>\n",
       "      <td>6133231024</td>\n",
       "      <td></td>\n",
       "      <td>None</td>\n",
       "      <td></td>\n",
       "      <td>[{'codigo': 9493600, 'descricao': 'Atividades ...</td>\n",
       "      <td>9701.0</td>\n",
       "      <td>Associação Privada</td>\n",
       "      <td></td>\n",
       "      <td>None</td>\n",
       "      <td>2.0</td>\n",
       "      <td>NaN</td>\n",
       "      <td>NaN</td>\n",
       "      <td>Atividades de associações de defesa de direito...</td>\n",
       "      <td>2002-12-20</td>\n",
       "      <td>NaN</td>\n",
       "      <td>None</td>\n",
       "      <td>None</td>\n",
       "      <td></td>\n",
       "      <td>3999.0</td>\n",
       "      <td>None</td>\n",
       "      <td>0.0</td>\n",
       "      <td></td>\n",
       "      <td>1.0</td>\n",
       "      <td>16.0</td>\n",
       "      <td>ATIVA</td>\n",
       "      <td>RUA</td>\n",
       "      <td>SEM MOTIVO</td>\n",
       "      <td>NaN</td>\n",
       "    </tr>\n",
       "  </tbody>\n",
       "</table>\n",
       "</div>"
      ],
      "text/plain": [
       "    uf       cep                                                qsa  \\\n",
       "0   SP  04634042  [{'pais': None, 'nome_socio': 'JEROME PAUL JAC...   \n",
       "1   RJ  20021340  [{'pais': None, 'nome_socio': 'PAULO SERGIO KA...   \n",
       "2   SP  06460040  [{'pais': None, 'nome_socio': 'ANTONIO FLAVIO ...   \n",
       "3   DF  70316000  [{'pais': None, 'nome_socio': 'MARCIA DIAS YOS...   \n",
       "4   SP  04571936  [{'pais': None, 'nome_socio': 'BRENO RODRIGO P...   \n",
       "5  NaN       NaN                                                NaN   \n",
       "6   DF  70390055  [{'pais': None, 'nome_socio': 'JULIANA LOMAZZI...   \n",
       "7  NaN       NaN                                                NaN   \n",
       "8   DF  70340906  [{'pais': None, 'nome_socio': 'MARCOS ALESSAND...   \n",
       "9   DF  70070934  [{'pais': None, 'nome_socio': 'CLEONIDES DE SO...   \n",
       "\n",
       "             cnpj  pais                     porte                    bairro  \\\n",
       "0  02012862000160   NaN                    DEMAIS  JARDIM BRASIL (ZONA SUL)   \n",
       "1  07575651000159   NaN                    DEMAIS                    CENTRO   \n",
       "2  09296295000160   NaN                    DEMAIS                   TAMBORE   \n",
       "3  07319323000191   NaN  EMPRESA DE PEQUENO PORTE                   ASA SUL   \n",
       "4  02558157000162   NaN                    DEMAIS            CIDADE MONCOES   \n",
       "5             NaN   NaN                       NaN                       NaN   \n",
       "6  26735227000179   NaN             MICRO EMPRESA                   ASA SUL   \n",
       "7             NaN   NaN                       NaN                       NaN   \n",
       "8  02610235000120   NaN             MICRO EMPRESA                   ASA SUL   \n",
       "9  05443449000148   NaN                    DEMAIS                   ASA SUL   \n",
       "\n",
       "  numero     ddd_fax       municipio  \\\n",
       "0    673  1155826118       SAO PAULO   \n",
       "1    S/N  1128412702  RIO DE JANEIRO   \n",
       "2    939  1141349800         BARUERI   \n",
       "3     SN  6133224595        BRASILIA   \n",
       "4   1376  1138895374       SAO PAULO   \n",
       "5    NaN         NaN             NaN   \n",
       "6     25                    BRASILIA   \n",
       "7    NaN         NaN             NaN   \n",
       "8     38                    BRASILIA   \n",
       "9    S/N  0613236025        BRASILIA   \n",
       "\n",
       "                                          logradouro  cnae_fiscal  \\\n",
       "0                                              ATICA    5111100.0   \n",
       "1                              SENADOR SALGADO FILHO    5111100.0   \n",
       "2                 MARCOS PENTEADO DE ULHOA RODRIGUES    5111100.0   \n",
       "3                                       SHS QUADRA 6    4923002.0   \n",
       "4                     ENGENHEIRO LUIZ CARLOS BERRINI    6110801.0   \n",
       "5                                                NaN          NaN   \n",
       "6                    SEPS 705/905 EQ 705/905 BLOCO C    7711000.0   \n",
       "7                                                NaN          NaN   \n",
       "8                   SRTVS QD 701 CONJUNTO L BLOCO 01    7020400.0   \n",
       "9  SAUS QUADRA 03 BLOCO C SALA 1104 ED. BUSINESS ...    9430800.0   \n",
       "\n",
       "   codigo_pais                                        complemento  \\\n",
       "0          NaN                 ANDAR 6                   SALA  62   \n",
       "1          NaN  TERREOAEREA PUBLICA             ENT EIXOS 46-4...   \n",
       "2          NaN  ANDAR 9                   EDIF  JATOBA        ...   \n",
       "3          NaN  CONJ  A                   BLOCO F             ...   \n",
       "4          NaN                                                      \n",
       "5          NaN                                                NaN   \n",
       "6          NaN                                          SALA  118   \n",
       "7          NaN                                                NaN   \n",
       "8          NaN  SALA  312,314,316 E 318         ED ASSIS      ...   \n",
       "9          NaN                                                      \n",
       "\n",
       "   codigo_porte                                       razao_social  \\\n",
       "0           5.0                             TAM LINHAS AEREAS S/A.   \n",
       "1           5.0                             GOL LINHAS AEREAS S.A.   \n",
       "2           5.0                AZUL LINHAS AEREAS BRASILEIRAS S.A.   \n",
       "3           3.0                             PANTANAL-VEICULOS LTDA   \n",
       "4           5.0                             TELEFONICA BRASIL S.A.   \n",
       "5           NaN                                                NaN   \n",
       "6           1.0       GOLD CAR BRASILIA LOCACAO DE VEICULOS EIRELI   \n",
       "7           NaN                                                NaN   \n",
       "8           1.0                     DMD GESTAO ADMINISTRATIVA LTDA   \n",
       "9           5.0  VERTICE - SOCIEDADE CIVIL DE PROFISSIONAIS ASS...   \n",
       "\n",
       "                nome_fantasia  capital_social ddd_telefone_1 ddd_telefone_2  \\\n",
       "0       LATAM AIRLINES BRASIL    4.716168e+09     1150357319                  \n",
       "1                                5.511194e+09     1128412702     1177523231   \n",
       "2                                4.646562e+09     1148311226                  \n",
       "3  EUROPCAR ALUGUEL DE CARROS    1.100000e+06     6137712700                  \n",
       "4                                6.357142e+10     1134300000                  \n",
       "5                         NaN             NaN            NaN            NaN   \n",
       "6                                5.000000e+05     6182235877                  \n",
       "7                         NaN             NaN            NaN            NaN   \n",
       "8             DMD CONSULTORIA    4.000000e+05     6133233450                  \n",
       "9          VERTICE ASSOCIADOS    0.000000e+00     6133231024                  \n",
       "\n",
       "  opcao_pelo_mei descricao_porte  \\\n",
       "0           None                   \n",
       "1           None                   \n",
       "2           None                   \n",
       "3          False                   \n",
       "4           None                   \n",
       "5            NaN             NaN   \n",
       "6          False                   \n",
       "7            NaN             NaN   \n",
       "8           None                   \n",
       "9           None                   \n",
       "\n",
       "                                   cnaes_secundarios  codigio_municipio  \\\n",
       "0  [{'codigo': 5120000, 'descricao': 'Transporte ...             7107.0   \n",
       "1  [{'codigo': 3316301, 'descricao': 'Manutenção ...             6001.0   \n",
       "2  [{'codigo': 3316301, 'descricao': 'Manutenção ...             6213.0   \n",
       "3  [{'codigo': 7711000, 'descricao': 'Locação de ...             9701.0   \n",
       "4  [{'codigo': 3314710, 'descricao': 'Manutenção ...             7107.0   \n",
       "5                                                NaN                NaN   \n",
       "6                   [{'codigo': 0, 'descricao': ''}]             9701.0   \n",
       "7                                                NaN                NaN   \n",
       "8  [{'codigo': 6920602, 'descricao': 'Atividades ...             9701.0   \n",
       "9  [{'codigo': 9493600, 'descricao': 'Atividades ...             9701.0   \n",
       "\n",
       "                                   natureza_juridica situacao_especial  \\\n",
       "0                          Sociedade Anônima Fechada                     \n",
       "1                          Sociedade Anônima Fechada                     \n",
       "2                          Sociedade Anônima Fechada                     \n",
       "3                      Sociedade Empresária Limitada                     \n",
       "4                           Sociedade Anônima Aberta                     \n",
       "5                                                NaN               NaN   \n",
       "6  Empresa Individual de Responsabilidade Limitad...                     \n",
       "7                                                NaN               NaN   \n",
       "8                      Sociedade Empresária Limitada                     \n",
       "9                                 Associação Privada                     \n",
       "\n",
       "  opcao_pelo_simples  situacao_cadastral  data_opcao_pelo_mei  \\\n",
       "0               None                 2.0                  NaN   \n",
       "1               None                 2.0                  NaN   \n",
       "2               None                 2.0                  NaN   \n",
       "3              False                 2.0                  NaN   \n",
       "4               None                 2.0                  NaN   \n",
       "5                NaN                 NaN                  NaN   \n",
       "6               True                 2.0                  NaN   \n",
       "7                NaN                 NaN                  NaN   \n",
       "8               None                 2.0                  NaN   \n",
       "9               None                 2.0                  NaN   \n",
       "\n",
       "   data_exclusao_do_mei                              cnae_fiscal_descricao  \\\n",
       "0                   NaN            Transporte aéreo de passageiros regular   \n",
       "1                   NaN            Transporte aéreo de passageiros regular   \n",
       "2                   NaN            Transporte aéreo de passageiros regular   \n",
       "3                   NaN  Serviço de transporte de passageiros - locação...   \n",
       "4                   NaN         Serviços de telefonia fixa comutada - STFC   \n",
       "5                   NaN                                                NaN   \n",
       "6                   NaN                 Locação de automóveis sem condutor   \n",
       "7                   NaN                                                NaN   \n",
       "8                   NaN  Atividades de consultoria em gestão empresaria...   \n",
       "9                   NaN  Atividades de associações de defesa de direito...   \n",
       "\n",
       "  data_inicio_atividade  data_situacao_especial data_opcao_pelo_simples  \\\n",
       "0            1986-07-09                     NaN                    None   \n",
       "1            2005-08-31                     NaN                    None   \n",
       "2            2008-01-04                     NaN                    None   \n",
       "3            2005-04-05                     NaN              2009-01-01   \n",
       "4            1998-06-04                     NaN                    None   \n",
       "5                   NaN                     NaN                     NaN   \n",
       "6            2016-12-19                     NaN              2020-01-01   \n",
       "7                   NaN                     NaN                     NaN   \n",
       "8            1998-07-03                     NaN                    None   \n",
       "9            2002-12-20                     NaN                    None   \n",
       "\n",
       "  data_situacao_cadastral nome_cidade_no_exterior  codigo_natureza_juridica  \\\n",
       "0              2005-11-03                                            2054.0   \n",
       "1              2005-08-31                                            2054.0   \n",
       "2              2008-01-04                                            2054.0   \n",
       "3              2005-04-05                                            2062.0   \n",
       "4              2018-11-30                                            2046.0   \n",
       "5                     NaN                     NaN                       NaN   \n",
       "6              2016-12-19                                            2305.0   \n",
       "7                     NaN                     NaN                       NaN   \n",
       "8              2005-11-03                                            2062.0   \n",
       "9                    None                                            3999.0   \n",
       "\n",
       "  data_exclusao_do_simples  motivo_situacao_cadastral  \\\n",
       "0                     None                        0.0   \n",
       "1                     None                        0.0   \n",
       "2                     None                        0.0   \n",
       "3               2010-12-31                        0.0   \n",
       "4                     None                        0.0   \n",
       "5                      NaN                        NaN   \n",
       "6                     None                        0.0   \n",
       "7                      NaN                        NaN   \n",
       "8                     None                        0.0   \n",
       "9                     None                        0.0   \n",
       "\n",
       "  ente_federativo_responsavel  identificador_matriz_filial  \\\n",
       "0                                                      1.0   \n",
       "1                                                      1.0   \n",
       "2                                                      1.0   \n",
       "3                                                      1.0   \n",
       "4                                                      1.0   \n",
       "5                         NaN                          NaN   \n",
       "6                                                      1.0   \n",
       "7                         NaN                          NaN   \n",
       "8                                                      1.0   \n",
       "9                                                      1.0   \n",
       "\n",
       "   qualificacao_do_responsavel descricao_situacao_cadastral  \\\n",
       "0                         16.0                        ATIVA   \n",
       "1                         16.0                        ATIVA   \n",
       "2                         16.0                        ATIVA   \n",
       "3                         49.0                        ATIVA   \n",
       "4                         16.0                        ATIVA   \n",
       "5                          NaN                          NaN   \n",
       "6                         65.0                        ATIVA   \n",
       "7                          NaN                          NaN   \n",
       "8                         49.0                        ATIVA   \n",
       "9                         16.0                        ATIVA   \n",
       "\n",
       "  descricao_tipo_de_logradouro descricao_motivo_situacao_cadastral  \\\n",
       "0                          RUA                          SEM MOTIVO   \n",
       "1                        PRACA                          SEM MOTIVO   \n",
       "2                      AVENIDA                          SEM MOTIVO   \n",
       "3                        SETOR                          SEM MOTIVO   \n",
       "4                      AVENIDA                          SEM MOTIVO   \n",
       "5                          NaN                                 NaN   \n",
       "6                       QUADRA                          SEM MOTIVO   \n",
       "7                          NaN                                 NaN   \n",
       "8                        SETOR                          SEM MOTIVO   \n",
       "9                          RUA                          SEM MOTIVO   \n",
       "\n",
       "                             message  \n",
       "0                                NaN  \n",
       "1                                NaN  \n",
       "2                                NaN  \n",
       "3                                NaN  \n",
       "4                                NaN  \n",
       "5  CNPJ 00.000.000/0000-07 inválido.  \n",
       "6                                NaN  \n",
       "7  CNPJ 00.000.000/0000-01 inválido.  \n",
       "8                                NaN  \n",
       "9                                NaN  "
      ]
     },
     "execution_count": 75,
     "metadata": {},
     "output_type": "execute_result"
    }
   ],
   "source": [
    "#Simples visualização formatando o dict em list e convertendo-o em dataframe\n",
    "pd.DataFrame(list(df_gasto['dados_CNPJ']))"
   ]
  },
  {
   "cell_type": "markdown",
   "metadata": {},
   "source": [
    "# Laio"
   ]
  },
  {
   "cell_type": "markdown",
   "metadata": {},
   "source": [
    "# Sartorio"
   ]
  },
  {
   "cell_type": "markdown",
   "metadata": {},
   "source": [
    "# Gui"
   ]
  },
  {
   "cell_type": "markdown",
   "metadata": {},
   "source": [
    "# Jonathas"
   ]
  },
  {
   "cell_type": "code",
   "execution_count": 76,
   "metadata": {},
   "outputs": [],
   "source": [
    "dfto = df_TO.copy()\n",
    "dfto.reset_index(drop=True, inplace=True)"
   ]
  },
  {
   "cell_type": "code",
   "execution_count": 77,
   "metadata": {},
   "outputs": [],
   "source": [
    "dfto.cpf = dfto.cpf.astype('int64')"
   ]
  },
  {
   "cell_type": "code",
   "execution_count": 78,
   "metadata": {},
   "outputs": [],
   "source": [
    "semCnpj = dfto[dfto['txtCNPJCPF'].isna()]\n",
    "comCnpj = dfto[dfto['txtCNPJCPF'].notna()]"
   ]
  },
  {
   "cell_type": "code",
   "execution_count": 79,
   "metadata": {},
   "outputs": [
    {
     "data": {
      "text/plain": [
       "474"
      ]
     },
     "execution_count": 79,
     "metadata": {},
     "output_type": "execute_result"
    }
   ],
   "source": [
    "semCnpj.shape[0]"
   ]
  },
  {
   "cell_type": "code",
   "execution_count": 80,
   "metadata": {},
   "outputs": [
    {
     "data": {
      "text/plain": [
       "array(['PASSAGEM AÉREA - SIGEPA'], dtype=object)"
      ]
     },
     "execution_count": 80,
     "metadata": {},
     "output_type": "execute_result"
    }
   ],
   "source": [
    "semCnpj.txtDescricao.unique()"
   ]
  },
  {
   "cell_type": "code",
   "execution_count": 81,
   "metadata": {},
   "outputs": [],
   "source": [
    "celioMoura = comCnpj[comCnpj.cpf == 12364983134]"
   ]
  },
  {
   "cell_type": "code",
   "execution_count": 82,
   "metadata": {},
   "outputs": [
    {
     "data": {
      "text/plain": [
       "array([2019, 2020, 2021], dtype=int64)"
      ]
     },
     "execution_count": 82,
     "metadata": {},
     "output_type": "execute_result"
    }
   ],
   "source": [
    "celioMoura.numAno.unique()"
   ]
  },
  {
   "cell_type": "code",
   "execution_count": 83,
   "metadata": {},
   "outputs": [
    {
     "data": {
      "text/html": [
       "<div>\n",
       "<style scoped>\n",
       "    .dataframe tbody tr th:only-of-type {\n",
       "        vertical-align: middle;\n",
       "    }\n",
       "\n",
       "    .dataframe tbody tr th {\n",
       "        vertical-align: top;\n",
       "    }\n",
       "\n",
       "    .dataframe thead th {\n",
       "        text-align: right;\n",
       "    }\n",
       "</style>\n",
       "<table border=\"1\" class=\"dataframe\">\n",
       "  <thead>\n",
       "    <tr style=\"text-align: right;\">\n",
       "      <th></th>\n",
       "      <th>txNomeParlamentar</th>\n",
       "      <th>cpf</th>\n",
       "      <th>ideCadastro</th>\n",
       "      <th>nuCarteiraParlamentar</th>\n",
       "      <th>nuLegislatura</th>\n",
       "      <th>sgUF</th>\n",
       "      <th>sgPartido</th>\n",
       "      <th>codLegislatura</th>\n",
       "      <th>numSubCota</th>\n",
       "      <th>txtDescricao</th>\n",
       "      <th>numEspecificacaoSubCota</th>\n",
       "      <th>txtDescricaoEspecificacao</th>\n",
       "      <th>txtFornecedor</th>\n",
       "      <th>txtCNPJCPF</th>\n",
       "      <th>txtNumero</th>\n",
       "      <th>indTipoDocumento</th>\n",
       "      <th>datEmissao</th>\n",
       "      <th>vlrDocumento</th>\n",
       "      <th>vlrGlosa</th>\n",
       "      <th>vlrLiquido</th>\n",
       "      <th>numMes</th>\n",
       "      <th>numAno</th>\n",
       "      <th>numParcela</th>\n",
       "      <th>txtPassageiro</th>\n",
       "      <th>txtTrecho</th>\n",
       "      <th>numLote</th>\n",
       "      <th>numRessarcimento</th>\n",
       "      <th>vlrRestituicao</th>\n",
       "      <th>nuDeputadoId</th>\n",
       "      <th>ideDocumento</th>\n",
       "      <th>urlDocumento</th>\n",
       "    </tr>\n",
       "  </thead>\n",
       "  <tbody>\n",
       "    <tr>\n",
       "      <th>3556</th>\n",
       "      <td>Célio Moura</td>\n",
       "      <td>12364983134</td>\n",
       "      <td>204370.0</td>\n",
       "      <td>62.0</td>\n",
       "      <td>2019</td>\n",
       "      <td>TO</td>\n",
       "      <td>PT</td>\n",
       "      <td>56</td>\n",
       "      <td>1</td>\n",
       "      <td>MANUTENÇÃO DE ESCRITÓRIO DE APOIO À ATIVIDADE ...</td>\n",
       "      <td>0</td>\n",
       "      <td>NaN</td>\n",
       "      <td>Adobe Systems Software</td>\n",
       "      <td>000.000.000/0001-0</td>\n",
       "      <td>1044652632</td>\n",
       "      <td>1</td>\n",
       "      <td>2019-06-12</td>\n",
       "      <td>224.0</td>\n",
       "      <td>0.0</td>\n",
       "      <td>224.0</td>\n",
       "      <td>6</td>\n",
       "      <td>2019</td>\n",
       "      <td>0</td>\n",
       "      <td>NaN</td>\n",
       "      <td>NaN</td>\n",
       "      <td>1604933</td>\n",
       "      <td>NaN</td>\n",
       "      <td>NaN</td>\n",
       "      <td>3203</td>\n",
       "      <td>6852401</td>\n",
       "      <td>https://www.camara.leg.br/cota-parlamentar/doc...</td>\n",
       "    </tr>\n",
       "  </tbody>\n",
       "</table>\n",
       "</div>"
      ],
      "text/plain": [
       "     txNomeParlamentar          cpf  ideCadastro  nuCarteiraParlamentar  \\\n",
       "3556       Célio Moura  12364983134     204370.0                   62.0   \n",
       "\n",
       "      nuLegislatura sgUF sgPartido  codLegislatura  numSubCota  \\\n",
       "3556           2019   TO        PT              56           1   \n",
       "\n",
       "                                           txtDescricao  \\\n",
       "3556  MANUTENÇÃO DE ESCRITÓRIO DE APOIO À ATIVIDADE ...   \n",
       "\n",
       "      numEspecificacaoSubCota txtDescricaoEspecificacao  \\\n",
       "3556                        0                       NaN   \n",
       "\n",
       "               txtFornecedor          txtCNPJCPF   txtNumero  \\\n",
       "3556  Adobe Systems Software  000.000.000/0001-0  1044652632   \n",
       "\n",
       "      indTipoDocumento datEmissao  vlrDocumento  vlrGlosa  vlrLiquido  numMes  \\\n",
       "3556                 1 2019-06-12         224.0       0.0       224.0       6   \n",
       "\n",
       "      numAno  numParcela txtPassageiro txtTrecho  numLote  numRessarcimento  \\\n",
       "3556    2019           0           NaN       NaN  1604933               NaN   \n",
       "\n",
       "      vlrRestituicao  nuDeputadoId  ideDocumento  \\\n",
       "3556             NaN          3203       6852401   \n",
       "\n",
       "                                           urlDocumento  \n",
       "3556  https://www.camara.leg.br/cota-parlamentar/doc...  "
      ]
     },
     "execution_count": 83,
     "metadata": {},
     "output_type": "execute_result"
    }
   ],
   "source": [
    "celioMoura.head(1)"
   ]
  },
  {
   "cell_type": "code",
   "execution_count": 84,
   "metadata": {},
   "outputs": [],
   "source": [
    "celioMoura = pd.DataFrame({'Celinho_de_jesus_gastou': celioMoura.groupby(['numAno', 'numMes'])['vlrDocumento'].sum()})"
   ]
  },
  {
   "cell_type": "code",
   "execution_count": 85,
   "metadata": {},
   "outputs": [
    {
     "data": {
      "text/html": [
       "<div>\n",
       "<style scoped>\n",
       "    .dataframe tbody tr th:only-of-type {\n",
       "        vertical-align: middle;\n",
       "    }\n",
       "\n",
       "    .dataframe tbody tr th {\n",
       "        vertical-align: top;\n",
       "    }\n",
       "\n",
       "    .dataframe thead th {\n",
       "        text-align: right;\n",
       "    }\n",
       "</style>\n",
       "<table border=\"1\" class=\"dataframe\">\n",
       "  <thead>\n",
       "    <tr style=\"text-align: right;\">\n",
       "      <th></th>\n",
       "      <th></th>\n",
       "      <th>Celinho_de_jesus_gastou</th>\n",
       "    </tr>\n",
       "    <tr>\n",
       "      <th>numAno</th>\n",
       "      <th>numMes</th>\n",
       "      <th></th>\n",
       "    </tr>\n",
       "  </thead>\n",
       "  <tbody>\n",
       "    <tr>\n",
       "      <th rowspan=\"2\" valign=\"top\">2019</th>\n",
       "      <th>5</th>\n",
       "      <td>42303.06</td>\n",
       "    </tr>\n",
       "    <tr>\n",
       "      <th>12</th>\n",
       "      <td>77851.02</td>\n",
       "    </tr>\n",
       "    <tr>\n",
       "      <th>2020</th>\n",
       "      <th>10</th>\n",
       "      <td>68790.06</td>\n",
       "    </tr>\n",
       "  </tbody>\n",
       "</table>\n",
       "</div>"
      ],
      "text/plain": [
       "               Celinho_de_jesus_gastou\n",
       "numAno numMes                         \n",
       "2019   5                      42303.06\n",
       "       12                     77851.02\n",
       "2020   10                     68790.06"
      ]
     },
     "execution_count": 85,
     "metadata": {},
     "output_type": "execute_result"
    }
   ],
   "source": [
    "celioMoura[celioMoura['Celinho_de_jesus_gastou'] > 39503.61]"
   ]
  },
  {
   "cell_type": "code",
   "execution_count": 86,
   "metadata": {},
   "outputs": [
    {
     "data": {
      "text/html": [
       "<div>\n",
       "<style scoped>\n",
       "    .dataframe tbody tr th:only-of-type {\n",
       "        vertical-align: middle;\n",
       "    }\n",
       "\n",
       "    .dataframe tbody tr th {\n",
       "        vertical-align: top;\n",
       "    }\n",
       "\n",
       "    .dataframe thead th {\n",
       "        text-align: right;\n",
       "    }\n",
       "</style>\n",
       "<table border=\"1\" class=\"dataframe\">\n",
       "  <thead>\n",
       "    <tr style=\"text-align: right;\">\n",
       "      <th></th>\n",
       "      <th>txNomeParlamentar</th>\n",
       "      <th>cpf</th>\n",
       "      <th>ideCadastro</th>\n",
       "      <th>nuCarteiraParlamentar</th>\n",
       "      <th>nuLegislatura</th>\n",
       "      <th>sgUF</th>\n",
       "      <th>sgPartido</th>\n",
       "      <th>codLegislatura</th>\n",
       "      <th>numSubCota</th>\n",
       "      <th>txtDescricao</th>\n",
       "      <th>numEspecificacaoSubCota</th>\n",
       "      <th>txtDescricaoEspecificacao</th>\n",
       "      <th>txtFornecedor</th>\n",
       "      <th>txtCNPJCPF</th>\n",
       "      <th>txtNumero</th>\n",
       "      <th>indTipoDocumento</th>\n",
       "      <th>datEmissao</th>\n",
       "      <th>vlrDocumento</th>\n",
       "      <th>vlrGlosa</th>\n",
       "      <th>vlrLiquido</th>\n",
       "      <th>numMes</th>\n",
       "      <th>numAno</th>\n",
       "      <th>numParcela</th>\n",
       "      <th>txtPassageiro</th>\n",
       "      <th>txtTrecho</th>\n",
       "      <th>numLote</th>\n",
       "      <th>numRessarcimento</th>\n",
       "      <th>vlrRestituicao</th>\n",
       "      <th>nuDeputadoId</th>\n",
       "      <th>ideDocumento</th>\n",
       "      <th>urlDocumento</th>\n",
       "    </tr>\n",
       "  </thead>\n",
       "  <tbody>\n",
       "    <tr>\n",
       "      <th>4</th>\n",
       "      <td>FREIRE JÚNIOR</td>\n",
       "      <td>74022024887</td>\n",
       "      <td>74189.0</td>\n",
       "      <td>615.0</td>\n",
       "      <td>2015</td>\n",
       "      <td>TO</td>\n",
       "      <td>MDB</td>\n",
       "      <td>55</td>\n",
       "      <td>9</td>\n",
       "      <td>PASSAGEM AÉREA - REEMBOLSO</td>\n",
       "      <td>0</td>\n",
       "      <td>NaN</td>\n",
       "      <td>GOL LINHAS AÉREAS S.A</td>\n",
       "      <td>075.756.510/0015-9</td>\n",
       "      <td>12700389644873</td>\n",
       "      <td>0</td>\n",
       "      <td>2019-01-08 00:00:00</td>\n",
       "      <td>1829.39</td>\n",
       "      <td>0.0</td>\n",
       "      <td>1829.39</td>\n",
       "      <td>1</td>\n",
       "      <td>2019</td>\n",
       "      <td>0</td>\n",
       "      <td>NaN</td>\n",
       "      <td>NaN</td>\n",
       "      <td>1554604</td>\n",
       "      <td>NaN</td>\n",
       "      <td>NaN</td>\n",
       "      <td>496</td>\n",
       "      <td>6739258</td>\n",
       "      <td>https://www.camara.leg.br/cota-parlamentar/doc...</td>\n",
       "    </tr>\n",
       "    <tr>\n",
       "      <th>105</th>\n",
       "      <td>Vicentinho Júnior</td>\n",
       "      <td>99898659149</td>\n",
       "      <td>137070.0</td>\n",
       "      <td>66.0</td>\n",
       "      <td>2019</td>\n",
       "      <td>TO</td>\n",
       "      <td>PL</td>\n",
       "      <td>56</td>\n",
       "      <td>999</td>\n",
       "      <td>PASSAGEM AÉREA - RPA</td>\n",
       "      <td>0</td>\n",
       "      <td>NaN</td>\n",
       "      <td>Cia Aérea - GOL</td>\n",
       "      <td>075.756.510/0015-9</td>\n",
       "      <td>Bilhete: AMSI3A</td>\n",
       "      <td>0</td>\n",
       "      <td>2019-07-05 00:00:00</td>\n",
       "      <td>560.79</td>\n",
       "      <td>0.0</td>\n",
       "      <td>560.79</td>\n",
       "      <td>7</td>\n",
       "      <td>2019</td>\n",
       "      <td>0</td>\n",
       "      <td>Vicentinho Júnior</td>\n",
       "      <td>PMW/BSB/CNF</td>\n",
       "      <td>0</td>\n",
       "      <td>0.0</td>\n",
       "      <td>NaN</td>\n",
       "      <td>3059</td>\n",
       "      <td>1679041</td>\n",
       "      <td>NaN</td>\n",
       "    </tr>\n",
       "    <tr>\n",
       "      <th>106</th>\n",
       "      <td>Vicentinho Júnior</td>\n",
       "      <td>99898659149</td>\n",
       "      <td>137070.0</td>\n",
       "      <td>66.0</td>\n",
       "      <td>2019</td>\n",
       "      <td>TO</td>\n",
       "      <td>PL</td>\n",
       "      <td>56</td>\n",
       "      <td>999</td>\n",
       "      <td>PASSAGEM AÉREA - RPA</td>\n",
       "      <td>0</td>\n",
       "      <td>NaN</td>\n",
       "      <td>Cia Aérea - GOL</td>\n",
       "      <td>075.756.510/0015-9</td>\n",
       "      <td>Bilhete: AP4I8X</td>\n",
       "      <td>0</td>\n",
       "      <td>2019-10-04 00:00:00</td>\n",
       "      <td>396.79</td>\n",
       "      <td>0.0</td>\n",
       "      <td>396.79</td>\n",
       "      <td>10</td>\n",
       "      <td>2019</td>\n",
       "      <td>0</td>\n",
       "      <td>Vicentinho Júnior</td>\n",
       "      <td>PMW/BSB/CNF</td>\n",
       "      <td>0</td>\n",
       "      <td>0.0</td>\n",
       "      <td>NaN</td>\n",
       "      <td>3059</td>\n",
       "      <td>1706899</td>\n",
       "      <td>NaN</td>\n",
       "    </tr>\n",
       "    <tr>\n",
       "      <th>107</th>\n",
       "      <td>Vicentinho Júnior</td>\n",
       "      <td>99898659149</td>\n",
       "      <td>137070.0</td>\n",
       "      <td>66.0</td>\n",
       "      <td>2019</td>\n",
       "      <td>TO</td>\n",
       "      <td>PL</td>\n",
       "      <td>56</td>\n",
       "      <td>999</td>\n",
       "      <td>PASSAGEM AÉREA - RPA</td>\n",
       "      <td>0</td>\n",
       "      <td>NaN</td>\n",
       "      <td>Cia Aérea - GOL</td>\n",
       "      <td>075.756.510/0015-9</td>\n",
       "      <td>Bilhete: APESQX</td>\n",
       "      <td>0</td>\n",
       "      <td>2019-05-08 00:00:00</td>\n",
       "      <td>894.39</td>\n",
       "      <td>0.0</td>\n",
       "      <td>894.39</td>\n",
       "      <td>5</td>\n",
       "      <td>2019</td>\n",
       "      <td>0</td>\n",
       "      <td>Vicentinho Júnior</td>\n",
       "      <td>BSB/PMW</td>\n",
       "      <td>0</td>\n",
       "      <td>0.0</td>\n",
       "      <td>NaN</td>\n",
       "      <td>3059</td>\n",
       "      <td>1668966</td>\n",
       "      <td>NaN</td>\n",
       "    </tr>\n",
       "    <tr>\n",
       "      <th>108</th>\n",
       "      <td>Vicentinho Júnior</td>\n",
       "      <td>99898659149</td>\n",
       "      <td>137070.0</td>\n",
       "      <td>66.0</td>\n",
       "      <td>2019</td>\n",
       "      <td>TO</td>\n",
       "      <td>PL</td>\n",
       "      <td>56</td>\n",
       "      <td>999</td>\n",
       "      <td>PASSAGEM AÉREA - RPA</td>\n",
       "      <td>0</td>\n",
       "      <td>NaN</td>\n",
       "      <td>Cia Aérea - GOL</td>\n",
       "      <td>075.756.510/0015-9</td>\n",
       "      <td>Bilhete: APESQX</td>\n",
       "      <td>0</td>\n",
       "      <td>2019-05-28 00:00:00</td>\n",
       "      <td>847.00</td>\n",
       "      <td>0.0</td>\n",
       "      <td>847.00</td>\n",
       "      <td>5</td>\n",
       "      <td>2019</td>\n",
       "      <td>0</td>\n",
       "      <td>Vicentinho Júnior</td>\n",
       "      <td>BSB/PMW</td>\n",
       "      <td>0</td>\n",
       "      <td>0.0</td>\n",
       "      <td>NaN</td>\n",
       "      <td>3059</td>\n",
       "      <td>1671380</td>\n",
       "      <td>NaN</td>\n",
       "    </tr>\n",
       "    <tr>\n",
       "      <th>...</th>\n",
       "      <td>...</td>\n",
       "      <td>...</td>\n",
       "      <td>...</td>\n",
       "      <td>...</td>\n",
       "      <td>...</td>\n",
       "      <td>...</td>\n",
       "      <td>...</td>\n",
       "      <td>...</td>\n",
       "      <td>...</td>\n",
       "      <td>...</td>\n",
       "      <td>...</td>\n",
       "      <td>...</td>\n",
       "      <td>...</td>\n",
       "      <td>...</td>\n",
       "      <td>...</td>\n",
       "      <td>...</td>\n",
       "      <td>...</td>\n",
       "      <td>...</td>\n",
       "      <td>...</td>\n",
       "      <td>...</td>\n",
       "      <td>...</td>\n",
       "      <td>...</td>\n",
       "      <td>...</td>\n",
       "      <td>...</td>\n",
       "      <td>...</td>\n",
       "      <td>...</td>\n",
       "      <td>...</td>\n",
       "      <td>...</td>\n",
       "      <td>...</td>\n",
       "      <td>...</td>\n",
       "      <td>...</td>\n",
       "    </tr>\n",
       "    <tr>\n",
       "      <th>8699</th>\n",
       "      <td>Osires Damaso</td>\n",
       "      <td>27848280187</td>\n",
       "      <td>204363.0</td>\n",
       "      <td>64.0</td>\n",
       "      <td>2019</td>\n",
       "      <td>TO</td>\n",
       "      <td>PSC</td>\n",
       "      <td>56</td>\n",
       "      <td>998</td>\n",
       "      <td>PASSAGEM AÉREA - SIGEPA</td>\n",
       "      <td>0</td>\n",
       "      <td>NaN</td>\n",
       "      <td>GOL</td>\n",
       "      <td>NaN</td>\n",
       "      <td>ZLN37M</td>\n",
       "      <td>0</td>\n",
       "      <td>2021-03-26 12:00:00</td>\n",
       "      <td>27.16</td>\n",
       "      <td>0.0</td>\n",
       "      <td>27.16</td>\n",
       "      <td>3</td>\n",
       "      <td>2021</td>\n",
       "      <td>0</td>\n",
       "      <td>Osires Rodrigues Damaso</td>\n",
       "      <td>BSB/BSB</td>\n",
       "      <td>0</td>\n",
       "      <td>0.0</td>\n",
       "      <td>NaN</td>\n",
       "      <td>3239</td>\n",
       "      <td>26140</td>\n",
       "      <td>NaN</td>\n",
       "    </tr>\n",
       "    <tr>\n",
       "      <th>8700</th>\n",
       "      <td>Osires Damaso</td>\n",
       "      <td>27848280187</td>\n",
       "      <td>204363.0</td>\n",
       "      <td>64.0</td>\n",
       "      <td>2019</td>\n",
       "      <td>TO</td>\n",
       "      <td>PSC</td>\n",
       "      <td>56</td>\n",
       "      <td>998</td>\n",
       "      <td>PASSAGEM AÉREA - SIGEPA</td>\n",
       "      <td>0</td>\n",
       "      <td>NaN</td>\n",
       "      <td>GOL</td>\n",
       "      <td>NaN</td>\n",
       "      <td>ZWYRHW</td>\n",
       "      <td>0</td>\n",
       "      <td>2021-07-05 12:00:00</td>\n",
       "      <td>50.00</td>\n",
       "      <td>0.0</td>\n",
       "      <td>-50.00</td>\n",
       "      <td>7</td>\n",
       "      <td>2021</td>\n",
       "      <td>0</td>\n",
       "      <td>Osires Rodrigues Damaso</td>\n",
       "      <td>PMW/ BSB</td>\n",
       "      <td>0</td>\n",
       "      <td>0.0</td>\n",
       "      <td>NaN</td>\n",
       "      <td>3239</td>\n",
       "      <td>43014</td>\n",
       "      <td>NaN</td>\n",
       "    </tr>\n",
       "    <tr>\n",
       "      <th>8701</th>\n",
       "      <td>Osires Damaso</td>\n",
       "      <td>27848280187</td>\n",
       "      <td>204363.0</td>\n",
       "      <td>64.0</td>\n",
       "      <td>2019</td>\n",
       "      <td>TO</td>\n",
       "      <td>PSC</td>\n",
       "      <td>56</td>\n",
       "      <td>998</td>\n",
       "      <td>PASSAGEM AÉREA - SIGEPA</td>\n",
       "      <td>0</td>\n",
       "      <td>NaN</td>\n",
       "      <td>GOL</td>\n",
       "      <td>NaN</td>\n",
       "      <td>ZWYRHW</td>\n",
       "      <td>0</td>\n",
       "      <td>2021-07-05 12:00:00</td>\n",
       "      <td>1558.70</td>\n",
       "      <td>0.0</td>\n",
       "      <td>-1558.70</td>\n",
       "      <td>7</td>\n",
       "      <td>2021</td>\n",
       "      <td>0</td>\n",
       "      <td>Osires Rodrigues Damaso</td>\n",
       "      <td>PMW/ BSB</td>\n",
       "      <td>0</td>\n",
       "      <td>0.0</td>\n",
       "      <td>NaN</td>\n",
       "      <td>3239</td>\n",
       "      <td>43014</td>\n",
       "      <td>NaN</td>\n",
       "    </tr>\n",
       "    <tr>\n",
       "      <th>8702</th>\n",
       "      <td>Osires Damaso</td>\n",
       "      <td>27848280187</td>\n",
       "      <td>204363.0</td>\n",
       "      <td>64.0</td>\n",
       "      <td>2019</td>\n",
       "      <td>TO</td>\n",
       "      <td>PSC</td>\n",
       "      <td>56</td>\n",
       "      <td>999</td>\n",
       "      <td>PASSAGEM AÉREA - RPA</td>\n",
       "      <td>0</td>\n",
       "      <td>NaN</td>\n",
       "      <td>Cia Aérea - GOL</td>\n",
       "      <td>075.756.510/0015-9</td>\n",
       "      <td>Comp-LHCW9F</td>\n",
       "      <td>0</td>\n",
       "      <td>2021-01-12 00:00:00</td>\n",
       "      <td>-160.12</td>\n",
       "      <td>0.0</td>\n",
       "      <td>-160.12</td>\n",
       "      <td>1</td>\n",
       "      <td>2021</td>\n",
       "      <td>0</td>\n",
       "      <td>Osires Damaso</td>\n",
       "      <td>BSB/BSB</td>\n",
       "      <td>0</td>\n",
       "      <td>0.0</td>\n",
       "      <td>NaN</td>\n",
       "      <td>3239</td>\n",
       "      <td>1742262</td>\n",
       "      <td>NaN</td>\n",
       "    </tr>\n",
       "    <tr>\n",
       "      <th>9377</th>\n",
       "      <td>Célio Moura</td>\n",
       "      <td>12364983134</td>\n",
       "      <td>204370.0</td>\n",
       "      <td>62.0</td>\n",
       "      <td>2019</td>\n",
       "      <td>TO</td>\n",
       "      <td>PT</td>\n",
       "      <td>56</td>\n",
       "      <td>998</td>\n",
       "      <td>PASSAGEM AÉREA - SIGEPA</td>\n",
       "      <td>0</td>\n",
       "      <td>NaN</td>\n",
       "      <td>GOL</td>\n",
       "      <td>NaN</td>\n",
       "      <td>KTS78B</td>\n",
       "      <td>0</td>\n",
       "      <td>2021-07-07 12:00:00</td>\n",
       "      <td>1226.47</td>\n",
       "      <td>0.0</td>\n",
       "      <td>-1226.47</td>\n",
       "      <td>7</td>\n",
       "      <td>2021</td>\n",
       "      <td>0</td>\n",
       "      <td>Celio Alves de Moura</td>\n",
       "      <td>BSB/ AUX</td>\n",
       "      <td>0</td>\n",
       "      <td>0.0</td>\n",
       "      <td>NaN</td>\n",
       "      <td>3203</td>\n",
       "      <td>43369</td>\n",
       "      <td>NaN</td>\n",
       "    </tr>\n",
       "  </tbody>\n",
       "</table>\n",
       "<p>1733 rows × 31 columns</p>\n",
       "</div>"
      ],
      "text/plain": [
       "      txNomeParlamentar          cpf  ideCadastro  nuCarteiraParlamentar  \\\n",
       "4         FREIRE JÚNIOR  74022024887      74189.0                  615.0   \n",
       "105   Vicentinho Júnior  99898659149     137070.0                   66.0   \n",
       "106   Vicentinho Júnior  99898659149     137070.0                   66.0   \n",
       "107   Vicentinho Júnior  99898659149     137070.0                   66.0   \n",
       "108   Vicentinho Júnior  99898659149     137070.0                   66.0   \n",
       "...                 ...          ...          ...                    ...   \n",
       "8699      Osires Damaso  27848280187     204363.0                   64.0   \n",
       "8700      Osires Damaso  27848280187     204363.0                   64.0   \n",
       "8701      Osires Damaso  27848280187     204363.0                   64.0   \n",
       "8702      Osires Damaso  27848280187     204363.0                   64.0   \n",
       "9377        Célio Moura  12364983134     204370.0                   62.0   \n",
       "\n",
       "      nuLegislatura sgUF sgPartido  codLegislatura  numSubCota  \\\n",
       "4              2015   TO       MDB              55           9   \n",
       "105            2019   TO        PL              56         999   \n",
       "106            2019   TO        PL              56         999   \n",
       "107            2019   TO        PL              56         999   \n",
       "108            2019   TO        PL              56         999   \n",
       "...             ...  ...       ...             ...         ...   \n",
       "8699           2019   TO       PSC              56         998   \n",
       "8700           2019   TO       PSC              56         998   \n",
       "8701           2019   TO       PSC              56         998   \n",
       "8702           2019   TO       PSC              56         999   \n",
       "9377           2019   TO        PT              56         998   \n",
       "\n",
       "                    txtDescricao  numEspecificacaoSubCota  \\\n",
       "4     PASSAGEM AÉREA - REEMBOLSO                        0   \n",
       "105         PASSAGEM AÉREA - RPA                        0   \n",
       "106         PASSAGEM AÉREA - RPA                        0   \n",
       "107         PASSAGEM AÉREA - RPA                        0   \n",
       "108         PASSAGEM AÉREA - RPA                        0   \n",
       "...                          ...                      ...   \n",
       "8699     PASSAGEM AÉREA - SIGEPA                        0   \n",
       "8700     PASSAGEM AÉREA - SIGEPA                        0   \n",
       "8701     PASSAGEM AÉREA - SIGEPA                        0   \n",
       "8702        PASSAGEM AÉREA - RPA                        0   \n",
       "9377     PASSAGEM AÉREA - SIGEPA                        0   \n",
       "\n",
       "     txtDescricaoEspecificacao          txtFornecedor          txtCNPJCPF  \\\n",
       "4                          NaN  GOL LINHAS AÉREAS S.A  075.756.510/0015-9   \n",
       "105                        NaN        Cia Aérea - GOL  075.756.510/0015-9   \n",
       "106                        NaN        Cia Aérea - GOL  075.756.510/0015-9   \n",
       "107                        NaN        Cia Aérea - GOL  075.756.510/0015-9   \n",
       "108                        NaN        Cia Aérea - GOL  075.756.510/0015-9   \n",
       "...                        ...                    ...                 ...   \n",
       "8699                       NaN                    GOL                 NaN   \n",
       "8700                       NaN                    GOL                 NaN   \n",
       "8701                       NaN                    GOL                 NaN   \n",
       "8702                       NaN        Cia Aérea - GOL  075.756.510/0015-9   \n",
       "9377                       NaN                    GOL                 NaN   \n",
       "\n",
       "            txtNumero  indTipoDocumento          datEmissao  vlrDocumento  \\\n",
       "4      12700389644873                 0 2019-01-08 00:00:00       1829.39   \n",
       "105   Bilhete: AMSI3A                 0 2019-07-05 00:00:00        560.79   \n",
       "106   Bilhete: AP4I8X                 0 2019-10-04 00:00:00        396.79   \n",
       "107   Bilhete: APESQX                 0 2019-05-08 00:00:00        894.39   \n",
       "108   Bilhete: APESQX                 0 2019-05-28 00:00:00        847.00   \n",
       "...               ...               ...                 ...           ...   \n",
       "8699           ZLN37M                 0 2021-03-26 12:00:00         27.16   \n",
       "8700           ZWYRHW                 0 2021-07-05 12:00:00         50.00   \n",
       "8701           ZWYRHW                 0 2021-07-05 12:00:00       1558.70   \n",
       "8702      Comp-LHCW9F                 0 2021-01-12 00:00:00       -160.12   \n",
       "9377           KTS78B                 0 2021-07-07 12:00:00       1226.47   \n",
       "\n",
       "      vlrGlosa  vlrLiquido  numMes  numAno  numParcela  \\\n",
       "4          0.0     1829.39       1    2019           0   \n",
       "105        0.0      560.79       7    2019           0   \n",
       "106        0.0      396.79      10    2019           0   \n",
       "107        0.0      894.39       5    2019           0   \n",
       "108        0.0      847.00       5    2019           0   \n",
       "...        ...         ...     ...     ...         ...   \n",
       "8699       0.0       27.16       3    2021           0   \n",
       "8700       0.0      -50.00       7    2021           0   \n",
       "8701       0.0    -1558.70       7    2021           0   \n",
       "8702       0.0     -160.12       1    2021           0   \n",
       "9377       0.0    -1226.47       7    2021           0   \n",
       "\n",
       "                txtPassageiro    txtTrecho  numLote  numRessarcimento  \\\n",
       "4                         NaN          NaN  1554604               NaN   \n",
       "105         Vicentinho Júnior  PMW/BSB/CNF        0               0.0   \n",
       "106         Vicentinho Júnior  PMW/BSB/CNF        0               0.0   \n",
       "107         Vicentinho Júnior      BSB/PMW        0               0.0   \n",
       "108         Vicentinho Júnior      BSB/PMW        0               0.0   \n",
       "...                       ...          ...      ...               ...   \n",
       "8699  Osires Rodrigues Damaso      BSB/BSB        0               0.0   \n",
       "8700  Osires Rodrigues Damaso     PMW/ BSB        0               0.0   \n",
       "8701  Osires Rodrigues Damaso     PMW/ BSB        0               0.0   \n",
       "8702            Osires Damaso      BSB/BSB        0               0.0   \n",
       "9377     Celio Alves de Moura     BSB/ AUX        0               0.0   \n",
       "\n",
       "      vlrRestituicao  nuDeputadoId  ideDocumento  \\\n",
       "4                NaN           496       6739258   \n",
       "105              NaN          3059       1679041   \n",
       "106              NaN          3059       1706899   \n",
       "107              NaN          3059       1668966   \n",
       "108              NaN          3059       1671380   \n",
       "...              ...           ...           ...   \n",
       "8699             NaN          3239         26140   \n",
       "8700             NaN          3239         43014   \n",
       "8701             NaN          3239         43014   \n",
       "8702             NaN          3239       1742262   \n",
       "9377             NaN          3203         43369   \n",
       "\n",
       "                                           urlDocumento  \n",
       "4     https://www.camara.leg.br/cota-parlamentar/doc...  \n",
       "105                                                 NaN  \n",
       "106                                                 NaN  \n",
       "107                                                 NaN  \n",
       "108                                                 NaN  \n",
       "...                                                 ...  \n",
       "8699                                                NaN  \n",
       "8700                                                NaN  \n",
       "8701                                                NaN  \n",
       "8702                                                NaN  \n",
       "9377                                                NaN  \n",
       "\n",
       "[1733 rows x 31 columns]"
      ]
     },
     "execution_count": 86,
     "metadata": {},
     "output_type": "execute_result"
    }
   ],
   "source": [
    "dfto[dfto.txtDescricao.str.contains('PASSAGEM')]"
   ]
  },
  {
   "cell_type": "code",
   "execution_count": 87,
   "metadata": {},
   "outputs": [],
   "source": [
    "tiagoDimas = comCnpj[comCnpj.txNomeParlamentar == 'Tiago Dimas']"
   ]
  },
  {
   "cell_type": "code",
   "execution_count": 88,
   "metadata": {},
   "outputs": [],
   "source": [
    "tiagoDimas = pd.DataFrame({'Thiaguinho_do_exaltasamba_gastou': tiagoDimas.groupby(['numAno', 'numMes'])['vlrDocumento'].sum()})"
   ]
  },
  {
   "cell_type": "code",
   "execution_count": 89,
   "metadata": {},
   "outputs": [
    {
     "data": {
      "text/html": [
       "<div>\n",
       "<style scoped>\n",
       "    .dataframe tbody tr th:only-of-type {\n",
       "        vertical-align: middle;\n",
       "    }\n",
       "\n",
       "    .dataframe tbody tr th {\n",
       "        vertical-align: top;\n",
       "    }\n",
       "\n",
       "    .dataframe thead th {\n",
       "        text-align: right;\n",
       "    }\n",
       "</style>\n",
       "<table border=\"1\" class=\"dataframe\">\n",
       "  <thead>\n",
       "    <tr style=\"text-align: right;\">\n",
       "      <th></th>\n",
       "      <th></th>\n",
       "      <th>Thiaguinho_do_exaltasamba_gastou</th>\n",
       "    </tr>\n",
       "    <tr>\n",
       "      <th>numAno</th>\n",
       "      <th>numMes</th>\n",
       "      <th></th>\n",
       "    </tr>\n",
       "  </thead>\n",
       "  <tbody>\n",
       "    <tr>\n",
       "      <th rowspan=\"5\" valign=\"top\">2019</th>\n",
       "      <th>4</th>\n",
       "      <td>44436.69</td>\n",
       "    </tr>\n",
       "    <tr>\n",
       "      <th>5</th>\n",
       "      <td>51937.59</td>\n",
       "    </tr>\n",
       "    <tr>\n",
       "      <th>6</th>\n",
       "      <td>41822.97</td>\n",
       "    </tr>\n",
       "    <tr>\n",
       "      <th>8</th>\n",
       "      <td>62784.54</td>\n",
       "    </tr>\n",
       "    <tr>\n",
       "      <th>10</th>\n",
       "      <td>45420.77</td>\n",
       "    </tr>\n",
       "    <tr>\n",
       "      <th rowspan=\"2\" valign=\"top\">2020</th>\n",
       "      <th>9</th>\n",
       "      <td>60564.77</td>\n",
       "    </tr>\n",
       "    <tr>\n",
       "      <th>12</th>\n",
       "      <td>74940.13</td>\n",
       "    </tr>\n",
       "    <tr>\n",
       "      <th>2021</th>\n",
       "      <th>6</th>\n",
       "      <td>51650.27</td>\n",
       "    </tr>\n",
       "  </tbody>\n",
       "</table>\n",
       "</div>"
      ],
      "text/plain": [
       "               Thiaguinho_do_exaltasamba_gastou\n",
       "numAno numMes                                  \n",
       "2019   4                               44436.69\n",
       "       5                               51937.59\n",
       "       6                               41822.97\n",
       "       8                               62784.54\n",
       "       10                              45420.77\n",
       "2020   9                               60564.77\n",
       "       12                              74940.13\n",
       "2021   6                               51650.27"
      ]
     },
     "execution_count": 89,
     "metadata": {},
     "output_type": "execute_result"
    }
   ],
   "source": [
    "tiagoDimas[tiagoDimas['Thiaguinho_do_exaltasamba_gastou'] > 39503.61]"
   ]
  },
  {
   "cell_type": "code",
   "execution_count": 90,
   "metadata": {},
   "outputs": [],
   "source": [
    "y = comCnpj[comCnpj['txtCNPJCPF'].str.contains('000')]"
   ]
  },
  {
   "cell_type": "code",
   "execution_count": 91,
   "metadata": {},
   "outputs": [],
   "source": [
    "h = pd.DataFrame({'cnpj' : y.groupby(['txtCNPJCPF'])['txNomeParlamentar'].count()}).reset_index()"
   ]
  },
  {
   "cell_type": "code",
   "execution_count": 92,
   "metadata": {},
   "outputs": [
    {
     "name": "stderr",
     "output_type": "stream",
     "text": [
      "<ipython-input-92-41f7cf28d537>:2: SettingWithCopyWarning: \n",
      "A value is trying to be set on a copy of a slice from a DataFrame.\n",
      "Try using .loc[row_indexer,col_indexer] = value instead\n",
      "\n",
      "See the caveats in the documentation: https://pandas.pydata.org/pandas-docs/stable/user_guide/indexing.html#returning-a-view-versus-a-copy\n",
      "  semCnpj['dadosCompCNPJ'] = semCnpj['txtCNPJCPF'].apply(lambda x: js.loads(requests.get(f\"https://minhareceita.org/{x}\").content))\n"
     ]
    }
   ],
   "source": [
    "#Atribuímos o retorno do get no formado json à nova coluna dados_CNPJ em nosso dataframe do groupby\n",
    "semCnpj['dadosCompCNPJ'] = semCnpj['txtCNPJCPF'].apply(lambda x: js.loads(requests.get(f\"https://minhareceita.org/{x}\").content))"
   ]
  },
  {
   "cell_type": "code",
   "execution_count": 93,
   "metadata": {},
   "outputs": [],
   "source": [
    "x2 = pd.DataFrame(list(semCnpj['dadosCompCNPJ']))"
   ]
  },
  {
   "cell_type": "code",
   "execution_count": 94,
   "metadata": {},
   "outputs": [
    {
     "data": {
      "text/html": [
       "<div>\n",
       "<style scoped>\n",
       "    .dataframe tbody tr th:only-of-type {\n",
       "        vertical-align: middle;\n",
       "    }\n",
       "\n",
       "    .dataframe tbody tr th {\n",
       "        vertical-align: top;\n",
       "    }\n",
       "\n",
       "    .dataframe thead th {\n",
       "        text-align: right;\n",
       "    }\n",
       "</style>\n",
       "<table border=\"1\" class=\"dataframe\">\n",
       "  <thead>\n",
       "    <tr style=\"text-align: right;\">\n",
       "      <th></th>\n",
       "      <th>message</th>\n",
       "    </tr>\n",
       "  </thead>\n",
       "  <tbody>\n",
       "    <tr>\n",
       "      <th>0</th>\n",
       "      <td>CNPJ nan inválido.</td>\n",
       "    </tr>\n",
       "    <tr>\n",
       "      <th>1</th>\n",
       "      <td>CNPJ nan inválido.</td>\n",
       "    </tr>\n",
       "    <tr>\n",
       "      <th>2</th>\n",
       "      <td>CNPJ nan inválido.</td>\n",
       "    </tr>\n",
       "    <tr>\n",
       "      <th>3</th>\n",
       "      <td>CNPJ nan inválido.</td>\n",
       "    </tr>\n",
       "    <tr>\n",
       "      <th>4</th>\n",
       "      <td>CNPJ nan inválido.</td>\n",
       "    </tr>\n",
       "    <tr>\n",
       "      <th>...</th>\n",
       "      <td>...</td>\n",
       "    </tr>\n",
       "    <tr>\n",
       "      <th>469</th>\n",
       "      <td>CNPJ nan inválido.</td>\n",
       "    </tr>\n",
       "    <tr>\n",
       "      <th>470</th>\n",
       "      <td>CNPJ nan inválido.</td>\n",
       "    </tr>\n",
       "    <tr>\n",
       "      <th>471</th>\n",
       "      <td>CNPJ nan inválido.</td>\n",
       "    </tr>\n",
       "    <tr>\n",
       "      <th>472</th>\n",
       "      <td>CNPJ nan inválido.</td>\n",
       "    </tr>\n",
       "    <tr>\n",
       "      <th>473</th>\n",
       "      <td>CNPJ nan inválido.</td>\n",
       "    </tr>\n",
       "  </tbody>\n",
       "</table>\n",
       "<p>474 rows × 1 columns</p>\n",
       "</div>"
      ],
      "text/plain": [
       "                message\n",
       "0    CNPJ nan inválido.\n",
       "1    CNPJ nan inválido.\n",
       "2    CNPJ nan inválido.\n",
       "3    CNPJ nan inválido.\n",
       "4    CNPJ nan inválido.\n",
       "..                  ...\n",
       "469  CNPJ nan inválido.\n",
       "470  CNPJ nan inválido.\n",
       "471  CNPJ nan inválido.\n",
       "472  CNPJ nan inválido.\n",
       "473  CNPJ nan inválido.\n",
       "\n",
       "[474 rows x 1 columns]"
      ]
     },
     "execution_count": 94,
     "metadata": {},
     "output_type": "execute_result"
    }
   ],
   "source": [
    "x2"
   ]
  },
  {
   "cell_type": "code",
   "execution_count": 95,
   "metadata": {},
   "outputs": [],
   "source": [
    "#Atribuímos o retorno do get no formado json à nova coluna dados_CNPJ em nosso dataframe do groupby\n",
    "h['hhhhh'] = h['txtCNPJCPF'].apply(lambda x: js.loads(requests.get(f\"https://minhareceita.org/{x}\").content))"
   ]
  },
  {
   "cell_type": "code",
   "execution_count": 96,
   "metadata": {},
   "outputs": [],
   "source": [
    "h['hhhhh'].get('message')"
   ]
  },
  {
   "cell_type": "code",
   "execution_count": 97,
   "metadata": {},
   "outputs": [
    {
     "ename": "KeyError",
     "evalue": "'message'",
     "output_type": "error",
     "traceback": [
      "\u001b[1;31m---------------------------------------------------------------------------\u001b[0m",
      "\u001b[1;31mKeyError\u001b[0m                                  Traceback (most recent call last)",
      "\u001b[1;32m<ipython-input-97-ffe9b2b75ef1>\u001b[0m in \u001b[0;36m<module>\u001b[1;34m\u001b[0m\n\u001b[1;32m----> 1\u001b[1;33m \u001b[0mh\u001b[0m\u001b[1;33m[\u001b[0m\u001b[1;34m'aqui'\u001b[0m\u001b[1;33m]\u001b[0m \u001b[1;33m=\u001b[0m \u001b[1;33m[\u001b[0m\u001b[0mh\u001b[0m\u001b[1;33m[\u001b[0m\u001b[1;34m'hhhhh'\u001b[0m\u001b[1;33m]\u001b[0m\u001b[1;33m[\u001b[0m\u001b[0mb\u001b[0m\u001b[1;33m]\u001b[0m\u001b[1;33m[\u001b[0m\u001b[1;34m'message'\u001b[0m\u001b[1;33m]\u001b[0m \u001b[1;32mfor\u001b[0m \u001b[0mb\u001b[0m \u001b[1;32min\u001b[0m \u001b[0mrange\u001b[0m\u001b[1;33m(\u001b[0m\u001b[0mh\u001b[0m\u001b[1;33m.\u001b[0m\u001b[0mshape\u001b[0m\u001b[1;33m[\u001b[0m\u001b[1;36m0\u001b[0m\u001b[1;33m]\u001b[0m\u001b[1;33m)\u001b[0m\u001b[1;33m]\u001b[0m\u001b[1;33m\u001b[0m\u001b[1;33m\u001b[0m\u001b[0m\n\u001b[0m",
      "\u001b[1;32m<ipython-input-97-ffe9b2b75ef1>\u001b[0m in \u001b[0;36m<listcomp>\u001b[1;34m(.0)\u001b[0m\n\u001b[1;32m----> 1\u001b[1;33m \u001b[0mh\u001b[0m\u001b[1;33m[\u001b[0m\u001b[1;34m'aqui'\u001b[0m\u001b[1;33m]\u001b[0m \u001b[1;33m=\u001b[0m \u001b[1;33m[\u001b[0m\u001b[0mh\u001b[0m\u001b[1;33m[\u001b[0m\u001b[1;34m'hhhhh'\u001b[0m\u001b[1;33m]\u001b[0m\u001b[1;33m[\u001b[0m\u001b[0mb\u001b[0m\u001b[1;33m]\u001b[0m\u001b[1;33m[\u001b[0m\u001b[1;34m'message'\u001b[0m\u001b[1;33m]\u001b[0m \u001b[1;32mfor\u001b[0m \u001b[0mb\u001b[0m \u001b[1;32min\u001b[0m \u001b[0mrange\u001b[0m\u001b[1;33m(\u001b[0m\u001b[0mh\u001b[0m\u001b[1;33m.\u001b[0m\u001b[0mshape\u001b[0m\u001b[1;33m[\u001b[0m\u001b[1;36m0\u001b[0m\u001b[1;33m]\u001b[0m\u001b[1;33m)\u001b[0m\u001b[1;33m]\u001b[0m\u001b[1;33m\u001b[0m\u001b[1;33m\u001b[0m\u001b[0m\n\u001b[0m",
      "\u001b[1;31mKeyError\u001b[0m: 'message'"
     ]
    }
   ],
   "source": [
    "h['aqui'] = [h['hhhhh'][b]['message'] for b in range(h.shape[0])]"
   ]
  },
  {
   "cell_type": "code",
   "execution_count": null,
   "metadata": {},
   "outputs": [],
   "source": [
    "h['hhhhh'].apply(lambda x: x['message'] if x.str.contains('message') else 'Nops')"
   ]
  },
  {
   "cell_type": "code",
   "execution_count": null,
   "metadata": {},
   "outputs": [],
   "source": [
    "h['status'] = [h['hhhhh'][b]['message'] for b in range(h.shape[0])]\n",
    "vv = comCnpj[comCnpj['txtCNPJCPF'].str.contains('000')]\n",
    "\n",
    "isApproved = True if approved == True else False"
   ]
  },
  {
   "cell_type": "code",
   "execution_count": null,
   "metadata": {},
   "outputs": [],
   "source": [
    "h"
   ]
  },
  {
   "cell_type": "code",
   "execution_count": null,
   "metadata": {},
   "outputs": [],
   "source": []
  }
 ],
 "metadata": {
  "colab": {
   "collapsed_sections": [],
   "include_colab_link": true,
   "name": "notebook1.ipynb",
   "provenance": []
  },
  "interpreter": {
   "hash": "1899763f7b86cc3880a639718ab7c3bc6becf25acf3b993d363e255dc1991165"
  },
  "kernelspec": {
   "display_name": "Python 3",
   "language": "python",
   "name": "python3"
  },
  "language_info": {
   "codemirror_mode": {
    "name": "ipython",
    "version": 3
   },
   "file_extension": ".py",
   "mimetype": "text/x-python",
   "name": "python",
   "nbconvert_exporter": "python",
   "pygments_lexer": "ipython3",
   "version": "3.8.8"
  }
 },
 "nbformat": 4,
 "nbformat_minor": 1
}
